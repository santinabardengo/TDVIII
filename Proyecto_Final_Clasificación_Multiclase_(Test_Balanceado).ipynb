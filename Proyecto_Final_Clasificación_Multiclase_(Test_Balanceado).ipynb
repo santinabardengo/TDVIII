{
  "nbformat": 4,
  "nbformat_minor": 0,
  "metadata": {
    "colab": {
      "provenance": [],
      "gpuType": "T4",
      "authorship_tag": "ABX9TyN92/ypx973Xou7fsnZ6p3P",
      "include_colab_link": true
    },
    "kernelspec": {
      "name": "python3",
      "display_name": "Python 3"
    },
    "language_info": {
      "name": "python"
    },
    "accelerator": "GPU"
  },
  "cells": [
    {
      "cell_type": "markdown",
      "metadata": {
        "id": "view-in-github",
        "colab_type": "text"
      },
      "source": [
        "<a href=\"https://colab.research.google.com/github/santinabardengo/TDVIII/blob/main/Proyecto_Final_Clasificaci%C3%B3n_Multiclase_(Test_Balanceado).ipynb\" target=\"_parent\"><img src=\"https://colab.research.google.com/assets/colab-badge.svg\" alt=\"Open In Colab\"/></a>"
      ]
    },
    {
      "cell_type": "code",
      "execution_count": null,
      "metadata": {
        "id": "gpjX9J-PuDMi",
        "colab": {
          "base_uri": "https://localhost:8080/"
        },
        "outputId": "dd2c6cfd-93c3-4329-9448-3e629f7f729a"
      },
      "outputs": [
        {
          "output_type": "stream",
          "name": "stdout",
          "text": [
            "  Preparing metadata (setup.py) ... \u001b[?25l\u001b[?25hdone\n",
            "  Building wheel for efficientnet_pytorch (setup.py) ... \u001b[?25l\u001b[?25hdone\n"
          ]
        }
      ],
      "source": [
        "!pip install -q efficientnet_pytorch\n",
        "!pip install -Uq wandb"
      ]
    },
    {
      "cell_type": "code",
      "source": [
        "import pandas as pd\n",
        "import torch\n",
        "from efficientnet_pytorch import EfficientNet\n",
        "from torch.utils.data import Dataset, DataLoader, random_split\n",
        "import torch.nn.functional as F\n",
        "import torch.nn as nn\n",
        "import copy\n",
        "from torchsummary import summary\n",
        "from tqdm import tqdm\n",
        "import os\n",
        "from sklearn.model_selection import train_test_split\n",
        "import numpy as np\n",
        "import torchvision.transforms as T\n",
        "from PIL import Image\n",
        "from torchvision import transforms\n",
        "import wandb\n",
        "import torch.optim as optim\n",
        "from sklearn.metrics import confusion_matrix\n",
        "import seaborn as sns\n",
        "import matplotlib.pyplot as plt\n",
        "import random\n",
        "import cv2"
      ],
      "metadata": {
        "id": "d7VIgWn3uHKO"
      },
      "execution_count": null,
      "outputs": []
    },
    {
      "cell_type": "code",
      "source": [
        "torch.manual_seed(162829)\n",
        "if torch.cuda.is_available():\n",
        "    torch.cuda.manual_seed(162829)"
      ],
      "metadata": {
        "id": "pzPo7i-tudAQ"
      },
      "execution_count": null,
      "outputs": []
    },
    {
      "cell_type": "markdown",
      "source": [
        "Wandb key: fd005b43ba216e7f8c0272801c9004c946bef281"
      ],
      "metadata": {
        "id": "32DSed18wlQ4"
      }
    },
    {
      "cell_type": "code",
      "source": [
        "wandb.login()"
      ],
      "metadata": {
        "colab": {
          "base_uri": "https://localhost:8080/",
          "height": 88
        },
        "id": "hTz2gERPuINC",
        "outputId": "803e5a2f-0ae9-4ae9-d76c-68e3b3bd0ac1"
      },
      "execution_count": null,
      "outputs": [
        {
          "output_type": "stream",
          "name": "stderr",
          "text": [
            "\u001b[34m\u001b[1mwandb\u001b[0m: Using wandb-core as the SDK backend.  Please refer to https://wandb.me/wandb-core for more information.\n"
          ]
        },
        {
          "output_type": "display_data",
          "data": {
            "text/plain": [
              "<IPython.core.display.Javascript object>"
            ],
            "application/javascript": [
              "\n",
              "        window._wandbApiKey = new Promise((resolve, reject) => {\n",
              "            function loadScript(url) {\n",
              "            return new Promise(function(resolve, reject) {\n",
              "                let newScript = document.createElement(\"script\");\n",
              "                newScript.onerror = reject;\n",
              "                newScript.onload = resolve;\n",
              "                document.body.appendChild(newScript);\n",
              "                newScript.src = url;\n",
              "            });\n",
              "            }\n",
              "            loadScript(\"https://cdn.jsdelivr.net/npm/postmate/build/postmate.min.js\").then(() => {\n",
              "            const iframe = document.createElement('iframe')\n",
              "            iframe.style.cssText = \"width:0;height:0;border:none\"\n",
              "            document.body.appendChild(iframe)\n",
              "            const handshake = new Postmate({\n",
              "                container: iframe,\n",
              "                url: 'https://wandb.ai/authorize'\n",
              "            });\n",
              "            const timeout = setTimeout(() => reject(\"Couldn't auto authenticate\"), 5000)\n",
              "            handshake.then(function(child) {\n",
              "                child.on('authorize', data => {\n",
              "                    clearTimeout(timeout)\n",
              "                    resolve(data)\n",
              "                });\n",
              "            });\n",
              "            })\n",
              "        });\n",
              "    "
            ]
          },
          "metadata": {}
        },
        {
          "output_type": "stream",
          "name": "stderr",
          "text": [
            "\u001b[34m\u001b[1mwandb\u001b[0m: Appending key for api.wandb.ai to your netrc file: /root/.netrc\n"
          ]
        },
        {
          "output_type": "execute_result",
          "data": {
            "text/plain": [
              "True"
            ]
          },
          "metadata": {},
          "execution_count": 4
        }
      ]
    },
    {
      "cell_type": "markdown",
      "source": [
        "Conectamos el entorno a Google Drive"
      ],
      "metadata": {
        "id": "tY93QRSQIppg"
      }
    },
    {
      "cell_type": "code",
      "source": [
        "from google.colab import drive\n",
        "drive.mount('/content/drive/')"
      ],
      "metadata": {
        "colab": {
          "base_uri": "https://localhost:8080/"
        },
        "id": "QaosFEAQuKif",
        "outputId": "55b54503-a37f-4cb1-a60b-0ed7610ea78e"
      },
      "execution_count": null,
      "outputs": [
        {
          "output_type": "stream",
          "name": "stdout",
          "text": [
            "Mounted at /content/drive/\n"
          ]
        }
      ]
    },
    {
      "cell_type": "code",
      "source": [
        "train_data_prov = pd.read_csv('/content/drive/MyDrive/Datos/train_multiclass_relabeled.csv')\n",
        "test_data_prov = pd.read_csv('/content/drive/MyDrive/Datos/test_multiclass_relabeled.csv')"
      ],
      "metadata": {
        "id": "ovDTvqXTueY_"
      },
      "execution_count": null,
      "outputs": []
    },
    {
      "cell_type": "markdown",
      "source": [
        "### Balanceo de clases en test para tener únicamente **cuatro** muestras de cada clase"
      ],
      "metadata": {
        "id": "Hz9mBAsgIwRS"
      }
    },
    {
      "cell_type": "markdown",
      "source": [
        "#### Distribución de clases"
      ],
      "metadata": {
        "id": "WdvPc8h2I9W9"
      }
    },
    {
      "cell_type": "code",
      "source": [
        "train_data = pd.read_csv(\"/content/drive/MyDrive/Datos/train_multiclass_testBalanced_data.csv\")\n",
        "test_data = pd.read_csv(\"/content/drive/MyDrive/Datos/test_multiclass_testBalanced_data.csv\")"
      ],
      "metadata": {
        "id": "8wSKrSuExglY"
      },
      "execution_count": null,
      "outputs": []
    },
    {
      "cell_type": "code",
      "source": [
        "fig, axes = plt.subplots(1, 2, figsize=(15, 5))\n",
        "\n",
        "sns.countplot(data=train_data_prov, x='label', palette='viridis', ax=axes[0])\n",
        "axes[0].set_title('Distribución de clases en el conjunto de entrenamiento original')\n",
        "axes[0].set_xlabel('Clase')\n",
        "axes[0].set_ylabel('Cantidad')\n",
        "\n",
        "sns.countplot(data=train_data, x='label', palette='viridis', ax=axes[1])\n",
        "axes[1].set_title('Distribución de labels en el conjunto de entrenamiento luego de balancear el test')\n",
        "axes[1].set_xlabel('Clase')\n",
        "axes[1].set_ylabel('Cantidad')\n",
        "\n",
        "plt.tight_layout()\n",
        "plt.show()"
      ],
      "metadata": {
        "colab": {
          "base_uri": "https://localhost:8080/",
          "height": 657
        },
        "id": "mpCweGlMJlVP",
        "outputId": "ba96743f-733d-466f-e460-7ccb019e2399"
      },
      "execution_count": null,
      "outputs": [
        {
          "output_type": "stream",
          "name": "stderr",
          "text": [
            "<ipython-input-8-ac9921688fb6>:3: FutureWarning: \n",
            "\n",
            "Passing `palette` without assigning `hue` is deprecated and will be removed in v0.14.0. Assign the `x` variable to `hue` and set `legend=False` for the same effect.\n",
            "\n",
            "  sns.countplot(data=train_data_prov, x='label', palette='viridis', ax=axes[0])\n",
            "<ipython-input-8-ac9921688fb6>:8: FutureWarning: \n",
            "\n",
            "Passing `palette` without assigning `hue` is deprecated and will be removed in v0.14.0. Assign the `x` variable to `hue` and set `legend=False` for the same effect.\n",
            "\n",
            "  sns.countplot(data=train_data, x='label', palette='viridis', ax=axes[1])\n"
          ]
        },
        {
          "output_type": "display_data",
          "data": {
            "text/plain": [
              "<Figure size 1500x500 with 2 Axes>"
            ],
            "image/png": "[encoded data removed]"
          },
          "metadata": {}
        }
      ]
    },
    {
      "cell_type": "code",
      "source": [
        "fig, axes = plt.subplots(1, 2, figsize=(15, 5))\n",
        "\n",
        "sns.countplot(data=test_data_prov, x='label', palette='plasma', ax=axes[0])\n",
        "axes[0].set_title('Distribución de clases en el conjunto de test no balanceado')\n",
        "axes[0].set_xlabel('Clase')\n",
        "axes[0].set_ylabel('Cantidad')\n",
        "\n",
        "sns.countplot(data=test_data, x='label', palette='plasma', ax=axes[1])\n",
        "axes[1].set_title('Distribución de labels en el conjunto de test balanceado')\n",
        "axes[1].set_xlabel('Clase')\n",
        "axes[1].set_ylabel('Cantidad')\n",
        "\n",
        "plt.tight_layout()\n",
        "plt.show()"
      ],
      "metadata": {
        "colab": {
          "base_uri": "https://localhost:8080/",
          "height": 659
        },
        "id": "y4P_GAdGJk80",
        "outputId": "e2a96443-8f8f-4e10-c9b8-64bca729ae2f"
      },
      "execution_count": null,
      "outputs": [
        {
          "output_type": "stream",
          "name": "stderr",
          "text": [
            "<ipython-input-9-4f071c333219>:3: FutureWarning: \n",
            "\n",
            "Passing `palette` without assigning `hue` is deprecated and will be removed in v0.14.0. Assign the `x` variable to `hue` and set `legend=False` for the same effect.\n",
            "\n",
            "  sns.countplot(data=test_data_prov, x='label', palette='plasma', ax=axes[0])\n",
            "<ipython-input-9-4f071c333219>:8: FutureWarning: \n",
            "\n",
            "Passing `palette` without assigning `hue` is deprecated and will be removed in v0.14.0. Assign the `x` variable to `hue` and set `legend=False` for the same effect.\n",
            "\n",
            "  sns.countplot(data=test_data, x='label', palette='plasma', ax=axes[1])\n"
          ]
        },
        {
          "output_type": "display_data",
          "data": {
            "text/plain": [
              "<Figure size 1500x500 with 2 Axes>"
            ],
            "image/png": "[encoded data removed]"
          },
          "metadata": {}
        }
      ]
    },
    {
      "cell_type": "code",
      "source": [
        "device = torch.device('cuda:0' if torch.cuda.is_available() else 'cpu')"
      ],
      "metadata": {
        "id": "1QzVnv3zuMib"
      },
      "execution_count": null,
      "outputs": []
    },
    {
      "cell_type": "markdown",
      "source": [
        "Cargamos los modelos EfficientNet preentrenados junto con el tamaño de imagen que le corresponde a cada uno según su versión"
      ],
      "metadata": {
        "id": "IvfQUDEzJyHF"
      }
    },
    {
      "cell_type": "code",
      "source": [
        "models = {\n",
        "    \"EfficientNet-b0\": EfficientNet.from_pretrained('efficientnet-b0'),\n",
        "    \"EfficientNet-b1\": EfficientNet.from_pretrained('efficientnet-b1'),\n",
        "    \"EfficientNet-b2\": EfficientNet.from_pretrained('efficientnet-b2'),\n",
        "    \"EfficientNet-b3\": EfficientNet.from_pretrained('efficientnet-b3'),\n",
        "    \"EfficientNet-b3\": EfficientNet.from_pretrained('efficientnet-b4'),\n",
        "}\n",
        "\n",
        "image_sizes = {\n",
        "    \"EfficientNet-b0\": 224,\n",
        "    \"EfficientNet-b1\": 240,\n",
        "    \"EfficientNet-b2\": 260,\n",
        "    'EfficientNet-b3': 300,\n",
        "    'EfficientNet-b4': 380,\n",
        "}"
      ],
      "metadata": {
        "colab": {
          "base_uri": "https://localhost:8080/"
        },
        "id": "1AEkGeRnuOHp",
        "outputId": "48810872-9124-4d26-f9a6-db713c832d2e"
      },
      "execution_count": null,
      "outputs": [
        {
          "output_type": "stream",
          "name": "stderr",
          "text": [
            "Downloading: \"https://github.com/lukemelas/EfficientNet-PyTorch/releases/download/1.0/efficientnet-b0-355c32eb.pth\" to /root/.cache/torch/hub/checkpoints/efficientnet-b0-355c32eb.pth\n",
            "100%|██████████| 20.4M/20.4M [00:00<00:00, 161MB/s]\n"
          ]
        },
        {
          "output_type": "stream",
          "name": "stdout",
          "text": [
            "Loaded pretrained weights for efficientnet-b0\n"
          ]
        },
        {
          "output_type": "stream",
          "name": "stderr",
          "text": [
            "Downloading: \"https://github.com/lukemelas/EfficientNet-PyTorch/releases/download/1.0/efficientnet-b1-f1951068.pth\" to /root/.cache/torch/hub/checkpoints/efficientnet-b1-f1951068.pth\n",
            "100%|██████████| 30.1M/30.1M [00:00<00:00, 97.3MB/s]\n"
          ]
        },
        {
          "output_type": "stream",
          "name": "stdout",
          "text": [
            "Loaded pretrained weights for efficientnet-b1\n"
          ]
        },
        {
          "output_type": "stream",
          "name": "stderr",
          "text": [
            "Downloading: \"https://github.com/lukemelas/EfficientNet-PyTorch/releases/download/1.0/efficientnet-b2-8bb594d6.pth\" to /root/.cache/torch/hub/checkpoints/efficientnet-b2-8bb594d6.pth\n",
            "100%|██████████| 35.1M/35.1M [00:00<00:00, 113MB/s]\n"
          ]
        },
        {
          "output_type": "stream",
          "name": "stdout",
          "text": [
            "Loaded pretrained weights for efficientnet-b2\n"
          ]
        },
        {
          "output_type": "stream",
          "name": "stderr",
          "text": [
            "Downloading: \"https://github.com/lukemelas/EfficientNet-PyTorch/releases/download/1.0/efficientnet-b3-5fb5a3c3.pth\" to /root/.cache/torch/hub/checkpoints/efficientnet-b3-5fb5a3c3.pth\n",
            "100%|██████████| 47.1M/47.1M [00:00<00:00, 123MB/s]\n"
          ]
        },
        {
          "output_type": "stream",
          "name": "stdout",
          "text": [
            "Loaded pretrained weights for efficientnet-b3\n"
          ]
        },
        {
          "output_type": "stream",
          "name": "stderr",
          "text": [
            "Downloading: \"https://github.com/lukemelas/EfficientNet-PyTorch/releases/download/1.0/efficientnet-b4-6ed6700e.pth\" to /root/.cache/torch/hub/checkpoints/efficientnet-b4-6ed6700e.pth\n",
            "100%|██████████| 74.4M/74.4M [00:00<00:00, 119MB/s]\n"
          ]
        },
        {
          "output_type": "stream",
          "name": "stdout",
          "text": [
            "Loaded pretrained weights for efficientnet-b4\n"
          ]
        }
      ]
    },
    {
      "cell_type": "markdown",
      "source": [
        "###Parámetros del mejor modelo"
      ],
      "metadata": {
        "id": "qdB1CfSaMTvo"
      }
    },
    {
      "cell_type": "code",
      "source": [
        "batch_size = 64\n",
        "learning_rate = 1e-4\n",
        "epochs = 150\n",
        "experiment_name = \"EfficientNetb0\"\n",
        "project_name = \"Multiclass-TestBalanced-PAPModel\"\n",
        "model_name = 'EfficientNet-b0'\n",
        "interpolation_methods = [T.InterpolationMode.NEAREST, T.InterpolationMode.BILINEAR, T.InterpolationMode.BICUBIC]\n",
        "interpolation = 'NearestInterpolation'"
      ],
      "metadata": {
        "id": "WqCUPzEeuOy1"
      },
      "execution_count": null,
      "outputs": []
    },
    {
      "cell_type": "code",
      "source": [
        "images_dir = '/content/drive/MyDrive/Datos/' + model_name + '/' + interpolation + '/'"
      ],
      "metadata": {
        "id": "yv65UKdaxQna"
      },
      "execution_count": null,
      "outputs": []
    },
    {
      "cell_type": "markdown",
      "source": [
        "###Tranformaciones para realizar la aumentación de los datos"
      ],
      "metadata": {
        "id": "_oWXrajFJuKP"
      }
    },
    {
      "cell_type": "code",
      "source": [
        "def image_transformations():\n",
        "\n",
        "    trans = [\n",
        "        transforms.ToTensor(),\n",
        "        transforms.Normalize((0.5, 0.5, 0.5), (0.5, 0.5, 0.5))\n",
        "    ]\n",
        "\n",
        "    train_trans = [\n",
        "        transforms.RandomRotation(90),\n",
        "        transforms.RandomHorizontalFlip(),\n",
        "        transforms.RandomVerticalFlip(),\n",
        "        transforms.ColorJitter(contrast=0.2, brightness=0.2, saturation=0.2, hue=0.1)\n",
        "    ]\n",
        "\n",
        "    selected_transforms_train = random.sample(train_trans, 2)\n",
        "\n",
        "    train_tfms = T.Compose(trans + selected_transforms_train)\n",
        "    valid_tfms = T.Compose(trans)\n",
        "\n",
        "    return train_tfms, valid_tfms"
      ],
      "metadata": {
        "id": "ybtZY8F0zmd_"
      },
      "execution_count": null,
      "outputs": []
    },
    {
      "cell_type": "code",
      "source": [
        "def encode_label(label: list) -> list:\n",
        "    return torch.tensor([label], dtype=torch.float32)"
      ],
      "metadata": {
        "id": "3E1akdhzzoF4"
      },
      "execution_count": null,
      "outputs": []
    },
    {
      "cell_type": "markdown",
      "source": [
        "####Clase que se encarga de asociar el path de cada imagen a su archivo correspondiente y de realizar las transformaciones a las mismas durante el entrenamiento"
      ],
      "metadata": {
        "id": "LK639-COOQpS"
      }
    },
    {
      "cell_type": "code",
      "source": [
        "class PAPDataset(Dataset):\n",
        "\n",
        "    def __init__(self, df, root_dir, transform):\n",
        "        self.df = df\n",
        "        self.transform = transform\n",
        "        self.root_dir = root_dir\n",
        "        self.use_original_ratio = 0.4\n",
        "\n",
        "    def __len__(self):\n",
        "        return len(self.df)\n",
        "\n",
        "    def __getitem__(self, idx):\n",
        "        row = self.df.loc[idx]\n",
        "        img_fname, img_label = row['image_filename'], row['label']\n",
        "        img = Image.open(self.root_dir + img_fname)\n",
        "\n",
        "        # Random Augmentation\n",
        "        if random.random() > self.use_original_ratio:\n",
        "            img = self.transform(img)\n",
        "        else:\n",
        "            img = transforms.ToTensor()(img)\n",
        "            img = transforms.Normalize((0.5, 0.5, 0.5), (0.5, 0.5, 0.5))(img)\n",
        "\n",
        "        return img, encode_label(img_label)"
      ],
      "metadata": {
        "id": "qzqKiPR6zpcC"
      },
      "execution_count": null,
      "outputs": []
    },
    {
      "cell_type": "markdown",
      "source": [
        "####Funciones para obtener train y test dataloader"
      ],
      "metadata": {
        "id": "4GmC6D5GOaH4"
      }
    },
    {
      "cell_type": "code",
      "source": [
        "def get_train_dl(train_data, batch_size = 16):\n",
        "\n",
        "    np.random.seed(162829)\n",
        "    train_ds, val_ds = train_test_split(train_data, test_size = 0.3, random_state=162829, shuffle=True, stratify= train_data['label'])\n",
        "\n",
        "    train_ds.reset_index(drop=True, inplace=True)\n",
        "    val_ds.reset_index(drop=True, inplace=True)\n",
        "\n",
        "    train_tfms, valid_tfms = image_transformations()\n",
        "\n",
        "    train_ds = PAPDataset(train_ds, images_dir, transform = train_tfms)\n",
        "    val_ds = PAPDataset(val_ds, images_dir, transform = valid_tfms)\n",
        "\n",
        "    train_dl = torch.utils.data.DataLoader(train_ds, batch_size, shuffle=True, num_workers=2)\n",
        "    val_dl = torch.utils.data.DataLoader(val_ds, batch_size, shuffle=True, num_workers=2)\n",
        "\n",
        "    return train_dl, val_dl"
      ],
      "metadata": {
        "id": "CxSExjxMzrHp"
      },
      "execution_count": null,
      "outputs": []
    },
    {
      "cell_type": "code",
      "source": [
        "def get_test_dl(test_data, batch_size = 16):\n",
        "\n",
        "    _, test_tfms = image_transformations()\n",
        "\n",
        "    test_data = PAPDataset(test_data, images_dir, transform = test_tfms)\n",
        "\n",
        "    test_dl = torch.utils.data.DataLoader(test_data, batch_size, num_workers=2)\n",
        "\n",
        "    return test_dl"
      ],
      "metadata": {
        "id": "Xg8TuxWWzsWU"
      },
      "execution_count": null,
      "outputs": []
    },
    {
      "cell_type": "markdown",
      "source": [
        "####Función para calcular las métricas del modelo (accuracy, precision, recall y F1-score)"
      ],
      "metadata": {
        "id": "IoH1zHnvOspE"
      }
    },
    {
      "cell_type": "code",
      "source": [
        "def compute_metrics(TP: torch.Tensor, TN: torch.Tensor, FP: torch.Tensor, FN: torch.Tensor) -> dict:\n",
        "\n",
        "    precision_list = []\n",
        "    recall_list = []\n",
        "    F1_list = []\n",
        "    accuracy_list = []\n",
        "\n",
        "    for i in range(len(TP)):\n",
        "        precision = TP[i] / (TP[i] + FP[i] + 1e-12)\n",
        "        recall = TP[i] / (TP[i] + FN[i] + 1e-12)\n",
        "        F1 = (2 * precision * recall) / (precision + recall + 1e-12)\n",
        "        accuracy = (TP[i] + TN[i]) / (TP[i] + TN[i] + FP[i] + FN[i] + 1e-12)\n",
        "\n",
        "        precision_list.append(precision)\n",
        "        recall_list.append(recall)\n",
        "        F1_list.append(F1)\n",
        "        accuracy_list.append(accuracy)\n",
        "\n",
        "    precision = torch.mean(torch.tensor(precision_list)).item()\n",
        "    recall = torch.mean(torch.tensor(recall_list)).item()\n",
        "    F1 = torch.mean(torch.tensor(F1_list)).item()\n",
        "    accuracy = torch.mean(torch.tensor(accuracy_list)).item()\n",
        "\n",
        "    return {\n",
        "        'accuracy': accuracy,\n",
        "        'precision': precision,\n",
        "        'recall': recall,\n",
        "        'F1': F1,\n",
        "    }"
      ],
      "metadata": {
        "id": "dC7URH3XztdF"
      },
      "execution_count": null,
      "outputs": []
    },
    {
      "cell_type": "markdown",
      "source": [
        "####Función para obtener la matriz de confusión"
      ],
      "metadata": {
        "id": "46ckB8T5OzR-"
      }
    },
    {
      "cell_type": "code",
      "source": [
        "def confusionMatrix(predicted: list, label: list):\n",
        "    plt.figure(figsize=(8, 6))\n",
        "    sns.heatmap(confusion_matrix(label, predicted), cmap='Blues', annot=True, fmt='g')\n",
        "    plt.xlabel('Predicted')\n",
        "    plt.ylabel('Actual')\n",
        "    plt.title('Confusion Matrix')\n",
        "    plt.show()"
      ],
      "metadata": {
        "id": "2Mk7Y9t0zxgM"
      },
      "execution_count": null,
      "outputs": []
    },
    {
      "cell_type": "markdown",
      "source": [
        "###Definimos el modelo a utilizar (modelo EfficientNet preentrenado + FF)"
      ],
      "metadata": {
        "id": "PcyaavX7O4bQ"
      }
    },
    {
      "cell_type": "code",
      "source": [
        "class PAPModel(nn.Module):\n",
        "    def get_sequential(num_ftrs):\n",
        "        linear_layers = nn.Sequential(\n",
        "                nn.BatchNorm1d(num_features=num_ftrs),\n",
        "                nn.Linear(num_ftrs, 1024),\n",
        "                nn.ReLU(),\n",
        "                nn.BatchNorm1d(1024),\n",
        "                nn.Dropout(0.4),\n",
        "                nn.Linear(1024, 256),\n",
        "                nn.ReLU(),\n",
        "                nn.BatchNorm1d(num_features=256),\n",
        "                nn.Dropout(0.4),\n",
        "                nn.Linear(256, 4),\n",
        "            )\n",
        "        return linear_layers\n",
        "\n",
        "    def __init__(self, model_name=None, model=None, input_size=None):\n",
        "        super().__init__()\n",
        "\n",
        "        self.model_name = model_name\n",
        "        self.model = copy.deepcopy(model)\n",
        "        self.IS = input_size\n",
        "\n",
        "        self.num_ftrs = self.model._fc.in_features\n",
        "        self.model._fc = PAPModel.get_sequential(self.num_ftrs)\n",
        "\n",
        "    def forward(self, xb):\n",
        "        return self.model(xb)\n",
        "\n",
        "    # Función para congelar los parámetros del modelo preentrenado\n",
        "    def freeze(self):\n",
        "        for param in self.model.parameters():\n",
        "            param.requires_grad = False\n",
        "\n",
        "        for param in self.model._fc.parameters():\n",
        "            param.requires_grad = True\n",
        "\n",
        "    def unfreeze(self):\n",
        "        for param in self.model.parameters():\n",
        "            param.requires_grad = True\n",
        "\n",
        "model = PAPModel(model_name, models[model_name], image_sizes[model_name])\n",
        "model.to(device)"
      ],
      "metadata": {
        "colab": {
          "base_uri": "https://localhost:8080/"
        },
        "id": "UJ8dMDsbzyrK",
        "outputId": "dd548f60-23e6-406d-b121-e49e91704493",
        "collapsed": true
      },
      "execution_count": null,
      "outputs": [
        {
          "output_type": "execute_result",
          "data": {
            "text/plain": [
              "PAPModel(\n",
              "  (model): EfficientNet(\n",
              "    (_conv_stem): Conv2dStaticSamePadding(\n",
              "      3, 32, kernel_size=(3, 3), stride=(2, 2), bias=False\n",
              "      (static_padding): ZeroPad2d((0, 1, 0, 1))\n",
              "    )\n",
              "    (_bn0): BatchNorm2d(32, eps=0.001, momentum=0.010000000000000009, affine=True, track_running_stats=True)\n",
              "    (_blocks): ModuleList(\n",
              "      (0): MBConvBlock(\n",
              "        (_depthwise_conv): Conv2dStaticSamePadding(\n",
              "          32, 32, kernel_size=(3, 3), stride=[1, 1], groups=32, bias=False\n",
              "          (static_padding): ZeroPad2d((1, 1, 1, 1))\n",
              "        )\n",
              "        (_bn1): BatchNorm2d(32, eps=0.001, momentum=0.010000000000000009, affine=True, track_running_stats=True)\n",
              "        (_se_reduce): Conv2dStaticSamePadding(\n",
              "          32, 8, kernel_size=(1, 1), stride=(1, 1)\n",
              "          (static_padding): Identity()\n",
              "        )\n",
              "        (_se_expand): Conv2dStaticSamePadding(\n",
              "          8, 32, kernel_size=(1, 1), stride=(1, 1)\n",
              "          (static_padding): Identity()\n",
              "        )\n",
              "        (_project_conv): Conv2dStaticSamePadding(\n",
              "          32, 16, kernel_size=(1, 1), stride=(1, 1), bias=False\n",
              "          (static_padding): Identity()\n",
              "        )\n",
              "        (_bn2): BatchNorm2d(16, eps=0.001, momentum=0.010000000000000009, affine=True, track_running_stats=True)\n",
              "        (_swish): MemoryEfficientSwish()\n",
              "      )\n",
              "      (1): MBConvBlock(\n",
              "        (_expand_conv): Conv2dStaticSamePadding(\n",
              "          16, 96, kernel_size=(1, 1), stride=(1, 1), bias=False\n",
              "          (static_padding): Identity()\n",
              "        )\n",
              "        (_bn0): BatchNorm2d(96, eps=0.001, momentum=0.010000000000000009, affine=True, track_running_stats=True)\n",
              "        (_depthwise_conv): Conv2dStaticSamePadding(\n",
              "          96, 96, kernel_size=(3, 3), stride=[2, 2], groups=96, bias=False\n",
              "          (static_padding): ZeroPad2d((0, 1, 0, 1))\n",
              "        )\n",
              "        (_bn1): BatchNorm2d(96, eps=0.001, momentum=0.010000000000000009, affine=True, track_running_stats=True)\n",
              "        (_se_reduce): Conv2dStaticSamePadding(\n",
              "          96, 4, kernel_size=(1, 1), stride=(1, 1)\n",
              "          (static_padding): Identity()\n",
              "        )\n",
              "        (_se_expand): Conv2dStaticSamePadding(\n",
              "          4, 96, kernel_size=(1, 1), stride=(1, 1)\n",
              "          (static_padding): Identity()\n",
              "        )\n",
              "        (_project_conv): Conv2dStaticSamePadding(\n",
              "          96, 24, kernel_size=(1, 1), stride=(1, 1), bias=False\n",
              "          (static_padding): Identity()\n",
              "        )\n",
              "        (_bn2): BatchNorm2d(24, eps=0.001, momentum=0.010000000000000009, affine=True, track_running_stats=True)\n",
              "        (_swish): MemoryEfficientSwish()\n",
              "      )\n",
              "      (2): MBConvBlock(\n",
              "        (_expand_conv): Conv2dStaticSamePadding(\n",
              "          24, 144, kernel_size=(1, 1), stride=(1, 1), bias=False\n",
              "          (static_padding): Identity()\n",
              "        )\n",
              "        (_bn0): BatchNorm2d(144, eps=0.001, momentum=0.010000000000000009, affine=True, track_running_stats=True)\n",
              "        (_depthwise_conv): Conv2dStaticSamePadding(\n",
              "          144, 144, kernel_size=(3, 3), stride=(1, 1), groups=144, bias=False\n",
              "          (static_padding): ZeroPad2d((1, 1, 1, 1))\n",
              "        )\n",
              "        (_bn1): BatchNorm2d(144, eps=0.001, momentum=0.010000000000000009, affine=True, track_running_stats=True)\n",
              "        (_se_reduce): Conv2dStaticSamePadding(\n",
              "          144, 6, kernel_size=(1, 1), stride=(1, 1)\n",
              "          (static_padding): Identity()\n",
              "        )\n",
              "        (_se_expand): Conv2dStaticSamePadding(\n",
              "          6, 144, kernel_size=(1, 1), stride=(1, 1)\n",
              "          (static_padding): Identity()\n",
              "        )\n",
              "        (_project_conv): Conv2dStaticSamePadding(\n",
              "          144, 24, kernel_size=(1, 1), stride=(1, 1), bias=False\n",
              "          (static_padding): Identity()\n",
              "        )\n",
              "        (_bn2): BatchNorm2d(24, eps=0.001, momentum=0.010000000000000009, affine=True, track_running_stats=True)\n",
              "        (_swish): MemoryEfficientSwish()\n",
              "      )\n",
              "      (3): MBConvBlock(\n",
              "        (_expand_conv): Conv2dStaticSamePadding(\n",
              "          24, 144, kernel_size=(1, 1), stride=(1, 1), bias=False\n",
              "          (static_padding): Identity()\n",
              "        )\n",
              "        (_bn0): BatchNorm2d(144, eps=0.001, momentum=0.010000000000000009, affine=True, track_running_stats=True)\n",
              "        (_depthwise_conv): Conv2dStaticSamePadding(\n",
              "          144, 144, kernel_size=(5, 5), stride=[2, 2], groups=144, bias=False\n",
              "          (static_padding): ZeroPad2d((1, 2, 1, 2))\n",
              "        )\n",
              "        (_bn1): BatchNorm2d(144, eps=0.001, momentum=0.010000000000000009, affine=True, track_running_stats=True)\n",
              "        (_se_reduce): Conv2dStaticSamePadding(\n",
              "          144, 6, kernel_size=(1, 1), stride=(1, 1)\n",
              "          (static_padding): Identity()\n",
              "        )\n",
              "        (_se_expand): Conv2dStaticSamePadding(\n",
              "          6, 144, kernel_size=(1, 1), stride=(1, 1)\n",
              "          (static_padding): Identity()\n",
              "        )\n",
              "        (_project_conv): Conv2dStaticSamePadding(\n",
              "          144, 40, kernel_size=(1, 1), stride=(1, 1), bias=False\n",
              "          (static_padding): Identity()\n",
              "        )\n",
              "        (_bn2): BatchNorm2d(40, eps=0.001, momentum=0.010000000000000009, affine=True, track_running_stats=True)\n",
              "        (_swish): MemoryEfficientSwish()\n",
              "      )\n",
              "      (4): MBConvBlock(\n",
              "        (_expand_conv): Conv2dStaticSamePadding(\n",
              "          40, 240, kernel_size=(1, 1), stride=(1, 1), bias=False\n",
              "          (static_padding): Identity()\n",
              "        )\n",
              "        (_bn0): BatchNorm2d(240, eps=0.001, momentum=0.010000000000000009, affine=True, track_running_stats=True)\n",
              "        (_depthwise_conv): Conv2dStaticSamePadding(\n",
              "          240, 240, kernel_size=(5, 5), stride=(1, 1), groups=240, bias=False\n",
              "          (static_padding): ZeroPad2d((2, 2, 2, 2))\n",
              "        )\n",
              "        (_bn1): BatchNorm2d(240, eps=0.001, momentum=0.010000000000000009, affine=True, track_running_stats=True)\n",
              "        (_se_reduce): Conv2dStaticSamePadding(\n",
              "          240, 10, kernel_size=(1, 1), stride=(1, 1)\n",
              "          (static_padding): Identity()\n",
              "        )\n",
              "        (_se_expand): Conv2dStaticSamePadding(\n",
              "          10, 240, kernel_size=(1, 1), stride=(1, 1)\n",
              "          (static_padding): Identity()\n",
              "        )\n",
              "        (_project_conv): Conv2dStaticSamePadding(\n",
              "          240, 40, kernel_size=(1, 1), stride=(1, 1), bias=False\n",
              "          (static_padding): Identity()\n",
              "        )\n",
              "        (_bn2): BatchNorm2d(40, eps=0.001, momentum=0.010000000000000009, affine=True, track_running_stats=True)\n",
              "        (_swish): MemoryEfficientSwish()\n",
              "      )\n",
              "      (5): MBConvBlock(\n",
              "        (_expand_conv): Conv2dStaticSamePadding(\n",
              "          40, 240, kernel_size=(1, 1), stride=(1, 1), bias=False\n",
              "          (static_padding): Identity()\n",
              "        )\n",
              "        (_bn0): BatchNorm2d(240, eps=0.001, momentum=0.010000000000000009, affine=True, track_running_stats=True)\n",
              "        (_depthwise_conv): Conv2dStaticSamePadding(\n",
              "          240, 240, kernel_size=(3, 3), stride=[2, 2], groups=240, bias=False\n",
              "          (static_padding): ZeroPad2d((0, 1, 0, 1))\n",
              "        )\n",
              "        (_bn1): BatchNorm2d(240, eps=0.001, momentum=0.010000000000000009, affine=True, track_running_stats=True)\n",
              "        (_se_reduce): Conv2dStaticSamePadding(\n",
              "          240, 10, kernel_size=(1, 1), stride=(1, 1)\n",
              "          (static_padding): Identity()\n",
              "        )\n",
              "        (_se_expand): Conv2dStaticSamePadding(\n",
              "          10, 240, kernel_size=(1, 1), stride=(1, 1)\n",
              "          (static_padding): Identity()\n",
              "        )\n",
              "        (_project_conv): Conv2dStaticSamePadding(\n",
              "          240, 80, kernel_size=(1, 1), stride=(1, 1), bias=False\n",
              "          (static_padding): Identity()\n",
              "        )\n",
              "        (_bn2): BatchNorm2d(80, eps=0.001, momentum=0.010000000000000009, affine=True, track_running_stats=True)\n",
              "        (_swish): MemoryEfficientSwish()\n",
              "      )\n",
              "      (6-7): 2 x MBConvBlock(\n",
              "        (_expand_conv): Conv2dStaticSamePadding(\n",
              "          80, 480, kernel_size=(1, 1), stride=(1, 1), bias=False\n",
              "          (static_padding): Identity()\n",
              "        )\n",
              "        (_bn0): BatchNorm2d(480, eps=0.001, momentum=0.010000000000000009, affine=True, track_running_stats=True)\n",
              "        (_depthwise_conv): Conv2dStaticSamePadding(\n",
              "          480, 480, kernel_size=(3, 3), stride=(1, 1), groups=480, bias=False\n",
              "          (static_padding): ZeroPad2d((1, 1, 1, 1))\n",
              "        )\n",
              "        (_bn1): BatchNorm2d(480, eps=0.001, momentum=0.010000000000000009, affine=True, track_running_stats=True)\n",
              "        (_se_reduce): Conv2dStaticSamePadding(\n",
              "          480, 20, kernel_size=(1, 1), stride=(1, 1)\n",
              "          (static_padding): Identity()\n",
              "        )\n",
              "        (_se_expand): Conv2dStaticSamePadding(\n",
              "          20, 480, kernel_size=(1, 1), stride=(1, 1)\n",
              "          (static_padding): Identity()\n",
              "        )\n",
              "        (_project_conv): Conv2dStaticSamePadding(\n",
              "          480, 80, kernel_size=(1, 1), stride=(1, 1), bias=False\n",
              "          (static_padding): Identity()\n",
              "        )\n",
              "        (_bn2): BatchNorm2d(80, eps=0.001, momentum=0.010000000000000009, affine=True, track_running_stats=True)\n",
              "        (_swish): MemoryEfficientSwish()\n",
              "      )\n",
              "      (8): MBConvBlock(\n",
              "        (_expand_conv): Conv2dStaticSamePadding(\n",
              "          80, 480, kernel_size=(1, 1), stride=(1, 1), bias=False\n",
              "          (static_padding): Identity()\n",
              "        )\n",
              "        (_bn0): BatchNorm2d(480, eps=0.001, momentum=0.010000000000000009, affine=True, track_running_stats=True)\n",
              "        (_depthwise_conv): Conv2dStaticSamePadding(\n",
              "          480, 480, kernel_size=(5, 5), stride=[1, 1], groups=480, bias=False\n",
              "          (static_padding): ZeroPad2d((2, 2, 2, 2))\n",
              "        )\n",
              "        (_bn1): BatchNorm2d(480, eps=0.001, momentum=0.010000000000000009, affine=True, track_running_stats=True)\n",
              "        (_se_reduce): Conv2dStaticSamePadding(\n",
              "          480, 20, kernel_size=(1, 1), stride=(1, 1)\n",
              "          (static_padding): Identity()\n",
              "        )\n",
              "        (_se_expand): Conv2dStaticSamePadding(\n",
              "          20, 480, kernel_size=(1, 1), stride=(1, 1)\n",
              "          (static_padding): Identity()\n",
              "        )\n",
              "        (_project_conv): Conv2dStaticSamePadding(\n",
              "          480, 112, kernel_size=(1, 1), stride=(1, 1), bias=False\n",
              "          (static_padding): Identity()\n",
              "        )\n",
              "        (_bn2): BatchNorm2d(112, eps=0.001, momentum=0.010000000000000009, affine=True, track_running_stats=True)\n",
              "        (_swish): MemoryEfficientSwish()\n",
              "      )\n",
              "      (9-10): 2 x MBConvBlock(\n",
              "        (_expand_conv): Conv2dStaticSamePadding(\n",
              "          112, 672, kernel_size=(1, 1), stride=(1, 1), bias=False\n",
              "          (static_padding): Identity()\n",
              "        )\n",
              "        (_bn0): BatchNorm2d(672, eps=0.001, momentum=0.010000000000000009, affine=True, track_running_stats=True)\n",
              "        (_depthwise_conv): Conv2dStaticSamePadding(\n",
              "          672, 672, kernel_size=(5, 5), stride=(1, 1), groups=672, bias=False\n",
              "          (static_padding): ZeroPad2d((2, 2, 2, 2))\n",
              "        )\n",
              "        (_bn1): BatchNorm2d(672, eps=0.001, momentum=0.010000000000000009, affine=True, track_running_stats=True)\n",
              "        (_se_reduce): Conv2dStaticSamePadding(\n",
              "          672, 28, kernel_size=(1, 1), stride=(1, 1)\n",
              "          (static_padding): Identity()\n",
              "        )\n",
              "        (_se_expand): Conv2dStaticSamePadding(\n",
              "          28, 672, kernel_size=(1, 1), stride=(1, 1)\n",
              "          (static_padding): Identity()\n",
              "        )\n",
              "        (_project_conv): Conv2dStaticSamePadding(\n",
              "          672, 112, kernel_size=(1, 1), stride=(1, 1), bias=False\n",
              "          (static_padding): Identity()\n",
              "        )\n",
              "        (_bn2): BatchNorm2d(112, eps=0.001, momentum=0.010000000000000009, affine=True, track_running_stats=True)\n",
              "        (_swish): MemoryEfficientSwish()\n",
              "      )\n",
              "      (11): MBConvBlock(\n",
              "        (_expand_conv): Conv2dStaticSamePadding(\n",
              "          112, 672, kernel_size=(1, 1), stride=(1, 1), bias=False\n",
              "          (static_padding): Identity()\n",
              "        )\n",
              "        (_bn0): BatchNorm2d(672, eps=0.001, momentum=0.010000000000000009, affine=True, track_running_stats=True)\n",
              "        (_depthwise_conv): Conv2dStaticSamePadding(\n",
              "          672, 672, kernel_size=(5, 5), stride=[2, 2], groups=672, bias=False\n",
              "          (static_padding): ZeroPad2d((1, 2, 1, 2))\n",
              "        )\n",
              "        (_bn1): BatchNorm2d(672, eps=0.001, momentum=0.010000000000000009, affine=True, track_running_stats=True)\n",
              "        (_se_reduce): Conv2dStaticSamePadding(\n",
              "          672, 28, kernel_size=(1, 1), stride=(1, 1)\n",
              "          (static_padding): Identity()\n",
              "        )\n",
              "        (_se_expand): Conv2dStaticSamePadding(\n",
              "          28, 672, kernel_size=(1, 1), stride=(1, 1)\n",
              "          (static_padding): Identity()\n",
              "        )\n",
              "        (_project_conv): Conv2dStaticSamePadding(\n",
              "          672, 192, kernel_size=(1, 1), stride=(1, 1), bias=False\n",
              "          (static_padding): Identity()\n",
              "        )\n",
              "        (_bn2): BatchNorm2d(192, eps=0.001, momentum=0.010000000000000009, affine=True, track_running_stats=True)\n",
              "        (_swish): MemoryEfficientSwish()\n",
              "      )\n",
              "      (12-14): 3 x MBConvBlock(\n",
              "        (_expand_conv): Conv2dStaticSamePadding(\n",
              "          192, 1152, kernel_size=(1, 1), stride=(1, 1), bias=False\n",
              "          (static_padding): Identity()\n",
              "        )\n",
              "        (_bn0): BatchNorm2d(1152, eps=0.001, momentum=0.010000000000000009, affine=True, track_running_stats=True)\n",
              "        (_depthwise_conv): Conv2dStaticSamePadding(\n",
              "          1152, 1152, kernel_size=(5, 5), stride=(1, 1), groups=1152, bias=False\n",
              "          (static_padding): ZeroPad2d((2, 2, 2, 2))\n",
              "        )\n",
              "        (_bn1): BatchNorm2d(1152, eps=0.001, momentum=0.010000000000000009, affine=True, track_running_stats=True)\n",
              "        (_se_reduce): Conv2dStaticSamePadding(\n",
              "          1152, 48, kernel_size=(1, 1), stride=(1, 1)\n",
              "          (static_padding): Identity()\n",
              "        )\n",
              "        (_se_expand): Conv2dStaticSamePadding(\n",
              "          48, 1152, kernel_size=(1, 1), stride=(1, 1)\n",
              "          (static_padding): Identity()\n",
              "        )\n",
              "        (_project_conv): Conv2dStaticSamePadding(\n",
              "          1152, 192, kernel_size=(1, 1), stride=(1, 1), bias=False\n",
              "          (static_padding): Identity()\n",
              "        )\n",
              "        (_bn2): BatchNorm2d(192, eps=0.001, momentum=0.010000000000000009, affine=True, track_running_stats=True)\n",
              "        (_swish): MemoryEfficientSwish()\n",
              "      )\n",
              "      (15): MBConvBlock(\n",
              "        (_expand_conv): Conv2dStaticSamePadding(\n",
              "          192, 1152, kernel_size=(1, 1), stride=(1, 1), bias=False\n",
              "          (static_padding): Identity()\n",
              "        )\n",
              "        (_bn0): BatchNorm2d(1152, eps=0.001, momentum=0.010000000000000009, affine=True, track_running_stats=True)\n",
              "        (_depthwise_conv): Conv2dStaticSamePadding(\n",
              "          1152, 1152, kernel_size=(3, 3), stride=[1, 1], groups=1152, bias=False\n",
              "          (static_padding): ZeroPad2d((1, 1, 1, 1))\n",
              "        )\n",
              "        (_bn1): BatchNorm2d(1152, eps=0.001, momentum=0.010000000000000009, affine=True, track_running_stats=True)\n",
              "        (_se_reduce): Conv2dStaticSamePadding(\n",
              "          1152, 48, kernel_size=(1, 1), stride=(1, 1)\n",
              "          (static_padding): Identity()\n",
              "        )\n",
              "        (_se_expand): Conv2dStaticSamePadding(\n",
              "          48, 1152, kernel_size=(1, 1), stride=(1, 1)\n",
              "          (static_padding): Identity()\n",
              "        )\n",
              "        (_project_conv): Conv2dStaticSamePadding(\n",
              "          1152, 320, kernel_size=(1, 1), stride=(1, 1), bias=False\n",
              "          (static_padding): Identity()\n",
              "        )\n",
              "        (_bn2): BatchNorm2d(320, eps=0.001, momentum=0.010000000000000009, affine=True, track_running_stats=True)\n",
              "        (_swish): MemoryEfficientSwish()\n",
              "      )\n",
              "    )\n",
              "    (_conv_head): Conv2dStaticSamePadding(\n",
              "      320, 1280, kernel_size=(1, 1), stride=(1, 1), bias=False\n",
              "      (static_padding): Identity()\n",
              "    )\n",
              "    (_bn1): BatchNorm2d(1280, eps=0.001, momentum=0.010000000000000009, affine=True, track_running_stats=True)\n",
              "    (_avg_pooling): AdaptiveAvgPool2d(output_size=1)\n",
              "    (_dropout): Dropout(p=0.2, inplace=False)\n",
              "    (_fc): Sequential(\n",
              "      (0): BatchNorm1d(1280, eps=1e-05, momentum=0.1, affine=True, track_running_stats=True)\n",
              "      (1): Linear(in_features=1280, out_features=1024, bias=True)\n",
              "      (2): ReLU()\n",
              "      (3): BatchNorm1d(1024, eps=1e-05, momentum=0.1, affine=True, track_running_stats=True)\n",
              "      (4): Dropout(p=0.4, inplace=False)\n",
              "      (5): Linear(in_features=1024, out_features=256, bias=True)\n",
              "      (6): ReLU()\n",
              "      (7): BatchNorm1d(256, eps=1e-05, momentum=0.1, affine=True, track_running_stats=True)\n",
              "      (8): Dropout(p=0.4, inplace=False)\n",
              "      (9): Linear(in_features=256, out_features=4, bias=True)\n",
              "    )\n",
              "    (_swish): MemoryEfficientSwish()\n",
              "  )\n",
              ")"
            ]
          },
          "metadata": {},
          "execution_count": 21
        }
      ]
    },
    {
      "cell_type": "code",
      "source": [
        "criterion = nn.CrossEntropyLoss()\n",
        "optimizer = optim.Adam(model.parameters(), learning_rate)\n",
        "# optimizer = optim.Adam(model.model._fc.parameters(), learning_rate)\n",
        "# scheduler = torch.optim.lr_scheduler.ReduceLROnPlateau(optimizer, factor=0.5, patience=5, cooldown=1)"
      ],
      "metadata": {
        "id": "0AIguzpMzzrS"
      },
      "execution_count": null,
      "outputs": []
    },
    {
      "cell_type": "code",
      "source": [
        "wandb.init(\n",
        "    # set the wandb project where this run will be logged\n",
        "    project = project_name,\n",
        "    name = experiment_name,\n",
        "    entity = '',\n",
        "    # track hyperparameters and run metadata\n",
        "    config={\n",
        "        \"baseModel\": model_name,\n",
        "        \"learning_rate\": learning_rate,\n",
        "        \"batch_size\": batch_size,\n",
        "        \"epochs\": epochs,\n",
        "        \"image_size\": image_sizes[model_name],\n",
        "        \"optimizer\": optimizer,\n",
        "        \"interpolation\": interpolation,\n",
        "    }\n",
        ")"
      ],
      "metadata": {
        "colab": {
          "base_uri": "https://localhost:8080/",
          "height": 144
        },
        "id": "uHpc_7MMz2AC",
        "outputId": "cab2d8cf-464b-4086-aad2-cecbc6afaea2"
      },
      "execution_count": null,
      "outputs": [
        {
          "output_type": "stream",
          "name": "stderr",
          "text": [
            "\u001b[34m\u001b[1mwandb\u001b[0m: Currently logged in as: \u001b[33mcaromilisanti44\u001b[0m (\u001b[33mcaromilisanti44-universidad-torcuato-di-tella\u001b[0m). Use \u001b[1m`wandb login --relogin`\u001b[0m to force relogin\n"
          ]
        },
        {
          "output_type": "display_data",
          "data": {
            "text/plain": [
              "<IPython.core.display.HTML object>"
            ],
            "text/html": [
              "Tracking run with wandb version 0.18.7"
            ]
          },
          "metadata": {}
        },
        {
          "output_type": "display_data",
          "data": {
            "text/plain": [
              "<IPython.core.display.HTML object>"
            ],
            "text/html": [
              "Run data is saved locally in <code>/content/wandb/run-20241122_164735-2oee60mq</code>"
            ]
          },
          "metadata": {}
        },
        {
          "output_type": "display_data",
          "data": {
            "text/plain": [
              "<IPython.core.display.HTML object>"
            ],
            "text/html": [
              "Syncing run <strong><a href='https://wandb.ai/caromilisanti44-universidad-torcuato-di-tella/Multiclass-TestBalanced-PAPModel/runs/2oee60mq' target=\"_blank\">EfficientNetb0</a></strong> to <a href='https://wandb.ai/caromilisanti44-universidad-torcuato-di-tella/Multiclass-TestBalanced-PAPModel' target=\"_blank\">Weights & Biases</a> (<a href='https://wandb.me/developer-guide' target=\"_blank\">docs</a>)<br/>"
            ]
          },
          "metadata": {}
        },
        {
          "output_type": "display_data",
          "data": {
            "text/plain": [
              "<IPython.core.display.HTML object>"
            ],
            "text/html": [
              " View project at <a href='https://wandb.ai/caromilisanti44-universidad-torcuato-di-tella/Multiclass-TestBalanced-PAPModel' target=\"_blank\">https://wandb.ai/caromilisanti44-universidad-torcuato-di-tella/Multiclass-TestBalanced-PAPModel</a>"
            ]
          },
          "metadata": {}
        },
        {
          "output_type": "display_data",
          "data": {
            "text/plain": [
              "<IPython.core.display.HTML object>"
            ],
            "text/html": [
              " View run at <a href='https://wandb.ai/caromilisanti44-universidad-torcuato-di-tella/Multiclass-TestBalanced-PAPModel/runs/2oee60mq' target=\"_blank\">https://wandb.ai/caromilisanti44-universidad-torcuato-di-tella/Multiclass-TestBalanced-PAPModel/runs/2oee60mq</a>"
            ]
          },
          "metadata": {}
        },
        {
          "output_type": "execute_result",
          "data": {
            "text/html": [
              "<button onClick=\"this.nextSibling.style.display='block';this.style.display='none';\">Display W&B run</button><iframe src='https://wandb.ai/caromilisanti44-universidad-torcuato-di-tella/Multiclass-TestBalanced-PAPModel/runs/2oee60mq?jupyter=true' style='border:none;width:100%;height:420px;display:none;'></iframe>"
            ],
            "text/plain": [
              "<wandb.sdk.wandb_run.Run at 0x7fb99ccc6950>"
            ]
          },
          "metadata": {},
          "execution_count": 23
        }
      ]
    },
    {
      "cell_type": "code",
      "source": [
        "train_dl, valid_dl = get_train_dl(train_data, batch_size)"
      ],
      "metadata": {
        "id": "RpgXL7UCz7mE"
      },
      "execution_count": null,
      "outputs": []
    },
    {
      "cell_type": "markdown",
      "source": [
        "###Entrenamos el modelo y nos guardamos el mejor según la función de pérdida"
      ],
      "metadata": {
        "id": "YdrlNQrsPiUP"
      }
    },
    {
      "cell_type": "code",
      "source": [
        "best_val_score = 0\n",
        "lowest_val_loss = float('inf')\n",
        "best_epoch = 0\n",
        "patience = 20\n",
        "patience_counter = 0\n",
        "\n",
        "for epoch in range(epochs):\n",
        "\n",
        "    running_loss = 0.0\n",
        "    train_correct = 0\n",
        "    TP_total = torch.zeros(4).to(device)\n",
        "    TN_total = torch.zeros(4).to(device)\n",
        "    FP_total = torch.zeros(4).to(device)\n",
        "    FN_total = torch.zeros(4).to(device)\n",
        "    total = 0\n",
        "\n",
        "    # Entrenamiento\n",
        "    model.train()\n",
        "    for i, data in enumerate(train_dl, 0):\n",
        "        inputs, labels = data[0].to(device), data[1].to(device)\n",
        "        labels = labels.squeeze().long()\n",
        "\n",
        "        optimizer.zero_grad()\n",
        "\n",
        "        outputs = model(inputs)\n",
        "        loss = criterion(outputs, labels)\n",
        "        loss.backward()\n",
        "        optimizer.step()\n",
        "\n",
        "        running_loss += loss.item()\n",
        "        total += labels.size(0)\n",
        "\n",
        "        _, predicted = torch.max(outputs, 1)\n",
        "\n",
        "        for i in range(4):  # Para cada clase\n",
        "            TP_total[i] += ((predicted == i) & (labels == i)).sum().item()\n",
        "            TN_total[i] += ((predicted != i) & (labels != i)).sum().item()\n",
        "            FP_total[i] += ((predicted == i) & (labels != i)).sum().item()\n",
        "            FN_total[i] += ((predicted != i) & (labels == i)).sum().item()\n",
        "\n",
        "    train_score = compute_metrics(TP_total, TN_total, FP_total, FN_total)\n",
        "    running_loss = running_loss/total\n",
        "\n",
        "    val_correct = 0\n",
        "    total = 0\n",
        "    val_loss = 0\n",
        "    TP_total = torch.zeros(4).to(device)\n",
        "    TN_total = torch.zeros(4).to(device)\n",
        "    FP_total = torch.zeros(4).to(device)\n",
        "    FN_total = torch.zeros(4).to(device)\n",
        "\n",
        "    # Validación\n",
        "    with torch.no_grad():\n",
        "        for data in valid_dl:\n",
        "            images, labels = data[0].to(device), data[1].to(device)\n",
        "            labels = labels.squeeze().long()\n",
        "            outputs = model(images)\n",
        "            total += labels.size(0)\n",
        "\n",
        "            val_loss += criterion(outputs, labels).item()\n",
        "            _, predicted = torch.max(outputs, 1)\n",
        "\n",
        "            for i in range(4):\n",
        "                TP_total[i] += ((predicted == i) & (labels == i)).sum().item()\n",
        "                TN_total[i] += ((predicted != i) & (labels != i)).sum().item()\n",
        "                FP_total[i] += ((predicted == i) & (labels != i)).sum().item()\n",
        "                FN_total[i] += ((predicted != i) & (labels == i)).sum().item()\n",
        "\n",
        "    val_score = compute_metrics(TP_total, TN_total, FP_total, FN_total)\n",
        "    val_loss = val_loss / total\n",
        "    # scheduler.step(val_loss)\n",
        "\n",
        "    print(f'{epoch + 1} / {epochs}, lr: {optimizer.param_groups[0][\"lr\"]:.6f}, train loss: {running_loss:.3f}, val loss: {val_loss:.3f}, train_score: {train_score}, val_score: {val_score}')\n",
        "\n",
        "    wandb.log({ \"train_score\": train_score, \"val_score\": val_score, \"train_loss\": running_loss,\n",
        "             \"val_loss\": val_loss})\n",
        "\n",
        "    # Si la pérdida en validación fue mas baja, guardamos ese modelo\n",
        "    if val_loss < lowest_val_loss:\n",
        "        best_epoch = epoch\n",
        "        lowest_val_loss = val_loss\n",
        "        patience_counter = 0\n",
        "        torch.save(model.state_dict(), f'{experiment_name}.pth')\n",
        "        print(f\"Guardando el modelo para la época {epoch + 1}, val_loss: {val_loss:.4f}\")\n",
        "    else:\n",
        "        patience_counter += 1\n",
        "        print(f\"No hubo mejora en la validación. Paciencia: {patience_counter}/{patience}\")\n",
        "\n",
        "    if patience_counter >= patience:\n",
        "        print(\"Early stopping activado. Fin del entrenamiento.\")\n",
        "        break\n",
        "\n",
        "print(f'Best Loss: {str(lowest_val_loss)}.')\n",
        "print(f'Best Epoch: {str(best_epoch)}.')\n",
        "print('Finished Training')"
      ],
      "metadata": {
        "colab": {
          "base_uri": "https://localhost:8080/"
        },
        "id": "x50EZtQdz8FY",
        "outputId": "fb9c72b9-957e-4f53-800b-1c718815b0f7",
        "collapsed": true
      },
      "execution_count": null,
      "outputs": [
        {
          "output_type": "stream",
          "name": "stdout",
          "text": [
            "1 / 150, lr: 0.000100, train loss: 0.027, val loss: 0.023, train_score: {'accuracy': 0.6511194109916687, 'precision': 0.28575414419174194, 'recall': 0.33690938353538513, 'F1': 0.24967746436595917}, val_score: {'accuracy': 0.6982758641242981, 'precision': 0.394975483417511, 'recall': 0.4748820960521698, 'F1': 0.3480711281299591}\n",
            "Guardando el modelo para la época 1, val_loss: 0.0231\n",
            "2 / 150, lr: 0.000100, train loss: 0.026, val loss: 0.021, train_score: {'accuracy': 0.6940298080444336, 'precision': 0.3918115198612213, 'recall': 0.4769793450832367, 'F1': 0.34734711050987244}, val_score: {'accuracy': 0.7413793206214905, 'precision': 0.45026424527168274, 'recall': 0.5873169898986816, 'F1': 0.42659619450569153}\n",
            "Guardando el modelo para la época 2, val_loss: 0.0211\n",
            "3 / 150, lr: 0.000100, train loss: 0.023, val loss: 0.019, train_score: {'accuracy': 0.7388060092926025, 'precision': 0.4277855157852173, 'recall': 0.541350781917572, 'F1': 0.40738946199417114}, val_score: {'accuracy': 0.75, 'precision': 0.44360968470573425, 'recall': 0.5468106269836426, 'F1': 0.4253854751586914}\n",
            "Guardando el modelo para la época 3, val_loss: 0.0195\n",
            "4 / 150, lr: 0.000100, train loss: 0.021, val loss: 0.019, train_score: {'accuracy': 0.7835820913314819, 'precision': 0.4936382472515106, 'recall': 0.648245096206665, 'F1': 0.4964076578617096}, val_score: {'accuracy': 0.7758620381355286, 'precision': 0.48652172088623047, 'recall': 0.6376768350601196, 'F1': 0.4811965823173523}\n",
            "Guardando el modelo para la época 4, val_loss: 0.0189\n",
            "5 / 150, lr: 0.000100, train loss: 0.019, val loss: 0.018, train_score: {'accuracy': 0.8171641826629639, 'precision': 0.5474395751953125, 'recall': 0.7584288120269775, 'F1': 0.5722954273223877}, val_score: {'accuracy': 0.7887930274009705, 'precision': 0.5139489769935608, 'recall': 0.721010148525238, 'F1': 0.5281564593315125}\n",
            "Guardando el modelo para la época 5, val_loss: 0.0184\n",
            "6 / 150, lr: 0.000100, train loss: 0.016, val loss: 0.017, train_score: {'accuracy': 0.8246268630027771, 'precision': 0.5458550453186035, 'recall': 0.7176091074943542, 'F1': 0.5707183480262756}, val_score: {'accuracy': 0.7931033968925476, 'precision': 0.47911256551742554, 'recall': 0.601538896560669, 'F1': 0.4865993559360504}\n",
            "Guardando el modelo para la época 6, val_loss: 0.0172\n",
            "7 / 150, lr: 0.000100, train loss: 0.016, val loss: 0.018, train_score: {'accuracy': 0.8451492786407471, 'precision': 0.5678861737251282, 'recall': 0.7249116897583008, 'F1': 0.603126049041748}, val_score: {'accuracy': 0.8060344457626343, 'precision': 0.5214158892631531, 'recall': 0.696413516998291, 'F1': 0.5366379022598267}\n",
            "No hubo mejora en la validación. Paciencia: 1/20\n",
            "8 / 150, lr: 0.000100, train loss: 0.015, val loss: 0.015, train_score: {'accuracy': 0.8936567306518555, 'precision': 0.6671960353851318, 'recall': 0.8716432452201843, 'F1': 0.7194733023643494}, val_score: {'accuracy': 0.8405172228813171, 'precision': 0.5656191110610962, 'recall': 0.7371928691864014, 'F1': 0.5949750542640686}\n",
            "Guardando el modelo para la época 8, val_loss: 0.0152\n",
            "9 / 150, lr: 0.000100, train loss: 0.012, val loss: 0.015, train_score: {'accuracy': 0.899253785610199, 'precision': 0.6759416460990906, 'recall': 0.8847832083702087, 'F1': 0.7377109527587891}, val_score: {'accuracy': 0.857758641242981, 'precision': 0.564286470413208, 'recall': 0.7010548710823059, 'F1': 0.5969225168228149}\n",
            "Guardando el modelo para la época 9, val_loss: 0.0145\n",
            "10 / 150, lr: 0.000100, train loss: 0.012, val loss: 0.016, train_score: {'accuracy': 0.8955223560333252, 'precision': 0.6484782695770264, 'recall': 0.8142328262329102, 'F1': 0.6986292600631714}, val_score: {'accuracy': 0.8405172824859619, 'precision': 0.5758366584777832, 'recall': 0.7570240497589111, 'F1': 0.6192451119422913}\n",
            "No hubo mejora en la validación. Paciencia: 1/20\n",
            "11 / 150, lr: 0.000100, train loss: 0.011, val loss: 0.014, train_score: {'accuracy': 0.9309701323509216, 'precision': 0.7387537956237793, 'recall': 0.9080072045326233, 'F1': 0.7980683445930481}, val_score: {'accuracy': 0.8706896305084229, 'precision': 0.6017774939537048, 'recall': 0.7593446969985962, 'F1': 0.6426820755004883}\n",
            "Guardando el modelo para la época 11, val_loss: 0.0135\n",
            "12 / 150, lr: 0.000100, train loss: 0.011, val loss: 0.012, train_score: {'accuracy': 0.9384328722953796, 'precision': 0.7667973041534424, 'recall': 0.9134717583656311, 'F1': 0.8233375549316406}, val_score: {'accuracy': 0.875, 'precision': 0.6153303384780884, 'recall': 0.76054847240448, 'F1': 0.6564746499061584}\n",
            "Guardando el modelo para la época 12, val_loss: 0.0123\n",
            "13 / 150, lr: 0.000100, train loss: 0.009, val loss: 0.015, train_score: {'accuracy': 0.9365671873092651, 'precision': 0.7495614886283875, 'recall': 0.8753081560134888, 'F1': 0.7993625998497009}, val_score: {'accuracy': 0.8534482717514038, 'precision': 0.5727515816688538, 'recall': 0.7312237024307251, 'F1': 0.6113230586051941}\n",
            "No hubo mejora en la validación. Paciencia: 1/20\n",
            "14 / 150, lr: 0.000100, train loss: 0.009, val loss: 0.011, train_score: {'accuracy': 0.9608209133148193, 'precision': 0.8253928422927856, 'recall': 0.9293012619018555, 'F1': 0.8692752718925476}, val_score: {'accuracy': 0.9181034564971924, 'precision': 0.7132850289344788, 'recall': 0.8409903049468994, 'F1': 0.7604861259460449}\n",
            "Guardando el modelo para la época 14, val_loss: 0.0112\n",
            "15 / 150, lr: 0.000100, train loss: 0.007, val loss: 0.012, train_score: {'accuracy': 0.9514925479888916, 'precision': 0.7897399663925171, 'recall': 0.8771955370903015, 'F1': 0.8269266486167908}, val_score: {'accuracy': 0.875, 'precision': 0.5941558480262756, 'recall': 0.7104616165161133, 'F1': 0.6323397755622864}\n",
            "No hubo mejora en la validación. Paciencia: 1/20\n",
            "16 / 150, lr: 0.000100, train loss: 0.006, val loss: 0.012, train_score: {'accuracy': 0.9626865983009338, 'precision': 0.8534678816795349, 'recall': 0.9616880416870117, 'F1': 0.9003084897994995}, val_score: {'accuracy': 0.875, 'precision': 0.5790027379989624, 'recall': 0.7065401077270508, 'F1': 0.6113834381103516}\n",
            "No hubo mejora en la validación. Paciencia: 2/20\n",
            "17 / 150, lr: 0.000100, train loss: 0.007, val loss: 0.011, train_score: {'accuracy': 0.9682835936546326, 'precision': 0.847213625907898, 'recall': 0.9605735540390015, 'F1': 0.8905227184295654}, val_score: {'accuracy': 0.9008620381355286, 'precision': 0.651504397392273, 'recall': 0.7544924020767212, 'F1': 0.6908152103424072}\n",
            "No hubo mejora en la validación. Paciencia: 3/20\n",
            "18 / 150, lr: 0.000100, train loss: 0.005, val loss: 0.011, train_score: {'accuracy': 0.9869402647018433, 'precision': 0.9429402947425842, 'recall': 0.9852243065834045, 'F1': 0.9625877141952515}, val_score: {'accuracy': 0.9181034564971924, 'precision': 0.7009803652763367, 'recall': 0.8255274295806885, 'F1': 0.7469433546066284}\n",
            "Guardando el modelo para la época 18, val_loss: 0.0109\n",
            "19 / 150, lr: 0.000100, train loss: 0.005, val loss: 0.011, train_score: {'accuracy': 0.9794776439666748, 'precision': 0.9381450414657593, 'recall': 0.9550798535346985, 'F1': 0.9448112845420837}, val_score: {'accuracy': 0.9181034564971924, 'precision': 0.7218928933143616, 'recall': 0.8878257870674133, 'F1': 0.7810792922973633}\n",
            "No hubo mejora en la validación. Paciencia: 1/20\n",
            "20 / 150, lr: 0.000100, train loss: 0.005, val loss: 0.011, train_score: {'accuracy': 0.9757462739944458, 'precision': 0.8903973698616028, 'recall': 0.9596973657608032, 'F1': 0.9216384887695312}, val_score: {'accuracy': 0.9051724672317505, 'precision': 0.6511809229850769, 'recall': 0.7576570510864258, 'F1': 0.6896095275878906}\n",
            "No hubo mejora en la validación. Paciencia: 2/20\n",
            "21 / 150, lr: 0.000100, train loss: 0.005, val loss: 0.012, train_score: {'accuracy': 0.9757462739944458, 'precision': 0.8909698724746704, 'recall': 0.9649102091789246, 'F1': 0.924241304397583}, val_score: {'accuracy': 0.9094827175140381, 'precision': 0.7511904835700989, 'recall': 0.80765700340271, 'F1': 0.7732259035110474}\n",
            "No hubo mejora en la validación. Paciencia: 3/20\n",
            "22 / 150, lr: 0.000100, train loss: 0.005, val loss: 0.011, train_score: {'accuracy': 0.9813432693481445, 'precision': 0.9182047247886658, 'recall': 0.9753492474555969, 'F1': 0.9447901248931885}, val_score: {'accuracy': 0.9181034564971924, 'precision': 0.7636458873748779, 'recall': 0.8409903049468994, 'F1': 0.7928833961486816}\n",
            "No hubo mejora en la validación. Paciencia: 4/20\n",
            "23 / 150, lr: 0.000100, train loss: 0.004, val loss: 0.011, train_score: {'accuracy': 0.9888059496879578, 'precision': 0.9426265358924866, 'recall': 0.98081374168396, 'F1': 0.960103452205658}, val_score: {'accuracy': 0.9008620381355286, 'precision': 0.6554726362228394, 'recall': 0.7544924020767212, 'F1': 0.6935933232307434}\n",
            "Guardando el modelo para la época 23, val_loss: 0.0109\n",
            "24 / 150, lr: 0.000100, train loss: 0.004, val loss: 0.011, train_score: {'accuracy': 0.9944030046463013, 'precision': 0.980555534362793, 'recall': 0.9959016442298889, 'F1': 0.9880024790763855}, val_score: {'accuracy': 0.9267241954803467, 'precision': 0.7834463715553284, 'recall': 0.8743236660957336, 'F1': 0.8169201612472534}\n",
            "No hubo mejora en la validación. Paciencia: 1/20\n",
            "25 / 150, lr: 0.000100, train loss: 0.004, val loss: 0.012, train_score: {'accuracy': 0.983208954334259, 'precision': 0.923381507396698, 'recall': 0.9761514663696289, 'F1': 0.9461365938186646}, val_score: {'accuracy': 0.8965517282485962, 'precision': 0.6416423916816711, 'recall': 0.7147431373596191, 'F1': 0.6711767315864563}\n",
            "No hubo mejora en la validación. Paciencia: 2/20\n",
            "26 / 150, lr: 0.000100, train loss: 0.003, val loss: 0.011, train_score: {'accuracy': 0.9869402647018433, 'precision': 0.944444477558136, 'recall': 0.9594164490699768, 'F1': 0.9517072439193726}, val_score: {'accuracy': 0.92241370677948, 'precision': 0.743715763092041, 'recall': 0.8421940803527832, 'F1': 0.7845045924186707}\n",
            "Guardando el modelo para la época 26, val_loss: 0.0107\n",
            "27 / 150, lr: 0.000100, train loss: 0.003, val loss: 0.010, train_score: {'accuracy': 0.9981343150138855, 'precision': 0.9930555820465088, 'recall': 0.998633861541748, 'F1': 0.9957939386367798}, val_score: {'accuracy': 0.9267240762710571, 'precision': 0.7746212482452393, 'recall': 0.8024448156356812, 'F1': 0.781109631061554}\n",
            "Guardando el modelo para la época 27, val_loss: 0.0104\n",
            "28 / 150, lr: 0.000100, train loss: 0.002, val loss: 0.011, train_score: {'accuracy': 0.9944029450416565, 'precision': 0.9629195928573608, 'recall': 0.9843481779098511, 'F1': 0.972050130367279}, val_score: {'accuracy': 0.9267241954803467, 'precision': 0.7841335535049438, 'recall': 0.8357781171798706, 'F1': 0.8031145334243774}\n",
            "No hubo mejora en la validación. Paciencia: 1/20\n",
            "29 / 150, lr: 0.000100, train loss: 0.003, val loss: 0.010, train_score: {'accuracy': 0.996268630027771, 'precision': 0.987500011920929, 'recall': 0.9914910197257996, 'F1': 0.9892815947532654}, val_score: {'accuracy': 0.9224137663841248, 'precision': 0.7030701637268066, 'recall': 0.7838172912597656, 'F1': 0.7368425726890564}\n",
            "Guardando el modelo para la época 29, val_loss: 0.0099\n",
            "30 / 150, lr: 0.000100, train loss: 0.004, val loss: 0.011, train_score: {'accuracy': 0.9944030046463013, 'precision': 0.9674145579338074, 'recall': 0.9959016442298889, 'F1': 0.9811660051345825}, val_score: {'accuracy': 0.9137930870056152, 'precision': 0.7982156276702881, 'recall': 0.812782347202301, 'F1': 0.7963888645172119}\n",
            "No hubo mejora en la validación. Paciencia: 1/20\n",
            "31 / 150, lr: 0.000100, train loss: 0.003, val loss: 0.010, train_score: {'accuracy': 0.992537260055542, 'precision': 0.978327214717865, 'recall': 0.9692915678024292, 'F1': 0.9732654690742493}, val_score: {'accuracy': 0.9396551847457886, 'precision': 0.8495944738388062, 'recall': 0.8587738871574402, 'F1': 0.8465330600738525}\n",
            "No hubo mejora en la validación. Paciencia: 2/20\n",
            "32 / 150, lr: 0.000100, train loss: 0.003, val loss: 0.015, train_score: {'accuracy': 0.996268630027771, 'precision': 0.9738247990608215, 'recall': 0.9920549392700195, 'F1': 0.982460618019104}, val_score: {'accuracy': 0.9008620381355286, 'precision': 0.6930456161499023, 'recall': 0.7719161510467529, 'F1': 0.7210166454315186}\n",
            "No hubo mejora en la validación. Paciencia: 3/20\n",
            "33 / 150, lr: 0.000100, train loss: 0.002, val loss: 0.010, train_score: {'accuracy': 0.996268630027771, 'precision': 0.9866453409194946, 'recall': 0.9972677230834961, 'F1': 0.9918584823608398}, val_score: {'accuracy': 0.9224138259887695, 'precision': 0.7104166746139526, 'recall': 0.7722760438919067, 'F1': 0.7362689971923828}\n",
            "No hubo mejora en la validación. Paciencia: 4/20\n",
            "34 / 150, lr: 0.000100, train loss: 0.004, val loss: 0.009, train_score: {'accuracy': 0.9944030046463013, 'precision': 0.9802631735801697, 'recall': 0.9959016442298889, 'F1': 0.9876598715782166}, val_score: {'accuracy': 0.9224138259887695, 'precision': 0.7381583452224731, 'recall': 0.7472325563430786, 'F1': 0.7412004470825195}\n",
            "Guardando el modelo para la época 34, val_loss: 0.0093\n",
            "35 / 150, lr: 0.000100, train loss: 0.002, val loss: 0.012, train_score: {'accuracy': 1.0, 'precision': 1.0, 'recall': 1.0, 'F1': 1.0}, val_score: {'accuracy': 0.9008620977401733, 'precision': 0.6697916984558105, 'recall': 0.7647431492805481, 'F1': 0.7067396640777588}\n",
            "No hubo mejora en la validación. Paciencia: 1/20\n",
            "36 / 150, lr: 0.000100, train loss: 0.002, val loss: 0.012, train_score: {'accuracy': 1.0, 'precision': 1.0, 'recall': 1.0, 'F1': 1.0}, val_score: {'accuracy': 0.9267241358757019, 'precision': 0.7316091656684875, 'recall': 0.8087738752365112, 'F1': 0.7616513967514038}\n",
            "No hubo mejora en la validación. Paciencia: 2/20\n",
            "37 / 150, lr: 0.000100, train loss: 0.003, val loss: 0.012, train_score: {'accuracy': 0.996268630027771, 'precision': 0.9642857313156128, 'recall': 0.985714316368103, 'F1': 0.973416268825531}, val_score: {'accuracy': 0.9181034564971924, 'precision': 0.7517647743225098, 'recall': 0.7826135158538818, 'F1': 0.7587782740592957}\n",
            "No hubo mejora en la validación. Paciencia: 3/20\n",
            "38 / 150, lr: 0.000100, train loss: 0.002, val loss: 0.010, train_score: {'accuracy': 0.9981343150138855, 'precision': 0.9935897588729858, 'recall': 0.9928571581840515, 'F1': 0.9931300282478333}, val_score: {'accuracy': 0.9267240762710571, 'precision': 0.7784066200256348, 'recall': 0.8222759962081909, 'F1': 0.7970718145370483}\n",
            "No hubo mejora en la validación. Paciencia: 4/20\n",
            "39 / 150, lr: 0.000100, train loss: 0.002, val loss: 0.009, train_score: {'accuracy': 0.992537260055542, 'precision': 0.96583491563797, 'recall': 0.9887588024139404, 'F1': 0.9768631458282471}, val_score: {'accuracy': 0.9267240762710571, 'precision': 0.7564709782600403, 'recall': 0.8338173031806946, 'F1': 0.7895312905311584}\n",
            "No hubo mejora en la validación. Paciencia: 5/20\n",
            "40 / 150, lr: 0.000100, train loss: 0.001, val loss: 0.007, train_score: {'accuracy': 1.0, 'precision': 1.0, 'recall': 1.0, 'F1': 1.0}, val_score: {'accuracy': 0.9568965435028076, 'precision': 0.8452119827270508, 'recall': 0.9080168604850769, 'F1': 0.8712104558944702}\n",
            "Guardando el modelo para la época 40, val_loss: 0.0072\n",
            "41 / 150, lr: 0.000100, train loss: 0.003, val loss: 0.011, train_score: {'accuracy': 0.996268630027771, 'precision': 0.9922236204147339, 'recall': 0.9914910197257996, 'F1': 0.9917639493942261}, val_score: {'accuracy': 0.9396551847457886, 'precision': 0.8066728115081787, 'recall': 0.8568130731582642, 'F1': 0.8282895088195801}\n",
            "No hubo mejora en la validación. Paciencia: 1/20\n",
            "42 / 150, lr: 0.000100, train loss: 0.002, val loss: 0.009, train_score: {'accuracy': 0.9981343150138855, 'precision': 0.9930555820465088, 'recall': 0.9934210777282715, 'F1': 0.9931455254554749}, val_score: {'accuracy': 0.9525861740112305, 'precision': 0.8427777886390686, 'recall': 0.8798088431358337, 'F1': 0.8593074083328247}\n",
            "No hubo mejora en la validación. Paciencia: 2/20\n",
            "43 / 150, lr: 0.000100, train loss: 0.004, val loss: 0.010, train_score: {'accuracy': 0.996268630027771, 'precision': 0.9738247990608215, 'recall': 0.9972677230834961, 'F1': 0.9851052165031433}, val_score: {'accuracy': 0.9396551847457886, 'precision': 0.8105056881904602, 'recall': 0.8452717661857605, 'F1': 0.8263528347015381}\n",
            "No hubo mejora en la validación. Paciencia: 3/20\n",
            "44 / 150, lr: 0.000100, train loss: 0.002, val loss: 0.011, train_score: {'accuracy': 0.9944030046463013, 'precision': 0.9682692289352417, 'recall': 0.9959016442298889, 'F1': 0.9815236330032349}, val_score: {'accuracy': 0.9181034564971924, 'precision': 0.7198728322982788, 'recall': 0.7575701475143433, 'F1': 0.7365543842315674}\n",
            "No hubo mejora en la validación. Paciencia: 4/20\n",
            "45 / 150, lr: 0.000100, train loss: 0.003, val loss: 0.009, train_score: {'accuracy': 0.9888060092926025, 'precision': 0.9346868395805359, 'recall': 0.9750369787216187, 'F1': 0.9520264863967896}, val_score: {'accuracy': 0.9310344457626343, 'precision': 0.7105882167816162, 'recall': 0.7651029825210571, 'F1': 0.7310294508934021}\n",
            "No hubo mejora en la validación. Paciencia: 5/20\n",
            "46 / 150, lr: 0.000100, train loss: 0.002, val loss: 0.013, train_score: {'accuracy': 0.996268630027771, 'precision': 0.9914910197257996, 'recall': 0.9914910197257996, 'F1': 0.9914910197257996}, val_score: {'accuracy': 0.91379314661026, 'precision': 0.6867413520812988, 'recall': 0.7524447441101074, 'F1': 0.7151476144790649}\n",
            "No hubo mejora en la validación. Paciencia: 6/20\n",
            "47 / 150, lr: 0.000100, train loss: 0.005, val loss: 0.010, train_score: {'accuracy': 0.9906716346740723, 'precision': 0.9677631855010986, 'recall': 0.9737021923065186, 'F1': 0.9696837663650513}, val_score: {'accuracy': 0.9353448152542114, 'precision': 0.84375, 'recall': 0.8222759962081909, 'F1': 0.8131239414215088}\n",
            "No hubo mejora en la validación. Paciencia: 7/20\n",
            "48 / 150, lr: 0.000100, train loss: 0.002, val loss: 0.012, train_score: {'accuracy': 0.996268630027771, 'precision': 0.9642857313156128, 'recall': 0.9972677230834961, 'F1': 0.9793955683708191}, val_score: {'accuracy': 0.9224137663841248, 'precision': 0.7386752367019653, 'recall': 0.7472325563430786, 'F1': 0.742781400680542}\n",
            "No hubo mejora en la validación. Paciencia: 8/20\n",
            "49 / 150, lr: 0.000100, train loss: 0.001, val loss: 0.010, train_score: {'accuracy': 0.9981343150138855, 'precision': 0.998641312122345, 'recall': 0.9928571581840515, 'F1': 0.9956955909729004}, val_score: {'accuracy': 0.9267240762710571, 'precision': 0.793749988079071, 'recall': 0.7837304472923279, 'F1': 0.7885363101959229}\n",
            "No hubo mejora en la validación. Paciencia: 9/20\n",
            "50 / 150, lr: 0.000100, train loss: 0.001, val loss: 0.012, train_score: {'accuracy': 1.0, 'precision': 1.0, 'recall': 1.0, 'F1': 1.0}, val_score: {'accuracy': 0.9224137663841248, 'precision': 0.7356553077697754, 'recall': 0.758773922920227, 'F1': 0.7463421821594238}\n",
            "No hubo mejora en la validación. Paciencia: 10/20\n",
            "51 / 150, lr: 0.000100, train loss: 0.002, val loss: 0.011, train_score: {'accuracy': 0.9981343150138855, 'precision': 0.9935897588729858, 'recall': 0.998633861541748, 'F1': 0.9960682988166809}, val_score: {'accuracy': 0.9224138259887695, 'precision': 0.7215460538864136, 'recall': 0.7452718019485474, 'F1': 0.7325268983840942}\n",
            "No hubo mejora en la validación. Paciencia: 11/20\n",
            "52 / 150, lr: 0.000100, train loss: 0.004, val loss: 0.007, train_score: {'accuracy': 0.9944029450416565, 'precision': 0.9959677457809448, 'recall': 0.9511904716491699, 'F1': 0.9716170430183411}, val_score: {'accuracy': 0.931034505367279, 'precision': 0.7527145147323608, 'recall': 0.7921072244644165, 'F1': 0.7695144414901733}\n",
            "Guardando el modelo para la época 52, val_loss: 0.0070\n",
            "53 / 150, lr: 0.000100, train loss: 0.002, val loss: 0.010, train_score: {'accuracy': 0.9944030046463013, 'precision': 0.9959677457809448, 'recall': 0.9785714149475098, 'F1': 0.9867734909057617}, val_score: {'accuracy': 0.9137930870056152, 'precision': 0.669010579586029, 'recall': 0.7171506881713867, 'F1': 0.6877778172492981}\n",
            "No hubo mejora en la validación. Paciencia: 1/20\n",
            "54 / 150, lr: 0.000100, train loss: 0.001, val loss: 0.009, train_score: {'accuracy': 1.0, 'precision': 1.0, 'recall': 1.0, 'F1': 1.0}, val_score: {'accuracy': 0.9267241358757019, 'precision': 0.7310938835144043, 'recall': 0.7619384527206421, 'F1': 0.7451028823852539}\n",
            "No hubo mejora en la validación. Paciencia: 2/20\n",
            "55 / 150, lr: 0.000100, train loss: 0.002, val loss: 0.009, train_score: {'accuracy': 0.9944030046463013, 'precision': 0.9722527265548706, 'recall': 0.9901248812675476, 'F1': 0.9808023571968079}, val_score: {'accuracy': 0.9224137663841248, 'precision': 0.7099909782409668, 'recall': 0.7317696809768677, 'F1': 0.7152819633483887}\n",
            "No hubo mejora en la validación. Paciencia: 3/20\n",
            "56 / 150, lr: 0.000100, train loss: 0.001, val loss: 0.010, train_score: {'accuracy': 0.9981343746185303, 'precision': 0.9930555820465088, 'recall': 0.9791666865348816, 'F1': 0.9856092929840088}, val_score: {'accuracy': 0.9137930870056152, 'precision': 0.7061029672622681, 'recall': 0.7742367386817932, 'F1': 0.7306183576583862}\n",
            "No hubo mejora en la validación. Paciencia: 4/20\n",
            "57 / 150, lr: 0.000100, train loss: 0.001, val loss: 0.012, train_score: {'accuracy': 0.9981343150138855, 'precision': 0.9935897588729858, 'recall': 0.998633861541748, 'F1': 0.9960682988166809}, val_score: {'accuracy': 0.9310344457626343, 'precision': 0.7642642855644226, 'recall': 0.8254405856132507, 'F1': 0.7915287017822266}\n",
            "No hubo mejora en la validación. Paciencia: 5/20\n",
            "58 / 150, lr: 0.000100, train loss: 0.001, val loss: 0.010, train_score: {'accuracy': 0.996268630027771, 'precision': 0.9864864945411682, 'recall': 0.9778005480766296, 'F1': 0.981501042842865}, val_score: {'accuracy': 0.931034505367279, 'precision': 0.7337662577629089, 'recall': 0.7651029825210571, 'F1': 0.7480852603912354}\n",
            "No hubo mejora en la validación. Paciencia: 6/20\n",
            "59 / 150, lr: 0.000100, train loss: 0.002, val loss: 0.010, train_score: {'accuracy': 0.9981343150138855, 'precision': 0.998641312122345, 'recall': 0.9928571581840515, 'F1': 0.9956955909729004}, val_score: {'accuracy': 0.9224138259887695, 'precision': 0.730555534362793, 'recall': 0.758773922920227, 'F1': 0.743073582649231}\n",
            "No hubo mejora en la validación. Paciencia: 7/20\n",
            "60 / 150, lr: 0.000100, train loss: 0.005, val loss: 0.008, train_score: {'accuracy': 0.9944030046463013, 'precision': 0.9674145579338074, 'recall': 0.9959016442298889, 'F1': 0.9811660051345825}, val_score: {'accuracy': 0.9482758045196533, 'precision': 0.8371794819831848, 'recall': 0.8400595784187317, 'F1': 0.8362370729446411}\n",
            "No hubo mejora en la validación. Paciencia: 8/20\n",
            "61 / 150, lr: 0.000100, train loss: 0.001, val loss: 0.011, train_score: {'accuracy': 0.996268630027771, 'precision': 0.9972972869873047, 'recall': 0.9862781763076782, 'F1': 0.9916847944259644}, val_score: {'accuracy': 0.9137930870056152, 'precision': 0.6997712850570679, 'recall': 0.7409034967422485, 'F1': 0.7177870869636536}\n",
            "No hubo mejora en la validación. Paciencia: 9/20\n",
            "62 / 150, lr: 0.000100, train loss: 0.001, val loss: 0.009, train_score: {'accuracy': 1.0, 'precision': 1.0, 'recall': 1.0, 'F1': 1.0}, val_score: {'accuracy': 0.9267241954803467, 'precision': 0.7805555462837219, 'recall': 0.8107346892356873, 'F1': 0.793939471244812}\n",
            "No hubo mejora en la validación. Paciencia: 10/20\n",
            "63 / 150, lr: 0.000100, train loss: 0.001, val loss: 0.010, train_score: {'accuracy': 1.0, 'precision': 1.0, 'recall': 1.0, 'F1': 1.0}, val_score: {'accuracy': 0.9353448152542114, 'precision': 0.7457043528556824, 'recall': 0.8131422400474548, 'F1': 0.7741656303405762}\n",
            "No hubo mejora en la validación. Paciencia: 11/20\n",
            "64 / 150, lr: 0.000100, train loss: 0.001, val loss: 0.009, train_score: {'accuracy': 1.0, 'precision': 1.0, 'recall': 1.0, 'F1': 1.0}, val_score: {'accuracy': 0.9439655542373657, 'precision': 0.8036797046661377, 'recall': 0.8368949890136719, 'F1': 0.8163607716560364}\n",
            "No hubo mejora en la validación. Paciencia: 12/20\n",
            "65 / 150, lr: 0.000100, train loss: 0.001, val loss: 0.010, train_score: {'accuracy': 0.996268630027771, 'precision': 0.9914910197257996, 'recall': 0.9914910197257996, 'F1': 0.9914910197257996}, val_score: {'accuracy': 0.9267240762710571, 'precision': 0.7889904379844666, 'recall': 0.8242367506027222, 'F1': 0.8028011322021484}\n",
            "No hubo mejora en la validación. Paciencia: 13/20\n",
            "66 / 150, lr: 0.000100, train loss: 0.001, val loss: 0.012, train_score: {'accuracy': 1.0, 'precision': 1.0, 'recall': 1.0, 'F1': 1.0}, val_score: {'accuracy': 0.9267241954803467, 'precision': 0.7821346521377563, 'recall': 0.8222759962081909, 'F1': 0.7984023094177246}\n",
            "No hubo mejora en la validación. Paciencia: 14/20\n",
            "67 / 150, lr: 0.000100, train loss: 0.001, val loss: 0.010, train_score: {'accuracy': 1.0, 'precision': 1.0, 'recall': 1.0, 'F1': 1.0}, val_score: {'accuracy': 0.9353448152542114, 'precision': 0.7494983077049255, 'recall': 0.8266443014144897, 'F1': 0.7822054028511047}\n",
            "No hubo mejora en la validación. Paciencia: 15/20\n",
            "68 / 150, lr: 0.000100, train loss: 0.001, val loss: 0.011, train_score: {'accuracy': 1.0, 'precision': 1.0, 'recall': 1.0, 'F1': 1.0}, val_score: {'accuracy': 0.9310344457626343, 'precision': 0.7611765265464783, 'recall': 0.8158599734306335, 'F1': 0.7853323221206665}\n",
            "No hubo mejora en la validación. Paciencia: 16/20\n",
            "69 / 150, lr: 0.000100, train loss: 0.001, val loss: 0.011, train_score: {'accuracy': 0.9981343150138855, 'precision': 0.998641312122345, 'recall': 0.9934210777282715, 'F1': 0.9959854483604431}, val_score: {'accuracy': 0.9353448152542114, 'precision': 0.768157422542572, 'recall': 0.8401464223861694, 'F1': 0.8001725673675537}\n",
            "No hubo mejora en la validación. Paciencia: 17/20\n",
            "70 / 150, lr: 0.000100, train loss: 0.001, val loss: 0.009, train_score: {'accuracy': 0.9981343150138855, 'precision': 0.998641312122345, 'recall': 0.9934210777282715, 'F1': 0.9959854483604431}, val_score: {'accuracy': 0.9482758045196533, 'precision': 0.8278729319572449, 'recall': 0.8766443133354187, 'F1': 0.8478384017944336}\n",
            "No hubo mejora en la validación. Paciencia: 18/20\n",
            "71 / 150, lr: 0.000100, train loss: 0.001, val loss: 0.009, train_score: {'accuracy': 1.0, 'precision': 1.0, 'recall': 1.0, 'F1': 1.0}, val_score: {'accuracy': 0.9482758045196533, 'precision': 0.8149110078811646, 'recall': 0.9099776744842529, 'F1': 0.853650689125061}\n",
            "No hubo mejora en la validación. Paciencia: 19/20\n",
            "72 / 150, lr: 0.000100, train loss: 0.002, val loss: 0.009, train_score: {'accuracy': 0.9944029450416565, 'precision': 0.9850732684135437, 'recall': 0.9901248812675476, 'F1': 0.9875555634498596}, val_score: {'accuracy': 0.9396551847457886, 'precision': 0.7630654573440552, 'recall': 0.8317696452140808, 'F1': 0.7921379804611206}\n",
            "No hubo mejora en la validación. Paciencia: 20/20\n",
            "Early stopping activado. Fin del entrenamiento.\n",
            "Best Loss: 0.006992496806999733.\n",
            "Best Epoch: 51.\n",
            "Finished Training\n"
          ]
        }
      ]
    },
    {
      "cell_type": "code",
      "source": [
        "wandb.finish()"
      ],
      "metadata": {
        "id": "SGvFjbcI0YmN",
        "colab": {
          "base_uri": "https://localhost:8080/",
          "height": 227
        },
        "outputId": "7a43f8ef-c267-48cd-dac5-ab6cc2ebc772"
      },
      "execution_count": null,
      "outputs": [
        {
          "output_type": "display_data",
          "data": {
            "text/plain": [
              "<IPython.core.display.HTML object>"
            ],
            "text/html": [
              "\n",
              "    <style>\n",
              "        .wandb-row {\n",
              "            display: flex;\n",
              "            flex-direction: row;\n",
              "            flex-wrap: wrap;\n",
              "            justify-content: flex-start;\n",
              "            width: 100%;\n",
              "        }\n",
              "        .wandb-col {\n",
              "            display: flex;\n",
              "            flex-direction: column;\n",
              "            flex-basis: 100%;\n",
              "            flex: 1;\n",
              "            padding: 10px;\n",
              "        }\n",
              "    </style>\n",
              "<div class=\"wandb-row\"><div class=\"wandb-col\"><h3>Run history:</h3><br/><table class=\"wandb\"><tr><td>train_loss</td><td>██▇▆▅▄▄▃▂▃▂▂▂▂▂▁▂▁▂▁▁▂▁▂▁▁▁▁▂▁▁▁▁▂▁▁▁▁▁▁</td></tr><tr><td>val_loss</td><td>█▇▆▅▅▅▄▃▄▃▃▃▃▃▃▃▃▃▂▃▂▂▃▃▂▃▃▁▂▃▂▁▃▂▂▂▃▂▃▂</td></tr></table><br/></div><div class=\"wandb-col\"><h3>Run summary:</h3><br/><table class=\"wandb\"><tr><td>train_loss</td><td>0.00189</td></tr><tr><td>val_loss</td><td>0.00896</td></tr></table><br/></div></div>"
            ]
          },
          "metadata": {}
        },
        {
          "output_type": "display_data",
          "data": {
            "text/plain": [
              "<IPython.core.display.HTML object>"
            ],
            "text/html": [
              " View run <strong style=\"color:#cdcd00\">EfficientNetb0</strong> at: <a href='https://wandb.ai/caromilisanti44-universidad-torcuato-di-tella/Multiclass-TestBalanced-PAPModel/runs/2oee60mq' target=\"_blank\">https://wandb.ai/caromilisanti44-universidad-torcuato-di-tella/Multiclass-TestBalanced-PAPModel/runs/2oee60mq</a><br/> View project at: <a href='https://wandb.ai/caromilisanti44-universidad-torcuato-di-tella/Multiclass-TestBalanced-PAPModel' target=\"_blank\">https://wandb.ai/caromilisanti44-universidad-torcuato-di-tella/Multiclass-TestBalanced-PAPModel</a><br/>Synced 5 W&B file(s), 0 media file(s), 0 artifact file(s) and 0 other file(s)"
            ]
          },
          "metadata": {}
        },
        {
          "output_type": "display_data",
          "data": {
            "text/plain": [
              "<IPython.core.display.HTML object>"
            ],
            "text/html": [
              "Find logs at: <code>./wandb/run-20241122_164735-2oee60mq/logs</code>"
            ]
          },
          "metadata": {}
        }
      ]
    },
    {
      "cell_type": "markdown",
      "source": [
        "#### Cargamos el mejor modelo"
      ],
      "metadata": {
        "id": "8y2Qv0NBQUTy"
      }
    },
    {
      "cell_type": "code",
      "source": [
        "PATH = './' + experiment_name + '.pth'\n",
        "model.load_state_dict(torch.load(PATH, weights_only=True))"
      ],
      "metadata": {
        "id": "hShhLoWa0abz",
        "colab": {
          "base_uri": "https://localhost:8080/"
        },
        "outputId": "00403919-2180-4ec5-9039-88f59c773923"
      },
      "execution_count": null,
      "outputs": [
        {
          "output_type": "execute_result",
          "data": {
            "text/plain": [
              "<All keys matched successfully>"
            ]
          },
          "metadata": {},
          "execution_count": 27
        }
      ]
    },
    {
      "cell_type": "code",
      "source": [
        "test_dl = get_test_dl(test_data, batch_size=len(test_data))"
      ],
      "metadata": {
        "id": "b-Tf7ksG0cHY"
      },
      "execution_count": null,
      "outputs": []
    },
    {
      "cell_type": "markdown",
      "source": [
        "###Utilizamos el mejor modelo para evaluar en el dataset de test"
      ],
      "metadata": {
        "id": "aVBXwh4kQZCY"
      }
    },
    {
      "cell_type": "code",
      "source": [
        "model.eval()\n",
        "\n",
        "all_preds = []\n",
        "all_labels = []\n",
        "\n",
        "TP_total = torch.zeros(4).to(device)\n",
        "TN_total = torch.zeros(4).to(device)\n",
        "FP_total = torch.zeros(4).to(device)\n",
        "FN_total = torch.zeros(4).to(device)\n",
        "\n",
        "with torch.no_grad():\n",
        "  for data in test_dl:\n",
        "      images, labels = data[0].to(device), data[1].to(device)\n",
        "      outputs = model(images)\n",
        "      _, predicted = torch.max(outputs, 1)\n",
        "      labels = labels.squeeze().long()\n",
        "\n",
        "      all_preds.extend(predicted.cpu().numpy().flatten())\n",
        "      all_labels.extend(labels.cpu().numpy().flatten())\n",
        "\n",
        "      for i in range(4):\n",
        "        TP_total[i] = ((predicted.cpu() == i) & (labels.cpu() == i)).sum()\n",
        "        TN_total[i] = ((predicted.cpu() != i) & (labels.cpu() != i)).sum()\n",
        "        FP_total[i] = ((predicted.cpu() == i) & (labels.cpu() != i)).sum()\n",
        "        FN_total[i] = ((predicted.cpu() != i) & (labels.cpu() == i)).sum()\n",
        "\n",
        "  for i in range(len(labels)):\n",
        "    label = labels[i].cpu().item()  # Obtenemos el valor de la etiqueta\n",
        "    prediction = predicted[i].cpu().item()  # Obtenemos el valor de la predicción\n",
        "    print(f\"Label = {label}, Predicción = {prediction}\")"
      ],
      "metadata": {
        "id": "Owd6m8ny0dWB",
        "colab": {
          "base_uri": "https://localhost:8080/"
        },
        "outputId": "9824fef9-cb26-4b5c-8eda-11a35bcc5e09"
      },
      "execution_count": null,
      "outputs": [
        {
          "output_type": "stream",
          "name": "stdout",
          "text": [
            "Label = 2, Predicción = 3\n",
            "Label = 1, Predicción = 0\n",
            "Label = 3, Predicción = 3\n",
            "Label = 3, Predicción = 3\n",
            "Label = 0, Predicción = 0\n",
            "Label = 1, Predicción = 1\n",
            "Label = 2, Predicción = 2\n",
            "Label = 1, Predicción = 1\n",
            "Label = 2, Predicción = 2\n",
            "Label = 3, Predicción = 3\n",
            "Label = 1, Predicción = 1\n",
            "Label = 2, Predicción = 1\n",
            "Label = 0, Predicción = 0\n",
            "Label = 0, Predicción = 1\n",
            "Label = 0, Predicción = 0\n",
            "Label = 3, Predicción = 3\n"
          ]
        }
      ]
    },
    {
      "cell_type": "markdown",
      "source": [
        "####Hacemos la matriz de confusión para los resultados de test e imprimimos las métricas"
      ],
      "metadata": {
        "id": "-cJ9R8YpQ2pS"
      }
    },
    {
      "cell_type": "code",
      "source": [
        "confusionMatrix(all_preds, all_labels)\n",
        "print(compute_metrics(TP_total, TN_total, FP_total, FN_total))"
      ],
      "metadata": {
        "id": "Lkxb1bS30eRk",
        "colab": {
          "base_uri": "https://localhost:8080/",
          "height": 582
        },
        "outputId": "a2d4845a-2925-4bc9-a451-02e4bdb49a10"
      },
      "execution_count": null,
      "outputs": [
        {
          "output_type": "display_data",
          "data": {
            "text/plain": [
              "<Figure size 800x600 with 2 Axes>"
            ],
            "image/png": "[encoded data removed]"
          },
          "metadata": {}
        },
        {
          "output_type": "stream",
          "name": "stdout",
          "text": [
            "{'accuracy': 0.875, 'precision': 0.7874999642372131, 'recall': 0.75, 'F1': 0.7430555820465088}\n"
          ]
        }
      ]
    }
  ]
}