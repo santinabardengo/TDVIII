{
  "nbformat": 4,
  "nbformat_minor": 0,
  "metadata": {
    "colab": {
      "provenance": [],
      "gpuType": "T4",
      "include_colab_link": true
    },
    "kernelspec": {
      "name": "python3",
      "display_name": "Python 3"
    },
    "language_info": {
      "name": "python"
    },
    "accelerator": "GPU"
  },
  "cells": [
    {
      "cell_type": "markdown",
      "metadata": {
        "id": "view-in-github",
        "colab_type": "text"
      },
      "source": [
        "<a href=\"https://colab.research.google.com/github/santinabardengo/TDVIII/blob/main/Proyecto_Final_Clasificaci%C3%B3n_Binaria.ipynb\" target=\"_parent\"><img src=\"https://colab.research.google.com/assets/colab-badge.svg\" alt=\"Open In Colab\"/></a>"
      ]
    },
    {
      "cell_type": "code",
      "source": [
        "!pip install -q efficientnet_pytorch\n",
        "!pip install -Uq wandb"
      ],
      "metadata": {
        "id": "cQ10rGInQFcf"
      },
      "execution_count": null,
      "outputs": []
    },
    {
      "cell_type": "code",
      "execution_count": null,
      "metadata": {
        "id": "iu3p27AKEsTF"
      },
      "outputs": [],
      "source": [
        "import pandas as pd\n",
        "import torch\n",
        "from efficientnet_pytorch import EfficientNet\n",
        "from torch.utils.data import Dataset, DataLoader, random_split\n",
        "import torch.nn.functional as F\n",
        "import torch.nn as nn\n",
        "import copy\n",
        "from torchsummary import summary\n",
        "from tqdm import tqdm\n",
        "import os\n",
        "from sklearn.model_selection import train_test_split\n",
        "import numpy as np\n",
        "import torchvision.transforms as T\n",
        "from PIL import Image\n",
        "from torchvision import transforms\n",
        "import wandb\n",
        "import torch.optim as optim\n",
        "from sklearn.metrics import confusion_matrix\n",
        "import seaborn as sns\n",
        "import matplotlib.pyplot as plt\n",
        "import random"
      ]
    },
    {
      "cell_type": "code",
      "source": [
        "torch.manual_seed(162829)\n",
        "if torch.cuda.is_available():\n",
        "    torch.cuda.manual_seed(162829)"
      ],
      "metadata": {
        "id": "z_morvi1Mo8w"
      },
      "execution_count": null,
      "outputs": []
    },
    {
      "cell_type": "markdown",
      "source": [
        "Wandb key : fd005b43ba216e7f8c0272801c9004c946bef281"
      ],
      "metadata": {
        "id": "giZX2GMuTpCM"
      }
    },
    {
      "cell_type": "code",
      "source": [
        "wandb.login()"
      ],
      "metadata": {
        "id": "6d3Dx56KV4q7"
      },
      "execution_count": null,
      "outputs": []
    },
    {
      "cell_type": "markdown",
      "source": [
        "Conectamos el entorno a Google Drive"
      ],
      "metadata": {
        "id": "RvVlEob2mWvQ"
      }
    },
    {
      "cell_type": "code",
      "source": [
        "from google.colab import drive\n",
        "drive.mount('/content/drive/')"
      ],
      "metadata": {
        "id": "j-fJ7osrOA9C"
      },
      "execution_count": null,
      "outputs": []
    },
    {
      "cell_type": "code",
      "source": [
        "train_data = pd.read_csv(\"/content/drive/MyDrive/Datos/train_data.csv\")\n",
        "test_data = pd.read_csv(\"/content/drive/MyDrive/Datos/test_data.csv\")"
      ],
      "metadata": {
        "id": "6dy1pqCWU-t_"
      },
      "execution_count": null,
      "outputs": []
    },
    {
      "cell_type": "markdown",
      "source": [
        "### Análisis explolatorio de datos"
      ],
      "metadata": {
        "id": "kwtmu5XFvUCN"
      }
    },
    {
      "cell_type": "markdown",
      "source": [
        "####Distribución de clases"
      ],
      "metadata": {
        "id": "q5XTy_U8vcz3"
      }
    },
    {
      "cell_type": "code",
      "source": [
        "plt.figure(figsize=(6, 4))\n",
        "sns.countplot(data=train_data, x='label', palette='viridis', width=0.5)\n",
        "plt.title('Distribución de labels en el conjunto de entrenamiento')\n",
        "plt.xlabel('Clase')\n",
        "plt.ylabel('Cantidad')\n",
        "plt.show()"
      ],
      "metadata": {
        "id": "Md_J2kDJweLR"
      },
      "execution_count": null,
      "outputs": []
    },
    {
      "cell_type": "code",
      "source": [
        "plt.figure(figsize=(6, 4))\n",
        "sns.countplot(data=test_data, x='label', palette='plasma', width = 0.5)\n",
        "plt.title('Distribución de labels en el conjunto de prueba')\n",
        "plt.xlabel('Clase')\n",
        "plt.ylabel('Cantidad')\n",
        "plt.show()"
      ],
      "metadata": {
        "id": "si52YJAKxTpJ"
      },
      "execution_count": null,
      "outputs": []
    },
    {
      "cell_type": "markdown",
      "source": [
        "####Imágenes según su clase"
      ],
      "metadata": {
        "id": "w4XSrWDRyNWd"
      }
    },
    {
      "cell_type": "code",
      "source": [
        "class_0_image_path = train_data[train_data['label'] == 0].iloc[0]['image_filename']\n",
        "class_1_image_path = train_data[train_data['label'] == 1].iloc[2]['image_filename']\n",
        "\n",
        "class_0_image = Image.open(\"/content/drive/MyDrive/Datos/Images/\" + class_0_image_path)\n",
        "class_1_image = Image.open(\"/content/drive/MyDrive/Datos/Images/\" + class_1_image_path)\n",
        "\n",
        "fig, axes = plt.subplots(1, 2, figsize=(10, 5))\n",
        "axes[0].imshow(class_0_image)\n",
        "axes[0].set_title('Clase = 0')\n",
        "axes[0].axis('off')\n",
        "\n",
        "axes[1].imshow(class_1_image)\n",
        "axes[1].set_title('Clase = 1')\n",
        "axes[1].axis('off')\n",
        "\n",
        "plt.tight_layout()\n",
        "plt.show()\n"
      ],
      "metadata": {
        "id": "K9Bz7357yLzO"
      },
      "execution_count": null,
      "outputs": []
    },
    {
      "cell_type": "code",
      "source": [
        "device = torch.device('cuda:0' if torch.cuda.is_available() else 'cpu')"
      ],
      "metadata": {
        "id": "O7mcDSCeMjPA"
      },
      "execution_count": null,
      "outputs": []
    },
    {
      "cell_type": "markdown",
      "source": [
        "Cargamos los modelos EfficientNet preentrenados junto con el tamaño de imagen que le corresponde a cada uno según la versión"
      ],
      "metadata": {
        "id": "RBo57ktGmoZ2"
      }
    },
    {
      "cell_type": "code",
      "source": [
        "models = {\n",
        "    \"EfficientNet-b0\": EfficientNet.from_pretrained('efficientnet-b0'),\n",
        "    \"EfficientNet-b1\": EfficientNet.from_pretrained('efficientnet-b1'),\n",
        "    \"EfficientNet-b2\": EfficientNet.from_pretrained('efficientnet-b2'),\n",
        "    \"EfficientNet-b3\": EfficientNet.from_pretrained('efficientnet-b3'),\n",
        "    \"EfficientNet-b3\": EfficientNet.from_pretrained('efficientnet-b4'),\n",
        "}\n",
        "\n",
        "image_sizes = {\n",
        "    \"EfficientNet-b0\": 224,\n",
        "    \"EfficientNet-b1\": 240,\n",
        "    \"EfficientNet-b2\": 260,\n",
        "    'EfficientNet-b3': 300,\n",
        "    'EfficientNet-b4': 380,\n",
        "}"
      ],
      "metadata": {
        "id": "J0_xDrQJTS2o"
      },
      "execution_count": null,
      "outputs": []
    },
    {
      "cell_type": "markdown",
      "source": [
        "###Parámetros del mejor modelo"
      ],
      "metadata": {
        "id": "-Z9_7v_l0TA6"
      }
    },
    {
      "cell_type": "code",
      "source": [
        "batch_size = 64\n",
        "learning_rate = 1e-4\n",
        "epochs = 150\n",
        "experiment_name = \"EfficientNetb0 - Random Augmentation - Final\"\n",
        "project_name = \"Binary-PAPModel\"\n",
        "model_name = 'EfficientNet-b0'\n",
        "interpolation_methods = [T.InterpolationMode.NEAREST, T.InterpolationMode.BILINEAR, T.InterpolationMode.BICUBIC]\n",
        "interpolation = 'NearestInterpolation'\n",
        "THRESHOLD = 0.4"
      ],
      "metadata": {
        "id": "55xxD2gKMw-X"
      },
      "execution_count": null,
      "outputs": []
    },
    {
      "cell_type": "code",
      "source": [
        "images_dir = '/content/drive/MyDrive/Datos/' + model_name + '/' + interpolation + '/'"
      ],
      "metadata": {
        "id": "lpWHJSesfv1e"
      },
      "execution_count": null,
      "outputs": []
    },
    {
      "cell_type": "markdown",
      "source": [
        "###Tranformaciones para realizar la aumentación de los datos"
      ],
      "metadata": {
        "id": "7QhpvaBO0d6g"
      }
    },
    {
      "cell_type": "code",
      "source": [
        "def image_transformations():\n",
        "    '''\n",
        "        Return transformations to be applied.\n",
        "        Output:\n",
        "            train_transformations: transformations to be applied on the training set\n",
        "            valid_tfms: transformations to be applied on the validation or test set\n",
        "    '''\n",
        "    trans = [\n",
        "        transforms.ToTensor(),\n",
        "        transforms.Normalize((0.5, 0.5, 0.5), (0.5, 0.5, 0.5))\n",
        "    ]\n",
        "\n",
        "    train_trans = [\n",
        "            transforms.RandomRotation(90),\n",
        "            transforms.RandomHorizontalFlip(),\n",
        "            transforms.RandomVerticalFlip(),\n",
        "            transforms.ColorJitter(contrast=0.2, brightness=0.2, saturation=0.2, hue=0.1)\n",
        "    ]\n",
        "\n",
        "    selected_transforms_train = random.sample(train_trans, 2)\n",
        "\n",
        "    train_tfms = T.Compose(trans + selected_transforms_train)\n",
        "    valid_tfms = T.Compose(trans)\n",
        "\n",
        "    return train_tfms, valid_tfms"
      ],
      "metadata": {
        "id": "Fqv5rN36qF0Y"
      },
      "execution_count": null,
      "outputs": []
    },
    {
      "cell_type": "code",
      "source": [
        "def encode_label(label: list) -> list:\n",
        "    return torch.tensor([label], dtype=torch.float32)"
      ],
      "metadata": {
        "id": "e0gmbDnzeYFr"
      },
      "execution_count": null,
      "outputs": []
    },
    {
      "cell_type": "markdown",
      "source": [
        "####Clase que se encarga de asociar el path de cada imagen a su archivo correspondiente y de realizar las transformaciones a las mismas durante el entrenamiento"
      ],
      "metadata": {
        "id": "T3uRlrM30nfS"
      }
    },
    {
      "cell_type": "code",
      "source": [
        "class PAPDataset(Dataset):\n",
        "\n",
        "    def __init__(self, df, root_dir, transform):\n",
        "        self.df = df\n",
        "        self.transform = transform\n",
        "        self.root_dir = root_dir\n",
        "        self.use_original_ratio = 0.4\n",
        "\n",
        "    def __len__(self):\n",
        "        return len(self.df)\n",
        "\n",
        "    def __getitem__(self, idx):\n",
        "        row = self.df.loc[idx]\n",
        "        img_fname, img_label = row['image_filename'], row['label']\n",
        "        img = Image.open(self.root_dir + img_fname)\n",
        "\n",
        "        # Random Augmentation\n",
        "        if random.random() > self.use_original_ratio:\n",
        "            img = self.transform(img)\n",
        "        else:\n",
        "            img = transforms.ToTensor()(img)\n",
        "            img = transforms.Normalize((0.5, 0.5, 0.5), (0.5, 0.5, 0.5))(img)\n",
        "\n",
        "        # Negative Augmentation\n",
        "        # if img_label == 0 and random.random() > self.use_original_ratio:\n",
        "        #     img = self.transform(img)\n",
        "        # else:\n",
        "        #   img = transforms.ToTensor()(img)\n",
        "        #   img = transforms.Normalize((0.5, 0.5, 0.5), (0.5, 0.5, 0.5))(img)\n",
        "\n",
        "        return img, encode_label(img_label)"
      ],
      "metadata": {
        "id": "hHTaqUwMep9g"
      },
      "execution_count": null,
      "outputs": []
    },
    {
      "cell_type": "markdown",
      "source": [
        "####Funciones para obtener train y test dataloader"
      ],
      "metadata": {
        "id": "0sEaw2PQ0_x6"
      }
    },
    {
      "cell_type": "code",
      "source": [
        "def get_train_dl(train_data, batch_size = 16):\n",
        "\n",
        "    np.random.seed(162829)\n",
        "    train_ds, val_ds = train_test_split(train_data, test_size = 0.3, random_state=162829, shuffle=True, stratify= train_data['label'])\n",
        "\n",
        "    train_ds.reset_index(drop=True, inplace=True)\n",
        "    val_ds.reset_index(drop=True, inplace=True)\n",
        "\n",
        "    train_tfms, valid_tfms = image_transformations()\n",
        "\n",
        "    train_ds = PAPDataset(train_ds, images_dir, transform = train_tfms)\n",
        "    val_ds = PAPDataset(val_ds, images_dir, transform = valid_tfms)\n",
        "\n",
        "    train_dl = torch.utils.data.DataLoader(train_ds, batch_size, shuffle=True, num_workers=2)\n",
        "    val_dl = torch.utils.data.DataLoader(val_ds, batch_size, shuffle=True, num_workers=2)\n",
        "\n",
        "    return train_dl, val_dl"
      ],
      "metadata": {
        "id": "edLtrcPDF8-o"
      },
      "execution_count": null,
      "outputs": []
    },
    {
      "cell_type": "code",
      "source": [
        "def get_test_dl(test_data, batch_size = 16):\n",
        "\n",
        "    _, test_tfms = image_transformations()\n",
        "\n",
        "    test_data = PAPDataset(test_data, images_dir, transform = test_tfms)\n",
        "\n",
        "    test_dl = torch.utils.data.DataLoader(test_data, batch_size, num_workers=2)\n",
        "\n",
        "    return test_dl"
      ],
      "metadata": {
        "id": "27G0NSMlSrs9"
      },
      "execution_count": null,
      "outputs": []
    },
    {
      "cell_type": "markdown",
      "source": [
        "####Función para calcular las métricas del modelo (accuracy, precision, recall y F1-score)"
      ],
      "metadata": {
        "id": "QDOodoSQ1QwK"
      }
    },
    {
      "cell_type": "code",
      "source": [
        "def compute_metrics(TP: int, TN: int, FP: int, FN: int) -> float:\n",
        "\n",
        "    accuracy = (TP + TN) / (TP + TN + FP + FN)\n",
        "    precision = TP / (TP + FP + 1e-12)\n",
        "    recall = TP / (TP + FN + 1e-12)\n",
        "    F1 = (2 * precision * recall) / (precision + recall + 1e-12)\n",
        "\n",
        "    return {\n",
        "        'accuracy': accuracy,\n",
        "        'precision': precision,\n",
        "        'recall': recall,\n",
        "        'F1': F1,\n",
        "    }"
      ],
      "metadata": {
        "id": "E6f-oPfXWo9B"
      },
      "execution_count": null,
      "outputs": []
    },
    {
      "cell_type": "markdown",
      "source": [
        "####Función para obtener la matriz de confusión\n"
      ],
      "metadata": {
        "id": "w6DmEMdX1kmY"
      }
    },
    {
      "cell_type": "code",
      "source": [
        "def confusionMatrix(predicted: list, label: list):\n",
        "    plt.figure(figsize=(8, 6))\n",
        "    sns.heatmap(confusion_matrix(label, predicted), cmap='Blues', annot=True, fmt='g')\n",
        "    plt.xlabel('Predicted')\n",
        "    plt.ylabel('Actual')\n",
        "    plt.title('Confusion Matrix')\n",
        "    plt.show()"
      ],
      "metadata": {
        "id": "0ScZDtPKWBOU"
      },
      "execution_count": null,
      "outputs": []
    },
    {
      "cell_type": "markdown",
      "source": [
        "###Definimos el modelo a utilizar (modelo EfficientNet preentrenado + FF)"
      ],
      "metadata": {
        "id": "8qymfYlN1rcm"
      }
    },
    {
      "cell_type": "code",
      "source": [
        "class PAPModel(nn.Module):\n",
        "    def get_sequential(num_ftrs):\n",
        "        linear_layers = nn.Sequential(\n",
        "                nn.BatchNorm1d(num_features=num_ftrs),\n",
        "                nn.Linear(num_ftrs, 512),\n",
        "                nn.ReLU(),\n",
        "                nn.BatchNorm1d(512),\n",
        "                nn.Dropout(0.4),\n",
        "                nn.Linear(512, 128),\n",
        "                nn.ReLU(),\n",
        "                nn.BatchNorm1d(num_features=128),\n",
        "                nn.Dropout(0.4),\n",
        "                nn.Linear(128, 1),\n",
        "            )\n",
        "        return linear_layers\n",
        "\n",
        "    def __init__(self, model_name=None, model=None, input_size=None):\n",
        "        super().__init__()\n",
        "\n",
        "        self.model_name = model_name\n",
        "        self.model = copy.deepcopy(model)\n",
        "        self.IS = input_size\n",
        "\n",
        "        self.num_ftrs = self.model._fc.in_features\n",
        "        self.model._fc = PAPModel.get_sequential(self.num_ftrs)\n",
        "\n",
        "    def forward(self, xb):\n",
        "        return torch.sigmoid(self.model(xb))\n",
        "\n",
        "    # Función para congelar los parámetros del modelo preentrenado\n",
        "    def freeze(self):\n",
        "        for param in self.model.parameters():\n",
        "            param.requires_grad = False\n",
        "\n",
        "        for param in self.model._fc.parameters():\n",
        "            param.requires_grad = True\n",
        "\n",
        "    def unfreeze(self):\n",
        "        for param in self.model.parameters():\n",
        "            param.requires_grad = True\n",
        "\n",
        "model = PAPModel(model_name, models[model_name], image_sizes[model_name])\n",
        "model.to(device)"
      ],
      "metadata": {
        "id": "QiioGLNMwIll",
        "collapsed": true
      },
      "execution_count": null,
      "outputs": []
    },
    {
      "cell_type": "code",
      "source": [
        "criterion = nn.BCELoss()\n",
        "optimizer = optim.Adam(model.parameters(), learning_rate)\n",
        "#scheduler = torch.optim.lr_scheduler.ReduceLROnPlateau(optimizer, factor=0.95, patience=5, cooldown=1)"
      ],
      "metadata": {
        "id": "dkHf0U62V4Aw"
      },
      "execution_count": null,
      "outputs": []
    },
    {
      "cell_type": "code",
      "source": [
        "wandb.init(\n",
        "    project = project_name,\n",
        "    name = experiment_name,\n",
        "    entity = '',\n",
        "    config={\n",
        "        \"baseModel\": model_name,\n",
        "        \"learning_rate\": learning_rate,\n",
        "        \"batch_size\": batch_size,\n",
        "        \"epochs\": epochs,\n",
        "        \"image_size\": image_sizes[model_name],\n",
        "        \"optimizer\": optimizer,\n",
        "        \"interpolation\": interpolation,\n",
        "    }\n",
        ")"
      ],
      "metadata": {
        "id": "rMlWI18dWR-V"
      },
      "execution_count": null,
      "outputs": []
    },
    {
      "cell_type": "code",
      "source": [
        "train_dl, valid_dl = get_train_dl(train_data, batch_size)"
      ],
      "metadata": {
        "id": "-_9km2bo1qaQ"
      },
      "execution_count": null,
      "outputs": []
    },
    {
      "cell_type": "markdown",
      "source": [
        "###Entrenamos el modelo y nos guardamos el mejor según la función de pérdida"
      ],
      "metadata": {
        "id": "N0XXYwFq2v_O"
      }
    },
    {
      "cell_type": "code",
      "source": [
        "best_val_score = 0\n",
        "lowest_val_loss = float('inf')\n",
        "best_epoch = 0\n",
        "\n",
        "for epoch in range(epochs):\n",
        "\n",
        "    running_loss = 0.0\n",
        "    train_correct = 0\n",
        "    TP_total = 0\n",
        "    TN_total = 0\n",
        "    FP_total = 0\n",
        "    FN_total = 0\n",
        "    total = 0\n",
        "\n",
        "    #Entrenamiento\n",
        "    model.train()\n",
        "    for i, data in enumerate(train_dl, 0):\n",
        "        inputs, labels = data[0].to(device), data[1].to(device)\n",
        "        optimizer.zero_grad()\n",
        "\n",
        "        outputs = model(inputs)\n",
        "        loss = criterion(outputs, labels)\n",
        "        loss.backward()\n",
        "        optimizer.step()\n",
        "\n",
        "        running_loss += loss.item()\n",
        "\n",
        "        predicted = (outputs.data > THRESHOLD).float()\n",
        "        total += labels.size(0)\n",
        "\n",
        "        TP_total += ((predicted == 1) & (labels == 1)).sum().item()\n",
        "        TN_total += ((predicted == 0) & (labels == 0)).sum().item()\n",
        "        FP_total += ((predicted == 1) & (labels == 0)).sum().item()\n",
        "        FN_total += ((predicted == 0) & (labels == 1)).sum().item()\n",
        "\n",
        "    train_score = compute_metrics(TP_total, TN_total, FP_total, FN_total)\n",
        "    running_loss = running_loss/total\n",
        "\n",
        "    val_correct = 0\n",
        "    total = 0\n",
        "    val_loss = 0\n",
        "    TP_total = 0\n",
        "    TN_total = 0\n",
        "    FP_total = 0\n",
        "    FN_total = 0\n",
        "\n",
        "    # Validacion\n",
        "    with torch.no_grad():\n",
        "        for data in valid_dl:\n",
        "            images, labels = data[0].to(device), data[1].to(device)\n",
        "            outputs = model(images)\n",
        "            predicted = (outputs.data > THRESHOLD).float()\n",
        "            total += labels.size(0)\n",
        "\n",
        "            val_loss += criterion(outputs, labels).item()\n",
        "\n",
        "            TP_total += ((predicted == 1) & (labels == 1)).sum().item()\n",
        "            TN_total += ((predicted == 0) & (labels == 0)).sum().item()\n",
        "            FP_total += ((predicted == 1) & (labels == 0)).sum().item()\n",
        "            FN_total += ((predicted == 0) & (labels == 1)).sum().item()\n",
        "\n",
        "    # scheduler.step(val_loss)\n",
        "\n",
        "    val_score = compute_metrics(TP_total, TN_total, FP_total, FN_total)\n",
        "\n",
        "    val_loss = val_loss / total\n",
        "\n",
        "    print(f'{epoch + 1} / {epochs}, lr: {optimizer.param_groups[0][\"lr\"]:.6f}, train loss: {running_loss:.3f}, val loss: {val_loss:.3f}, train_score: {train_score}, val_score: {val_score}')\n",
        "\n",
        "    wandb.log({ \"train_score\": train_score, \"val_score\": val_score, \"train_loss\": running_loss,\n",
        "             \"val_loss\": val_loss})\n",
        "\n",
        "    # Si la pérdida en validación fue mas baja, guardamos ese modelo\n",
        "    if val_loss < lowest_val_loss:\n",
        "      best_epoch = epoch\n",
        "      lowest_val_loss = val_loss\n",
        "\n",
        "      print(f\"Guardando el modelo para la época {best_epoch}, loss: {lowest_val_loss}\")\n",
        "      torch.save(model.state_dict(), f'{experiment_name}.pth')\n",
        "\n",
        "\n",
        "print(f'Best Loss: {str(lowest_val_loss)}.')\n",
        "print(f'Best Epoch: {str(best_epoch)}.')\n",
        "print('Finished Training')"
      ],
      "metadata": {
        "colab": {
          "base_uri": "https://localhost:8080/"
        },
        "id": "9nxYdh-yXbjg",
        "outputId": "9c38f9f7-53cf-4984-b688-544e923a518b",
        "collapsed": true
      },
      "execution_count": null,
      "outputs": [
        {
          "output_type": "stream",
          "name": "stdout",
          "text": [
            "1 / 150, lr: 0.000100, train loss: 0.012, val loss: 0.014, train_score: {'accuracy': 0.6857142857142857, 'precision': 0.8722222222222173, 'recall': 0.7440758293838827, 'F1': 0.8030690537079389}, val_score: {'accuracy': 0.7238095238095238, 'precision': 0.9189189189189065, 'recall': 0.747252747252739, 'F1': 0.8242424242419194}\n",
            "Guardando el modelo para la época 0, loss: 0.013702020758674258\n",
            "2 / 150, lr: 0.000100, train loss: 0.011, val loss: 0.013, train_score: {'accuracy': 0.7061224489795919, 'precision': 0.9112426035502905, 'recall': 0.7298578199052098, 'F1': 0.8105263157889755}, val_score: {'accuracy': 0.7142857142857143, 'precision': 0.9178082191780697, 'recall': 0.7362637362637282, 'F1': 0.8170731707312034}\n",
            "Guardando el modelo para la época 1, loss: 0.01321199167342413\n",
            "3 / 150, lr: 0.000100, train loss: 0.010, val loss: 0.012, train_score: {'accuracy': 0.8, 'precision': 0.9550561797752756, 'recall': 0.8056872037914654, 'F1': 0.8740359897167227}, val_score: {'accuracy': 0.7428571428571429, 'precision': 0.9571428571428435, 'recall': 0.7362637362637282, 'F1': 0.8322981366454608}\n",
            "Guardando el modelo para la época 2, loss: 0.01242579392024449\n",
            "4 / 150, lr: 0.000100, train loss: 0.010, val loss: 0.011, train_score: {'accuracy': 0.726530612244898, 'precision': 0.9675324675324612, 'recall': 0.7061611374407549, 'F1': 0.8164383561638913}, val_score: {'accuracy': 0.7904761904761904, 'precision': 0.9726027397260142, 'recall': 0.7802197802197717, 'F1': 0.8658536585360808}\n",
            "Guardando el modelo para la época 3, loss: 0.010987292584918795\n",
            "5 / 150, lr: 0.000100, train loss: 0.010, val loss: 0.011, train_score: {'accuracy': 0.7755102040816326, 'precision': 0.9756097560975551, 'recall': 0.7582938388625556, 'F1': 0.8533333333328366}, val_score: {'accuracy': 0.7619047619047619, 'precision': 0.9852941176470444, 'recall': 0.7362637362637282, 'F1': 0.8427672955969842}\n",
            "6 / 150, lr: 0.000100, train loss: 0.010, val loss: 0.011, train_score: {'accuracy': 0.7795918367346939, 'precision': 0.9757575757575698, 'recall': 0.7630331753554467, 'F1': 0.8563829787229073}, val_score: {'accuracy': 0.8285714285714286, 'precision': 0.9999999999999863, 'recall': 0.8021978021977935, 'F1': 0.8902439024385196}\n",
            "7 / 150, lr: 0.000100, train loss: 0.010, val loss: 0.011, train_score: {'accuracy': 0.7877551020408163, 'precision': 0.9760479041916109, 'recall': 0.7725118483412285, 'F1': 0.8624338624333646}, val_score: {'accuracy': 0.780952380952381, 'precision': 0.9857142857142717, 'recall': 0.75824175824175, 'F1': 0.8571428571423549}\n",
            "Guardando el modelo para la época 6, loss: 0.010679837067921956\n",
            "8 / 150, lr: 0.000100, train loss: 0.009, val loss: 0.011, train_score: {'accuracy': 0.8204081632653061, 'precision': 0.9883040935672457, 'recall': 0.8009478672985745, 'F1': 0.8848167539262024}, val_score: {'accuracy': 0.819047619047619, 'precision': 0.9999999999999862, 'recall': 0.7912087912087825, 'F1': 0.8834355828215819}\n",
            "Guardando el modelo para la época 7, loss: 0.010525412218911307\n",
            "9 / 150, lr: 0.000100, train loss: 0.009, val loss: 0.011, train_score: {'accuracy': 0.8326530612244898, 'precision': 0.9941860465116221, 'recall': 0.8104265402843563, 'F1': 0.892950391644409}, val_score: {'accuracy': 0.8285714285714286, 'precision': 0.9866666666666536, 'recall': 0.8131868131868043, 'F1': 0.8915662650597349}\n",
            "10 / 150, lr: 0.000100, train loss: 0.008, val loss: 0.010, train_score: {'accuracy': 0.8530612244897959, 'precision': 0.9834254143646355, 'recall': 0.8436018957345932, 'F1': 0.9081632653056207}, val_score: {'accuracy': 0.8666666666666667, 'precision': 0.9999999999999871, 'recall': 0.8461538461538369, 'F1': 0.9166666666661593}\n",
            "Guardando el modelo para la época 9, loss: 0.009613097849346343\n",
            "11 / 150, lr: 0.000100, train loss: 0.008, val loss: 0.010, train_score: {'accuracy': 0.8408163265306122, 'precision': 0.9886363636363581, 'recall': 0.8246445497630293, 'F1': 0.8992248062010498}, val_score: {'accuracy': 0.8571428571428571, 'precision': 0.9871794871794746, 'recall': 0.8461538461538369, 'F1': 0.911242603549788}\n",
            "12 / 150, lr: 0.000100, train loss: 0.008, val loss: 0.010, train_score: {'accuracy': 0.8448979591836735, 'precision': 0.9999999999999942, 'recall': 0.8199052132701383, 'F1': 0.9010416666661668}, val_score: {'accuracy': 0.8380952380952381, 'precision': 0.9999999999999866, 'recall': 0.8131868131868043, 'F1': 0.8969696969691915}\n",
            "13 / 150, lr: 0.000100, train loss: 0.008, val loss: 0.009, train_score: {'accuracy': 0.8938775510204081, 'precision': 0.9894179894179842, 'recall': 0.8862559241706119, 'F1': 0.9349999999994968}, val_score: {'accuracy': 0.8952380952380953, 'precision': 0.9878048780487685, 'recall': 0.8901098901098804, 'F1': 0.9364161849705889}\n",
            "Guardando el modelo para la época 12, loss: 0.009045767784118652\n",
            "14 / 150, lr: 0.000100, train loss: 0.007, val loss: 0.009, train_score: {'accuracy': 0.8979591836734694, 'precision': 0.9946808510638245, 'recall': 0.8862559241706119, 'F1': 0.937343358395487}, val_score: {'accuracy': 0.8857142857142857, 'precision': 0.9876543209876422, 'recall': 0.8791208791208696, 'F1': 0.930232558139026}\n",
            "15 / 150, lr: 0.000100, train loss: 0.007, val loss: 0.010, train_score: {'accuracy': 0.8979591836734694, 'precision': 0.9843749999999949, 'recall': 0.8957345971563939, 'F1': 0.9379652605454021}, val_score: {'accuracy': 0.9047619047619048, 'precision': 0.9999999999999877, 'recall': 0.8901098901098804, 'F1': 0.9418604651157698}\n",
            "16 / 150, lr: 0.000100, train loss: 0.007, val loss: 0.008, train_score: {'accuracy': 0.9183673469387755, 'precision': 0.975124378109448, 'recall': 0.9289099526066307, 'F1': 0.9514563106791073}, val_score: {'accuracy': 0.9047619047619048, 'precision': 0.9999999999999877, 'recall': 0.8901098901098804, 'F1': 0.9418604651157698}\n",
            "Guardando el modelo para la época 15, loss: 0.007803817022414434\n",
            "17 / 150, lr: 0.000100, train loss: 0.007, val loss: 0.008, train_score: {'accuracy': 0.9183673469387755, 'precision': 0.9999999999999948, 'recall': 0.9052132701421758, 'F1': 0.9502487562184019}, val_score: {'accuracy': 0.8952380952380953, 'precision': 0.9878048780487685, 'recall': 0.8901098901098804, 'F1': 0.9364161849705889}\n",
            "18 / 150, lr: 0.000100, train loss: 0.006, val loss: 0.008, train_score: {'accuracy': 0.9224489795918367, 'precision': 0.9897959183673419, 'recall': 0.9194312796208487, 'F1': 0.9533169533164493}, val_score: {'accuracy': 0.8761904761904762, 'precision': 0.9999999999999872, 'recall': 0.8571428571428478, 'F1': 0.9230769230764151}\n",
            "19 / 150, lr: 0.000100, train loss: 0.006, val loss: 0.008, train_score: {'accuracy': 0.9387755102040817, 'precision': 0.9899999999999951, 'recall': 0.9383886255924127, 'F1': 0.9635036496345323}, val_score: {'accuracy': 0.9142857142857143, 'precision': 0.9880952380952264, 'recall': 0.9120879120879021, 'F1': 0.9485714285709186}\n",
            "20 / 150, lr: 0.000100, train loss: 0.006, val loss: 0.008, train_score: {'accuracy': 0.9428571428571428, 'precision': 0.9949748743718543, 'recall': 0.9383886255924127, 'F1': 0.9658536585360812}, val_score: {'accuracy': 0.9142857142857143, 'precision': 0.9880952380952264, 'recall': 0.9120879120879021, 'F1': 0.9485714285709186}\n",
            "21 / 150, lr: 0.000100, train loss: 0.006, val loss: 0.007, train_score: {'accuracy': 0.9551020408163265, 'precision': 0.9950495049504902, 'recall': 0.9526066350710856, 'F1': 0.9733656174329096}, val_score: {'accuracy': 0.9142857142857143, 'precision': 0.9880952380952264, 'recall': 0.9120879120879021, 'F1': 0.9485714285709186}\n",
            "Guardando el modelo para la época 20, loss: 0.007491437026432582\n",
            "22 / 150, lr: 0.000100, train loss: 0.005, val loss: 0.007, train_score: {'accuracy': 0.963265306122449, 'precision': 0.9950980392156814, 'recall': 0.9620853080568675, 'F1': 0.9783132530115436}, val_score: {'accuracy': 0.9428571428571428, 'precision': 0.9999999999999883, 'recall': 0.9340659340659239, 'F1': 0.9659090909085806}\n",
            "Guardando el modelo para la época 21, loss: 0.007125735850561233\n",
            "23 / 150, lr: 0.000100, train loss: 0.005, val loss: 0.007, train_score: {'accuracy': 0.9510204081632653, 'precision': 0.9950248756218856, 'recall': 0.9478672985781946, 'F1': 0.9708737864072625}, val_score: {'accuracy': 0.9333333333333333, 'precision': 0.9883720930232444, 'recall': 0.9340659340659239, 'F1': 0.9604519774006195}\n",
            "24 / 150, lr: 0.000100, train loss: 0.005, val loss: 0.008, train_score: {'accuracy': 0.9673469387755103, 'precision': 0.9999999999999951, 'recall': 0.9620853080568675, 'F1': 0.9806763285019109}, val_score: {'accuracy': 0.9333333333333333, 'precision': 0.9999999999999881, 'recall': 0.923076923076913, 'F1': 0.9599999999994898}\n",
            "25 / 150, lr: 0.000100, train loss: 0.005, val loss: 0.007, train_score: {'accuracy': 0.9673469387755103, 'precision': 0.9951219512195074, 'recall': 0.9668246445497585, 'F1': 0.9807692307687261}, val_score: {'accuracy': 0.9428571428571428, 'precision': 0.9999999999999883, 'recall': 0.9340659340659239, 'F1': 0.9659090909085806}\n",
            "Guardando el modelo para la época 24, loss: 0.006779125758579799\n",
            "26 / 150, lr: 0.000100, train loss: 0.005, val loss: 0.008, train_score: {'accuracy': 0.9510204081632653, 'precision': 0.999999999999995, 'recall': 0.9431279620853036, 'F1': 0.9707317073165689}, val_score: {'accuracy': 0.9428571428571428, 'precision': 0.9999999999999883, 'recall': 0.9340659340659239, 'F1': 0.9659090909085806}\n",
            "27 / 150, lr: 0.000100, train loss: 0.004, val loss: 0.007, train_score: {'accuracy': 0.9755102040816327, 'precision': 0.9999999999999951, 'recall': 0.9715639810426494, 'F1': 0.9855769230764183}, val_score: {'accuracy': 0.9238095238095239, 'precision': 0.9882352941176354, 'recall': 0.923076923076913, 'F1': 0.9545454545449443}\n",
            "28 / 150, lr: 0.000100, train loss: 0.004, val loss: 0.006, train_score: {'accuracy': 0.9795918367346939, 'precision': 0.9951923076923029, 'recall': 0.9810426540284314, 'F1': 0.9880668257751516}, val_score: {'accuracy': 0.9428571428571428, 'precision': 0.9999999999999883, 'recall': 0.9340659340659239, 'F1': 0.9659090909085806}\n",
            "Guardando el modelo para la época 27, loss: 0.00649042356581915\n",
            "29 / 150, lr: 0.000100, train loss: 0.005, val loss: 0.006, train_score: {'accuracy': 0.9673469387755103, 'precision': 0.9951219512195074, 'recall': 0.9668246445497585, 'F1': 0.9807692307687261}, val_score: {'accuracy': 0.9428571428571428, 'precision': 0.9885057471264255, 'recall': 0.9450549450549347, 'F1': 0.96629213483095}\n",
            "Guardando el modelo para la época 28, loss: 0.005906515887805394\n",
            "30 / 150, lr: 0.000100, train loss: 0.004, val loss: 0.007, train_score: {'accuracy': 0.9836734693877551, 'precision': 0.9905213270142134, 'recall': 0.9905213270142134, 'F1': 0.9905213270137133}, val_score: {'accuracy': 0.9523809523809523, 'precision': 0.9999999999999885, 'recall': 0.9450549450549347, 'F1': 0.9717514124288681}\n",
            "31 / 150, lr: 0.000100, train loss: 0.004, val loss: 0.007, train_score: {'accuracy': 0.9918367346938776, 'precision': 0.9952606635071043, 'recall': 0.9952606635071043, 'F1': 0.9952606635066042}, val_score: {'accuracy': 0.9142857142857143, 'precision': 0.9999999999999879, 'recall': 0.9010989010988912, 'F1': 0.9479768786122071}\n",
            "32 / 150, lr: 0.000100, train loss: 0.004, val loss: 0.006, train_score: {'accuracy': 0.9877551020408163, 'precision': 0.9999999999999952, 'recall': 0.9857819905213223, 'F1': 0.992840095464889}, val_score: {'accuracy': 0.9523809523809523, 'precision': 0.9999999999999885, 'recall': 0.9450549450549347, 'F1': 0.9717514124288681}\n",
            "Guardando el modelo para la época 31, loss: 0.005755114981106349\n",
            "33 / 150, lr: 0.000100, train loss: 0.004, val loss: 0.005, train_score: {'accuracy': 0.9795918367346939, 'precision': 0.9999999999999952, 'recall': 0.9763033175355404, 'F1': 0.9880095923256343}, val_score: {'accuracy': 0.9619047619047619, 'precision': 0.9999999999999886, 'recall': 0.9560439560439455, 'F1': 0.9775280898871298}\n",
            "Guardando el modelo para la época 32, loss: 0.005424542796044122\n",
            "34 / 150, lr: 0.000100, train loss: 0.004, val loss: 0.006, train_score: {'accuracy': 0.9795918367346939, 'precision': 0.9999999999999952, 'recall': 0.9763033175355404, 'F1': 0.9880095923256343}, val_score: {'accuracy': 0.9428571428571428, 'precision': 0.9999999999999883, 'recall': 0.9340659340659239, 'F1': 0.9659090909085806}\n",
            "35 / 150, lr: 0.000100, train loss: 0.004, val loss: 0.005, train_score: {'accuracy': 0.9673469387755103, 'precision': 0.990338164251203, 'recall': 0.9715639810426494, 'F1': 0.9808612440186341}, val_score: {'accuracy': 0.9619047619047619, 'precision': 0.9999999999999886, 'recall': 0.9560439560439455, 'F1': 0.9775280898871298}\n",
            "Guardando el modelo para la época 34, loss: 0.004700141435577756\n",
            "36 / 150, lr: 0.000100, train loss: 0.004, val loss: 0.005, train_score: {'accuracy': 0.9877551020408163, 'precision': 0.9999999999999952, 'recall': 0.9857819905213223, 'F1': 0.992840095464889}, val_score: {'accuracy': 0.9714285714285714, 'precision': 0.9999999999999887, 'recall': 0.9670329670329565, 'F1': 0.9832402234631763}\n",
            "37 / 150, lr: 0.000100, train loss: 0.004, val loss: 0.005, train_score: {'accuracy': 0.9836734693877551, 'precision': 0.99521531100478, 'recall': 0.9857819905213223, 'F1': 0.9904761904756858}, val_score: {'accuracy': 0.9428571428571428, 'precision': 0.9999999999999883, 'recall': 0.9340659340659239, 'F1': 0.9659090909085806}\n",
            "38 / 150, lr: 0.000100, train loss: 0.004, val loss: 0.005, train_score: {'accuracy': 0.9918367346938776, 'precision': 0.9999999999999952, 'recall': 0.9905213270142134, 'F1': 0.9952380952375904}, val_score: {'accuracy': 0.9238095238095239, 'precision': 0.9882352941176354, 'recall': 0.923076923076913, 'F1': 0.9545454545449443}\n",
            "39 / 150, lr: 0.000100, train loss: 0.004, val loss: 0.006, train_score: {'accuracy': 0.9836734693877551, 'precision': 0.99521531100478, 'recall': 0.9857819905213223, 'F1': 0.9904761904756858}, val_score: {'accuracy': 0.9428571428571428, 'precision': 0.9999999999999883, 'recall': 0.9340659340659239, 'F1': 0.9659090909085806}\n",
            "40 / 150, lr: 0.000100, train loss: 0.003, val loss: 0.005, train_score: {'accuracy': 0.9959183673469387, 'precision': 0.9999999999999952, 'recall': 0.9952606635071043, 'F1': 0.9976247030873812}, val_score: {'accuracy': 0.9523809523809523, 'precision': 0.9999999999999885, 'recall': 0.9450549450549347, 'F1': 0.9717514124288681}\n",
            "41 / 150, lr: 0.000100, train loss: 0.003, val loss: 0.005, train_score: {'accuracy': 1.0, 'precision': 0.9999999999999953, 'recall': 0.9999999999999953, 'F1': 0.9999999999994953}, val_score: {'accuracy': 0.9714285714285714, 'precision': 0.9999999999999887, 'recall': 0.9670329670329565, 'F1': 0.9832402234631763}\n",
            "42 / 150, lr: 0.000100, train loss: 0.004, val loss: 0.005, train_score: {'accuracy': 0.9795918367346939, 'precision': 0.9999999999999952, 'recall': 0.9763033175355404, 'F1': 0.9880095923256343}, val_score: {'accuracy': 0.9809523809523809, 'precision': 0.9890109890109782, 'recall': 0.9890109890109782, 'F1': 0.9890109890104781}\n",
            "Guardando el modelo para la época 41, loss: 0.0046106307279495965\n",
            "43 / 150, lr: 0.000100, train loss: 0.004, val loss: 0.005, train_score: {'accuracy': 0.9877551020408163, 'precision': 0.9999999999999952, 'recall': 0.9857819905213223, 'F1': 0.992840095464889}, val_score: {'accuracy': 0.9428571428571428, 'precision': 0.9999999999999883, 'recall': 0.9340659340659239, 'F1': 0.9659090909085806}\n",
            "44 / 150, lr: 0.000100, train loss: 0.003, val loss: 0.004, train_score: {'accuracy': 0.9836734693877551, 'precision': 0.9999999999999952, 'recall': 0.9810426540284314, 'F1': 0.9904306220090647}, val_score: {'accuracy': 0.9619047619047619, 'precision': 0.9999999999999886, 'recall': 0.9560439560439455, 'F1': 0.9775280898871298}\n",
            "Guardando el modelo para la época 43, loss: 0.004157573268527077\n",
            "45 / 150, lr: 0.000100, train loss: 0.003, val loss: 0.006, train_score: {'accuracy': 0.9836734693877551, 'precision': 0.9999999999999952, 'recall': 0.9810426540284314, 'F1': 0.9904306220090647}, val_score: {'accuracy': 0.9428571428571428, 'precision': 0.9885057471264255, 'recall': 0.9450549450549347, 'F1': 0.96629213483095}\n",
            "46 / 150, lr: 0.000100, train loss: 0.003, val loss: 0.005, train_score: {'accuracy': 0.9918367346938776, 'precision': 0.9999999999999952, 'recall': 0.9905213270142134, 'F1': 0.9952380952375904}, val_score: {'accuracy': 0.9333333333333333, 'precision': 0.9883720930232444, 'recall': 0.9340659340659239, 'F1': 0.9604519774006195}\n",
            "47 / 150, lr: 0.000100, train loss: 0.003, val loss: 0.005, train_score: {'accuracy': 0.9877551020408163, 'precision': 0.9999999999999952, 'recall': 0.9857819905213223, 'F1': 0.992840095464889}, val_score: {'accuracy': 0.9428571428571428, 'precision': 0.9885057471264255, 'recall': 0.9450549450549347, 'F1': 0.96629213483095}\n",
            "48 / 150, lr: 0.000100, train loss: 0.003, val loss: 0.006, train_score: {'accuracy': 1.0, 'precision': 0.9999999999999953, 'recall': 0.9999999999999953, 'F1': 0.9999999999994953}, val_score: {'accuracy': 0.9428571428571428, 'precision': 0.9775280898876295, 'recall': 0.9560439560439455, 'F1': 0.966666666666156}\n",
            "49 / 150, lr: 0.000100, train loss: 0.003, val loss: 0.005, train_score: {'accuracy': 0.9918367346938776, 'precision': 0.9999999999999952, 'recall': 0.9905213270142134, 'F1': 0.9952380952375904}, val_score: {'accuracy': 0.9238095238095239, 'precision': 0.999999999999988, 'recall': 0.9120879120879021, 'F1': 0.9540229885052371}\n",
            "50 / 150, lr: 0.000100, train loss: 0.003, val loss: 0.004, train_score: {'accuracy': 0.9918367346938776, 'precision': 0.9952606635071043, 'recall': 0.9952606635071043, 'F1': 0.9952606635066042}, val_score: {'accuracy': 0.9714285714285714, 'precision': 0.9999999999999887, 'recall': 0.9670329670329565, 'F1': 0.9832402234631763}\n",
            "Guardando el modelo para la época 49, loss: 0.004154559827986217\n",
            "51 / 150, lr: 0.000100, train loss: 0.003, val loss: 0.005, train_score: {'accuracy': 0.9959183673469387, 'precision': 0.9999999999999952, 'recall': 0.9952606635071043, 'F1': 0.9976247030873812}, val_score: {'accuracy': 0.9619047619047619, 'precision': 0.9999999999999886, 'recall': 0.9560439560439455, 'F1': 0.9775280898871298}\n",
            "52 / 150, lr: 0.000100, train loss: 0.003, val loss: 0.005, train_score: {'accuracy': 0.9877551020408163, 'precision': 0.9952380952380905, 'recall': 0.9905213270142134, 'F1': 0.9928741092631532}, val_score: {'accuracy': 0.9428571428571428, 'precision': 0.9999999999999883, 'recall': 0.9340659340659239, 'F1': 0.9659090909085806}\n",
            "53 / 150, lr: 0.000100, train loss: 0.003, val loss: 0.004, train_score: {'accuracy': 0.9836734693877551, 'precision': 0.99521531100478, 'recall': 0.9857819905213223, 'F1': 0.9904761904756858}, val_score: {'accuracy': 0.9714285714285714, 'precision': 0.9999999999999887, 'recall': 0.9670329670329565, 'F1': 0.9832402234631763}\n",
            "Guardando el modelo para la época 52, loss: 0.003971602945100693\n",
            "54 / 150, lr: 0.000100, train loss: 0.003, val loss: 0.004, train_score: {'accuracy': 0.9918367346938776, 'precision': 0.9999999999999952, 'recall': 0.9905213270142134, 'F1': 0.9952380952375904}, val_score: {'accuracy': 0.9619047619047619, 'precision': 0.9887640449438092, 'recall': 0.9670329670329565, 'F1': 0.9777777777772669}\n",
            "55 / 150, lr: 0.000100, train loss: 0.003, val loss: 0.004, train_score: {'accuracy': 0.9877551020408163, 'precision': 0.9999999999999952, 'recall': 0.9857819905213223, 'F1': 0.992840095464889}, val_score: {'accuracy': 0.9714285714285714, 'precision': 0.9999999999999887, 'recall': 0.9670329670329565, 'F1': 0.9832402234631763}\n",
            "Guardando el modelo para la época 54, loss: 0.003747728112198058\n",
            "56 / 150, lr: 0.000100, train loss: 0.002, val loss: 0.004, train_score: {'accuracy': 1.0, 'precision': 0.9999999999999953, 'recall': 0.9999999999999953, 'F1': 0.9999999999994953}, val_score: {'accuracy': 0.9714285714285714, 'precision': 0.9999999999999887, 'recall': 0.9670329670329565, 'F1': 0.9832402234631763}\n",
            "57 / 150, lr: 0.000100, train loss: 0.003, val loss: 0.005, train_score: {'accuracy': 1.0, 'precision': 0.9999999999999953, 'recall': 0.9999999999999953, 'F1': 0.9999999999994953}, val_score: {'accuracy': 0.9333333333333333, 'precision': 0.9883720930232444, 'recall': 0.9340659340659239, 'F1': 0.9604519774006195}\n",
            "58 / 150, lr: 0.000100, train loss: 0.003, val loss: 0.004, train_score: {'accuracy': 0.9918367346938776, 'precision': 0.9999999999999952, 'recall': 0.9905213270142134, 'F1': 0.9952380952375904}, val_score: {'accuracy': 0.9523809523809523, 'precision': 0.9886363636363524, 'recall': 0.9560439560439455, 'F1': 0.9720670391056345}\n",
            "Guardando el modelo para la época 57, loss: 0.0036750799133664085\n",
            "59 / 150, lr: 0.000100, train loss: 0.003, val loss: 0.004, train_score: {'accuracy': 0.9918367346938776, 'precision': 0.9952606635071043, 'recall': 0.9952606635071043, 'F1': 0.9952606635066042}, val_score: {'accuracy': 0.9523809523809523, 'precision': 0.9886363636363524, 'recall': 0.9560439560439455, 'F1': 0.9720670391056345}\n",
            "60 / 150, lr: 0.000100, train loss: 0.003, val loss: 0.005, train_score: {'accuracy': 0.9959183673469387, 'precision': 0.9999999999999952, 'recall': 0.9952606635071043, 'F1': 0.9976247030873812}, val_score: {'accuracy': 0.9619047619047619, 'precision': 0.9999999999999886, 'recall': 0.9560439560439455, 'F1': 0.9775280898871298}\n",
            "61 / 150, lr: 0.000100, train loss: 0.002, val loss: 0.004, train_score: {'accuracy': 1.0, 'precision': 0.9999999999999953, 'recall': 0.9999999999999953, 'F1': 0.9999999999994953}, val_score: {'accuracy': 0.9428571428571428, 'precision': 0.9885057471264255, 'recall': 0.9450549450549347, 'F1': 0.96629213483095}\n",
            "62 / 150, lr: 0.000100, train loss: 0.003, val loss: 0.004, train_score: {'accuracy': 0.9959183673469387, 'precision': 0.9999999999999952, 'recall': 0.9952606635071043, 'F1': 0.9976247030873812}, val_score: {'accuracy': 0.9619047619047619, 'precision': 0.9999999999999886, 'recall': 0.9560439560439455, 'F1': 0.9775280898871298}\n",
            "63 / 150, lr: 0.000100, train loss: 0.003, val loss: 0.004, train_score: {'accuracy': 0.9836734693877551, 'precision': 0.9999999999999952, 'recall': 0.9810426540284314, 'F1': 0.9904306220090647}, val_score: {'accuracy': 0.9809523809523809, 'precision': 0.9999999999999888, 'recall': 0.9780219780219673, 'F1': 0.9888888888883779}\n",
            "64 / 150, lr: 0.000100, train loss: 0.003, val loss: 0.004, train_score: {'accuracy': 0.9918367346938776, 'precision': 0.9999999999999952, 'recall': 0.9905213270142134, 'F1': 0.9952380952375904}, val_score: {'accuracy': 0.9714285714285714, 'precision': 0.9999999999999887, 'recall': 0.9670329670329565, 'F1': 0.9832402234631763}\n",
            "65 / 150, lr: 0.000100, train loss: 0.003, val loss: 0.003, train_score: {'accuracy': 0.9959183673469387, 'precision': 0.9999999999999952, 'recall': 0.9952606635071043, 'F1': 0.9976247030873812}, val_score: {'accuracy': 0.9904761904761905, 'precision': 0.9999999999999889, 'recall': 0.9890109890109782, 'F1': 0.9944751381210359}\n",
            "Guardando el modelo para la época 64, loss: 0.003435002054486956\n",
            "66 / 150, lr: 0.000100, train loss: 0.002, val loss: 0.004, train_score: {'accuracy': 0.9959183673469387, 'precision': 0.9952830188679198, 'recall': 0.9999999999999953, 'F1': 0.9976359338056419}, val_score: {'accuracy': 0.9714285714285714, 'precision': 0.9999999999999887, 'recall': 0.9670329670329565, 'F1': 0.9832402234631763}\n",
            "67 / 150, lr: 0.000100, train loss: 0.003, val loss: 0.003, train_score: {'accuracy': 0.9959183673469387, 'precision': 0.9952830188679198, 'recall': 0.9999999999999953, 'F1': 0.9976359338056419}, val_score: {'accuracy': 0.9619047619047619, 'precision': 0.9999999999999886, 'recall': 0.9560439560439455, 'F1': 0.9775280898871298}\n",
            "Guardando el modelo para la época 66, loss: 0.003409618139266968\n",
            "68 / 150, lr: 0.000100, train loss: 0.002, val loss: 0.003, train_score: {'accuracy': 0.9959183673469387, 'precision': 0.9999999999999952, 'recall': 0.9952606635071043, 'F1': 0.9976247030873812}, val_score: {'accuracy': 0.9714285714285714, 'precision': 0.9999999999999887, 'recall': 0.9670329670329565, 'F1': 0.9832402234631763}\n",
            "69 / 150, lr: 0.000100, train loss: 0.003, val loss: 0.005, train_score: {'accuracy': 0.9959183673469387, 'precision': 0.9952830188679198, 'recall': 0.9999999999999953, 'F1': 0.9976359338056419}, val_score: {'accuracy': 0.9714285714285714, 'precision': 0.9999999999999887, 'recall': 0.9670329670329565, 'F1': 0.9832402234631763}\n",
            "70 / 150, lr: 0.000100, train loss: 0.002, val loss: 0.004, train_score: {'accuracy': 0.9959183673469387, 'precision': 0.9999999999999952, 'recall': 0.9952606635071043, 'F1': 0.9976247030873812}, val_score: {'accuracy': 0.9714285714285714, 'precision': 0.9999999999999887, 'recall': 0.9670329670329565, 'F1': 0.9832402234631763}\n",
            "71 / 150, lr: 0.000100, train loss: 0.002, val loss: 0.005, train_score: {'accuracy': 1.0, 'precision': 0.9999999999999953, 'recall': 0.9999999999999953, 'F1': 0.9999999999994953}, val_score: {'accuracy': 0.9238095238095239, 'precision': 0.9882352941176354, 'recall': 0.923076923076913, 'F1': 0.9545454545449443}\n",
            "72 / 150, lr: 0.000100, train loss: 0.002, val loss: 0.005, train_score: {'accuracy': 1.0, 'precision': 0.9999999999999953, 'recall': 0.9999999999999953, 'F1': 0.9999999999994953}, val_score: {'accuracy': 0.9523809523809523, 'precision': 0.9999999999999885, 'recall': 0.9450549450549347, 'F1': 0.9717514124288681}\n",
            "73 / 150, lr: 0.000100, train loss: 0.002, val loss: 0.003, train_score: {'accuracy': 1.0, 'precision': 0.9999999999999953, 'recall': 0.9999999999999953, 'F1': 0.9999999999994953}, val_score: {'accuracy': 0.9714285714285714, 'precision': 0.9999999999999887, 'recall': 0.9670329670329565, 'F1': 0.9832402234631763}\n",
            "Guardando el modelo para la época 72, loss: 0.003292662331036159\n",
            "74 / 150, lr: 0.000100, train loss: 0.002, val loss: 0.003, train_score: {'accuracy': 0.9959183673469387, 'precision': 0.9999999999999952, 'recall': 0.9952606635071043, 'F1': 0.9976247030873812}, val_score: {'accuracy': 0.9809523809523809, 'precision': 0.9999999999999888, 'recall': 0.9780219780219673, 'F1': 0.9888888888883779}\n",
            "75 / 150, lr: 0.000100, train loss: 0.002, val loss: 0.004, train_score: {'accuracy': 0.9918367346938776, 'precision': 0.9952606635071043, 'recall': 0.9952606635071043, 'F1': 0.9952606635066042}, val_score: {'accuracy': 0.9619047619047619, 'precision': 0.9887640449438092, 'recall': 0.9670329670329565, 'F1': 0.9777777777772669}\n",
            "76 / 150, lr: 0.000100, train loss: 0.002, val loss: 0.003, train_score: {'accuracy': 1.0, 'precision': 0.9999999999999953, 'recall': 0.9999999999999953, 'F1': 0.9999999999994953}, val_score: {'accuracy': 0.9714285714285714, 'precision': 0.9999999999999887, 'recall': 0.9670329670329565, 'F1': 0.9832402234631763}\n",
            "Guardando el modelo para la época 75, loss: 0.0030491579856191365\n",
            "77 / 150, lr: 0.000100, train loss: 0.002, val loss: 0.003, train_score: {'accuracy': 1.0, 'precision': 0.9999999999999953, 'recall': 0.9999999999999953, 'F1': 0.9999999999994953}, val_score: {'accuracy': 0.9714285714285714, 'precision': 0.9999999999999887, 'recall': 0.9670329670329565, 'F1': 0.9832402234631763}\n",
            "78 / 150, lr: 0.000100, train loss: 0.002, val loss: 0.003, train_score: {'accuracy': 0.9959183673469387, 'precision': 0.9999999999999952, 'recall': 0.9952606635071043, 'F1': 0.9976247030873812}, val_score: {'accuracy': 0.9809523809523809, 'precision': 0.9999999999999888, 'recall': 0.9780219780219673, 'F1': 0.9888888888883779}\n",
            "79 / 150, lr: 0.000100, train loss: 0.002, val loss: 0.004, train_score: {'accuracy': 1.0, 'precision': 0.9999999999999953, 'recall': 0.9999999999999953, 'F1': 0.9999999999994953}, val_score: {'accuracy': 0.9619047619047619, 'precision': 0.9999999999999886, 'recall': 0.9560439560439455, 'F1': 0.9775280898871298}\n",
            "80 / 150, lr: 0.000100, train loss: 0.002, val loss: 0.003, train_score: {'accuracy': 0.9877551020408163, 'precision': 0.9999999999999952, 'recall': 0.9857819905213223, 'F1': 0.992840095464889}, val_score: {'accuracy': 0.9714285714285714, 'precision': 0.9999999999999887, 'recall': 0.9670329670329565, 'F1': 0.9832402234631763}\n",
            "81 / 150, lr: 0.000100, train loss: 0.002, val loss: 0.003, train_score: {'accuracy': 0.9959183673469387, 'precision': 0.9999999999999952, 'recall': 0.9952606635071043, 'F1': 0.9976247030873812}, val_score: {'accuracy': 0.9904761904761905, 'precision': 0.9999999999999889, 'recall': 0.9890109890109782, 'F1': 0.9944751381210359}\n",
            "Guardando el modelo para la época 80, loss: 0.0029389676593598864\n",
            "82 / 150, lr: 0.000100, train loss: 0.002, val loss: 0.003, train_score: {'accuracy': 0.9959183673469387, 'precision': 0.9999999999999952, 'recall': 0.9952606635071043, 'F1': 0.9976247030873812}, val_score: {'accuracy': 0.9904761904761905, 'precision': 0.9999999999999889, 'recall': 0.9890109890109782, 'F1': 0.9944751381210359}\n",
            "83 / 150, lr: 0.000100, train loss: 0.002, val loss: 0.003, train_score: {'accuracy': 1.0, 'precision': 0.9999999999999953, 'recall': 0.9999999999999953, 'F1': 0.9999999999994953}, val_score: {'accuracy': 0.9809523809523809, 'precision': 0.9999999999999888, 'recall': 0.9780219780219673, 'F1': 0.9888888888883779}\n",
            "Guardando el modelo para la época 82, loss: 0.0027721410705929712\n",
            "84 / 150, lr: 0.000100, train loss: 0.002, val loss: 0.003, train_score: {'accuracy': 0.9959183673469387, 'precision': 0.9952830188679198, 'recall': 0.9999999999999953, 'F1': 0.9976359338056419}, val_score: {'accuracy': 0.9809523809523809, 'precision': 0.9999999999999888, 'recall': 0.9780219780219673, 'F1': 0.9888888888883779}\n",
            "85 / 150, lr: 0.000100, train loss: 0.002, val loss: 0.003, train_score: {'accuracy': 1.0, 'precision': 0.9999999999999953, 'recall': 0.9999999999999953, 'F1': 0.9999999999994953}, val_score: {'accuracy': 0.9619047619047619, 'precision': 0.9999999999999886, 'recall': 0.9560439560439455, 'F1': 0.9775280898871298}\n",
            "86 / 150, lr: 0.000100, train loss: 0.002, val loss: 0.004, train_score: {'accuracy': 1.0, 'precision': 0.9999999999999953, 'recall': 0.9999999999999953, 'F1': 0.9999999999994953}, val_score: {'accuracy': 0.9714285714285714, 'precision': 0.9999999999999887, 'recall': 0.9670329670329565, 'F1': 0.9832402234631763}\n",
            "87 / 150, lr: 0.000100, train loss: 0.002, val loss: 0.003, train_score: {'accuracy': 1.0, 'precision': 0.9999999999999953, 'recall': 0.9999999999999953, 'F1': 0.9999999999994953}, val_score: {'accuracy': 0.9714285714285714, 'precision': 0.9999999999999887, 'recall': 0.9670329670329565, 'F1': 0.9832402234631763}\n",
            "88 / 150, lr: 0.000100, train loss: 0.002, val loss: 0.004, train_score: {'accuracy': 0.9877551020408163, 'precision': 0.9999999999999952, 'recall': 0.9857819905213223, 'F1': 0.992840095464889}, val_score: {'accuracy': 0.9428571428571428, 'precision': 0.9999999999999883, 'recall': 0.9340659340659239, 'F1': 0.9659090909085806}\n",
            "89 / 150, lr: 0.000100, train loss: 0.002, val loss: 0.003, train_score: {'accuracy': 1.0, 'precision': 0.9999999999999953, 'recall': 0.9999999999999953, 'F1': 0.9999999999994953}, val_score: {'accuracy': 0.9904761904761905, 'precision': 0.9999999999999889, 'recall': 0.9890109890109782, 'F1': 0.9944751381210359}\n",
            "90 / 150, lr: 0.000100, train loss: 0.002, val loss: 0.004, train_score: {'accuracy': 1.0, 'precision': 0.9999999999999953, 'recall': 0.9999999999999953, 'F1': 0.9999999999994953}, val_score: {'accuracy': 0.9809523809523809, 'precision': 0.9999999999999888, 'recall': 0.9780219780219673, 'F1': 0.9888888888883779}\n",
            "91 / 150, lr: 0.000100, train loss: 0.002, val loss: 0.003, train_score: {'accuracy': 1.0, 'precision': 0.9999999999999953, 'recall': 0.9999999999999953, 'F1': 0.9999999999994953}, val_score: {'accuracy': 0.9904761904761905, 'precision': 0.9999999999999889, 'recall': 0.9890109890109782, 'F1': 0.9944751381210359}\n",
            "92 / 150, lr: 0.000100, train loss: 0.002, val loss: 0.003, train_score: {'accuracy': 0.9877551020408163, 'precision': 0.9999999999999952, 'recall': 0.9857819905213223, 'F1': 0.992840095464889}, val_score: {'accuracy': 0.9428571428571428, 'precision': 0.9999999999999883, 'recall': 0.9340659340659239, 'F1': 0.9659090909085806}\n",
            "93 / 150, lr: 0.000100, train loss: 0.002, val loss: 0.004, train_score: {'accuracy': 1.0, 'precision': 0.9999999999999953, 'recall': 0.9999999999999953, 'F1': 0.9999999999994953}, val_score: {'accuracy': 0.9428571428571428, 'precision': 0.9885057471264255, 'recall': 0.9450549450549347, 'F1': 0.96629213483095}\n",
            "94 / 150, lr: 0.000100, train loss: 0.002, val loss: 0.005, train_score: {'accuracy': 1.0, 'precision': 0.9999999999999953, 'recall': 0.9999999999999953, 'F1': 0.9999999999994953}, val_score: {'accuracy': 0.9428571428571428, 'precision': 0.9999999999999883, 'recall': 0.9340659340659239, 'F1': 0.9659090909085806}\n",
            "95 / 150, lr: 0.000100, train loss: 0.002, val loss: 0.002, train_score: {'accuracy': 1.0, 'precision': 0.9999999999999953, 'recall': 0.9999999999999953, 'F1': 0.9999999999994953}, val_score: {'accuracy': 0.9809523809523809, 'precision': 0.9999999999999888, 'recall': 0.9780219780219673, 'F1': 0.9888888888883779}\n",
            "Guardando el modelo para la época 94, loss: 0.0022500628516787576\n",
            "96 / 150, lr: 0.000100, train loss: 0.002, val loss: 0.003, train_score: {'accuracy': 1.0, 'precision': 0.9999999999999953, 'recall': 0.9999999999999953, 'F1': 0.9999999999994953}, val_score: {'accuracy': 0.9619047619047619, 'precision': 0.9999999999999886, 'recall': 0.9560439560439455, 'F1': 0.9775280898871298}\n",
            "97 / 150, lr: 0.000100, train loss: 0.002, val loss: 0.002, train_score: {'accuracy': 0.9959183673469387, 'precision': 0.9999999999999952, 'recall': 0.9952606635071043, 'F1': 0.9976247030873812}, val_score: {'accuracy': 0.9904761904761905, 'precision': 0.9999999999999889, 'recall': 0.9890109890109782, 'F1': 0.9944751381210359}\n",
            "98 / 150, lr: 0.000100, train loss: 0.001, val loss: 0.002, train_score: {'accuracy': 1.0, 'precision': 0.9999999999999953, 'recall': 0.9999999999999953, 'F1': 0.9999999999994953}, val_score: {'accuracy': 0.9904761904761905, 'precision': 0.9999999999999889, 'recall': 0.9890109890109782, 'F1': 0.9944751381210359}\n",
            "99 / 150, lr: 0.000100, train loss: 0.002, val loss: 0.004, train_score: {'accuracy': 0.9959183673469387, 'precision': 0.9999999999999952, 'recall': 0.9952606635071043, 'F1': 0.9976247030873812}, val_score: {'accuracy': 0.9714285714285714, 'precision': 0.9999999999999887, 'recall': 0.9670329670329565, 'F1': 0.9832402234631763}\n",
            "100 / 150, lr: 0.000100, train loss: 0.002, val loss: 0.002, train_score: {'accuracy': 0.9918367346938776, 'precision': 0.9999999999999952, 'recall': 0.9905213270142134, 'F1': 0.9952380952375904}, val_score: {'accuracy': 0.9904761904761905, 'precision': 0.9999999999999889, 'recall': 0.9890109890109782, 'F1': 0.9944751381210359}\n",
            "101 / 150, lr: 0.000100, train loss: 0.002, val loss: 0.003, train_score: {'accuracy': 1.0, 'precision': 0.9999999999999953, 'recall': 0.9999999999999953, 'F1': 0.9999999999994953}, val_score: {'accuracy': 0.9809523809523809, 'precision': 0.9999999999999888, 'recall': 0.9780219780219673, 'F1': 0.9888888888883779}\n",
            "102 / 150, lr: 0.000100, train loss: 0.002, val loss: 0.010, train_score: {'accuracy': 1.0, 'precision': 0.9999999999999953, 'recall': 0.9999999999999953, 'F1': 0.9999999999994953}, val_score: {'accuracy': 0.9333333333333333, 'precision': 0.9999999999999881, 'recall': 0.923076923076913, 'F1': 0.9599999999994898}\n",
            "103 / 150, lr: 0.000100, train loss: 0.001, val loss: 0.002, train_score: {'accuracy': 1.0, 'precision': 0.9999999999999953, 'recall': 0.9999999999999953, 'F1': 0.9999999999994953}, val_score: {'accuracy': 0.9904761904761905, 'precision': 0.9999999999999889, 'recall': 0.9890109890109782, 'F1': 0.9944751381210359}\n",
            "104 / 150, lr: 0.000100, train loss: 0.001, val loss: 0.003, train_score: {'accuracy': 1.0, 'precision': 0.9999999999999953, 'recall': 0.9999999999999953, 'F1': 0.9999999999994953}, val_score: {'accuracy': 0.9809523809523809, 'precision': 0.9999999999999888, 'recall': 0.9780219780219673, 'F1': 0.9888888888883779}\n",
            "105 / 150, lr: 0.000100, train loss: 0.002, val loss: 0.002, train_score: {'accuracy': 1.0, 'precision': 0.9999999999999953, 'recall': 0.9999999999999953, 'F1': 0.9999999999994953}, val_score: {'accuracy': 0.9904761904761905, 'precision': 0.9999999999999889, 'recall': 0.9890109890109782, 'F1': 0.9944751381210359}\n",
            "Guardando el modelo para la época 104, loss: 0.0020710876300221396\n",
            "106 / 150, lr: 0.000100, train loss: 0.001, val loss: 0.002, train_score: {'accuracy': 1.0, 'precision': 0.9999999999999953, 'recall': 0.9999999999999953, 'F1': 0.9999999999994953}, val_score: {'accuracy': 0.9714285714285714, 'precision': 0.9999999999999887, 'recall': 0.9670329670329565, 'F1': 0.9832402234631763}\n",
            "107 / 150, lr: 0.000100, train loss: 0.001, val loss: 0.003, train_score: {'accuracy': 1.0, 'precision': 0.9999999999999953, 'recall': 0.9999999999999953, 'F1': 0.9999999999994953}, val_score: {'accuracy': 0.9904761904761905, 'precision': 0.9999999999999889, 'recall': 0.9890109890109782, 'F1': 0.9944751381210359}\n",
            "108 / 150, lr: 0.000100, train loss: 0.001, val loss: 0.002, train_score: {'accuracy': 1.0, 'precision': 0.9999999999999953, 'recall': 0.9999999999999953, 'F1': 0.9999999999994953}, val_score: {'accuracy': 1.0, 'precision': 0.9999999999999891, 'recall': 0.9999999999999891, 'F1': 0.9999999999994891}\n",
            "109 / 150, lr: 0.000100, train loss: 0.001, val loss: 0.002, train_score: {'accuracy': 1.0, 'precision': 0.9999999999999953, 'recall': 0.9999999999999953, 'F1': 0.9999999999994953}, val_score: {'accuracy': 0.9809523809523809, 'precision': 0.9999999999999888, 'recall': 0.9780219780219673, 'F1': 0.9888888888883779}\n",
            "110 / 150, lr: 0.000100, train loss: 0.001, val loss: 0.002, train_score: {'accuracy': 1.0, 'precision': 0.9999999999999953, 'recall': 0.9999999999999953, 'F1': 0.9999999999994953}, val_score: {'accuracy': 0.9809523809523809, 'precision': 0.9999999999999888, 'recall': 0.9780219780219673, 'F1': 0.9888888888883779}\n",
            "111 / 150, lr: 0.000100, train loss: 0.001, val loss: 0.003, train_score: {'accuracy': 1.0, 'precision': 0.9999999999999953, 'recall': 0.9999999999999953, 'F1': 0.9999999999994953}, val_score: {'accuracy': 0.9619047619047619, 'precision': 0.9999999999999886, 'recall': 0.9560439560439455, 'F1': 0.9775280898871298}\n",
            "112 / 150, lr: 0.000100, train loss: 0.001, val loss: 0.002, train_score: {'accuracy': 1.0, 'precision': 0.9999999999999953, 'recall': 0.9999999999999953, 'F1': 0.9999999999994953}, val_score: {'accuracy': 0.9809523809523809, 'precision': 0.9999999999999888, 'recall': 0.9780219780219673, 'F1': 0.9888888888883779}\n",
            "Guardando el modelo para la época 111, loss: 0.0019850526182424453\n",
            "113 / 150, lr: 0.000100, train loss: 0.001, val loss: 0.003, train_score: {'accuracy': 1.0, 'precision': 0.9999999999999953, 'recall': 0.9999999999999953, 'F1': 0.9999999999994953}, val_score: {'accuracy': 0.9619047619047619, 'precision': 0.9999999999999886, 'recall': 0.9560439560439455, 'F1': 0.9775280898871298}\n",
            "114 / 150, lr: 0.000100, train loss: 0.001, val loss: 0.002, train_score: {'accuracy': 1.0, 'precision': 0.9999999999999953, 'recall': 0.9999999999999953, 'F1': 0.9999999999994953}, val_score: {'accuracy': 0.9904761904761905, 'precision': 0.9999999999999889, 'recall': 0.9890109890109782, 'F1': 0.9944751381210359}\n",
            "Guardando el modelo para la época 113, loss: 0.0019298616619337172\n",
            "115 / 150, lr: 0.000100, train loss: 0.001, val loss: 0.002, train_score: {'accuracy': 1.0, 'precision': 0.9999999999999953, 'recall': 0.9999999999999953, 'F1': 0.9999999999994953}, val_score: {'accuracy': 0.9809523809523809, 'precision': 0.9999999999999888, 'recall': 0.9780219780219673, 'F1': 0.9888888888883779}\n",
            "116 / 150, lr: 0.000100, train loss: 0.001, val loss: 0.004, train_score: {'accuracy': 1.0, 'precision': 0.9999999999999953, 'recall': 0.9999999999999953, 'F1': 0.9999999999994953}, val_score: {'accuracy': 0.9809523809523809, 'precision': 0.9999999999999888, 'recall': 0.9780219780219673, 'F1': 0.9888888888883779}\n",
            "117 / 150, lr: 0.000100, train loss: 0.001, val loss: 0.002, train_score: {'accuracy': 1.0, 'precision': 0.9999999999999953, 'recall': 0.9999999999999953, 'F1': 0.9999999999994953}, val_score: {'accuracy': 0.9904761904761905, 'precision': 0.9999999999999889, 'recall': 0.9890109890109782, 'F1': 0.9944751381210359}\n",
            "118 / 150, lr: 0.000100, train loss: 0.001, val loss: 0.003, train_score: {'accuracy': 1.0, 'precision': 0.9999999999999953, 'recall': 0.9999999999999953, 'F1': 0.9999999999994953}, val_score: {'accuracy': 0.9619047619047619, 'precision': 0.9999999999999886, 'recall': 0.9560439560439455, 'F1': 0.9775280898871298}\n",
            "119 / 150, lr: 0.000100, train loss: 0.001, val loss: 0.003, train_score: {'accuracy': 1.0, 'precision': 0.9999999999999953, 'recall': 0.9999999999999953, 'F1': 0.9999999999994953}, val_score: {'accuracy': 0.9619047619047619, 'precision': 0.9999999999999886, 'recall': 0.9560439560439455, 'F1': 0.9775280898871298}\n",
            "120 / 150, lr: 0.000100, train loss: 0.001, val loss: 0.002, train_score: {'accuracy': 0.9959183673469387, 'precision': 0.9999999999999952, 'recall': 0.9952606635071043, 'F1': 0.9976247030873812}, val_score: {'accuracy': 0.9809523809523809, 'precision': 0.9999999999999888, 'recall': 0.9780219780219673, 'F1': 0.9888888888883779}\n",
            "121 / 150, lr: 0.000100, train loss: 0.001, val loss: 0.002, train_score: {'accuracy': 1.0, 'precision': 0.9999999999999953, 'recall': 0.9999999999999953, 'F1': 0.9999999999994953}, val_score: {'accuracy': 0.9714285714285714, 'precision': 0.9999999999999887, 'recall': 0.9670329670329565, 'F1': 0.9832402234631763}\n",
            "122 / 150, lr: 0.000100, train loss: 0.002, val loss: 0.004, train_score: {'accuracy': 0.9918367346938776, 'precision': 0.9952606635071043, 'recall': 0.9952606635071043, 'F1': 0.9952606635066042}, val_score: {'accuracy': 0.9809523809523809, 'precision': 0.9999999999999888, 'recall': 0.9780219780219673, 'F1': 0.9888888888883779}\n",
            "123 / 150, lr: 0.000100, train loss: 0.001, val loss: 0.002, train_score: {'accuracy': 1.0, 'precision': 0.9999999999999953, 'recall': 0.9999999999999953, 'F1': 0.9999999999994953}, val_score: {'accuracy': 1.0, 'precision': 0.9999999999999891, 'recall': 0.9999999999999891, 'F1': 0.9999999999994891}\n",
            "Guardando el modelo para la época 122, loss: 0.001655445389804386\n",
            "124 / 150, lr: 0.000100, train loss: 0.001, val loss: 0.002, train_score: {'accuracy': 1.0, 'precision': 0.9999999999999953, 'recall': 0.9999999999999953, 'F1': 0.9999999999994953}, val_score: {'accuracy': 0.9904761904761905, 'precision': 0.9999999999999889, 'recall': 0.9890109890109782, 'F1': 0.9944751381210359}\n",
            "125 / 150, lr: 0.000100, train loss: 0.001, val loss: 0.002, train_score: {'accuracy': 1.0, 'precision': 0.9999999999999953, 'recall': 0.9999999999999953, 'F1': 0.9999999999994953}, val_score: {'accuracy': 0.9904761904761905, 'precision': 0.9999999999999889, 'recall': 0.9890109890109782, 'F1': 0.9944751381210359}\n",
            "126 / 150, lr: 0.000100, train loss: 0.001, val loss: 0.002, train_score: {'accuracy': 1.0, 'precision': 0.9999999999999953, 'recall': 0.9999999999999953, 'F1': 0.9999999999994953}, val_score: {'accuracy': 0.9904761904761905, 'precision': 0.9999999999999889, 'recall': 0.9890109890109782, 'F1': 0.9944751381210359}\n",
            "127 / 150, lr: 0.000100, train loss: 0.001, val loss: 0.002, train_score: {'accuracy': 1.0, 'precision': 0.9999999999999953, 'recall': 0.9999999999999953, 'F1': 0.9999999999994953}, val_score: {'accuracy': 0.9904761904761905, 'precision': 0.9999999999999889, 'recall': 0.9890109890109782, 'F1': 0.9944751381210359}\n",
            "128 / 150, lr: 0.000100, train loss: 0.001, val loss: 0.002, train_score: {'accuracy': 1.0, 'precision': 0.9999999999999953, 'recall': 0.9999999999999953, 'F1': 0.9999999999994953}, val_score: {'accuracy': 0.9904761904761905, 'precision': 0.9999999999999889, 'recall': 0.9890109890109782, 'F1': 0.9944751381210359}\n",
            "129 / 150, lr: 0.000100, train loss: 0.001, val loss: 0.003, train_score: {'accuracy': 1.0, 'precision': 0.9999999999999953, 'recall': 0.9999999999999953, 'F1': 0.9999999999994953}, val_score: {'accuracy': 0.9714285714285714, 'precision': 0.9999999999999887, 'recall': 0.9670329670329565, 'F1': 0.9832402234631763}\n",
            "130 / 150, lr: 0.000100, train loss: 0.001, val loss: 0.002, train_score: {'accuracy': 1.0, 'precision': 0.9999999999999953, 'recall': 0.9999999999999953, 'F1': 0.9999999999994953}, val_score: {'accuracy': 0.9714285714285714, 'precision': 0.9999999999999887, 'recall': 0.9670329670329565, 'F1': 0.9832402234631763}\n",
            "131 / 150, lr: 0.000100, train loss: 0.001, val loss: 0.002, train_score: {'accuracy': 1.0, 'precision': 0.9999999999999953, 'recall': 0.9999999999999953, 'F1': 0.9999999999994953}, val_score: {'accuracy': 1.0, 'precision': 0.9999999999999891, 'recall': 0.9999999999999891, 'F1': 0.9999999999994891}\n",
            "132 / 150, lr: 0.000100, train loss: 0.001, val loss: 0.004, train_score: {'accuracy': 1.0, 'precision': 0.9999999999999953, 'recall': 0.9999999999999953, 'F1': 0.9999999999994953}, val_score: {'accuracy': 0.9714285714285714, 'precision': 0.9999999999999887, 'recall': 0.9670329670329565, 'F1': 0.9832402234631763}\n",
            "133 / 150, lr: 0.000100, train loss: 0.001, val loss: 0.003, train_score: {'accuracy': 1.0, 'precision': 0.9999999999999953, 'recall': 0.9999999999999953, 'F1': 0.9999999999994953}, val_score: {'accuracy': 0.9809523809523809, 'precision': 0.9999999999999888, 'recall': 0.9780219780219673, 'F1': 0.9888888888883779}\n",
            "134 / 150, lr: 0.000100, train loss: 0.001, val loss: 0.002, train_score: {'accuracy': 1.0, 'precision': 0.9999999999999953, 'recall': 0.9999999999999953, 'F1': 0.9999999999994953}, val_score: {'accuracy': 0.9904761904761905, 'precision': 0.9999999999999889, 'recall': 0.9890109890109782, 'F1': 0.9944751381210359}\n",
            "135 / 150, lr: 0.000100, train loss: 0.001, val loss: 0.002, train_score: {'accuracy': 1.0, 'precision': 0.9999999999999953, 'recall': 0.9999999999999953, 'F1': 0.9999999999994953}, val_score: {'accuracy': 0.9809523809523809, 'precision': 0.9999999999999888, 'recall': 0.9780219780219673, 'F1': 0.9888888888883779}\n",
            "136 / 150, lr: 0.000100, train loss: 0.001, val loss: 0.002, train_score: {'accuracy': 0.9959183673469387, 'precision': 0.9999999999999952, 'recall': 0.9952606635071043, 'F1': 0.9976247030873812}, val_score: {'accuracy': 0.9904761904761905, 'precision': 0.9999999999999889, 'recall': 0.9890109890109782, 'F1': 0.9944751381210359}\n",
            "137 / 150, lr: 0.000100, train loss: 0.001, val loss: 0.004, train_score: {'accuracy': 1.0, 'precision': 0.9999999999999953, 'recall': 0.9999999999999953, 'F1': 0.9999999999994953}, val_score: {'accuracy': 0.9428571428571428, 'precision': 0.9999999999999883, 'recall': 0.9340659340659239, 'F1': 0.9659090909085806}\n",
            "138 / 150, lr: 0.000100, train loss: 0.001, val loss: 0.003, train_score: {'accuracy': 1.0, 'precision': 0.9999999999999953, 'recall': 0.9999999999999953, 'F1': 0.9999999999994953}, val_score: {'accuracy': 0.9714285714285714, 'precision': 0.9999999999999887, 'recall': 0.9670329670329565, 'F1': 0.9832402234631763}\n",
            "139 / 150, lr: 0.000100, train loss: 0.001, val loss: 0.002, train_score: {'accuracy': 1.0, 'precision': 0.9999999999999953, 'recall': 0.9999999999999953, 'F1': 0.9999999999994953}, val_score: {'accuracy': 1.0, 'precision': 0.9999999999999891, 'recall': 0.9999999999999891, 'F1': 0.9999999999994891}\n",
            "Guardando el modelo para la época 138, loss: 0.0016473757369177683\n",
            "140 / 150, lr: 0.000100, train loss: 0.001, val loss: 0.006, train_score: {'accuracy': 1.0, 'precision': 0.9999999999999953, 'recall': 0.9999999999999953, 'F1': 0.9999999999994953}, val_score: {'accuracy': 0.9619047619047619, 'precision': 0.9999999999999886, 'recall': 0.9560439560439455, 'F1': 0.9775280898871298}\n",
            "141 / 150, lr: 0.000100, train loss: 0.001, val loss: 0.003, train_score: {'accuracy': 1.0, 'precision': 0.9999999999999953, 'recall': 0.9999999999999953, 'F1': 0.9999999999994953}, val_score: {'accuracy': 0.9619047619047619, 'precision': 0.9999999999999886, 'recall': 0.9560439560439455, 'F1': 0.9775280898871298}\n",
            "142 / 150, lr: 0.000100, train loss: 0.001, val loss: 0.002, train_score: {'accuracy': 1.0, 'precision': 0.9999999999999953, 'recall': 0.9999999999999953, 'F1': 0.9999999999994953}, val_score: {'accuracy': 0.9904761904761905, 'precision': 0.9999999999999889, 'recall': 0.9890109890109782, 'F1': 0.9944751381210359}\n",
            "143 / 150, lr: 0.000100, train loss: 0.001, val loss: 0.002, train_score: {'accuracy': 0.9959183673469387, 'precision': 0.9999999999999952, 'recall': 0.9952606635071043, 'F1': 0.9976247030873812}, val_score: {'accuracy': 0.9904761904761905, 'precision': 0.9999999999999889, 'recall': 0.9890109890109782, 'F1': 0.9944751381210359}\n",
            "144 / 150, lr: 0.000100, train loss: 0.001, val loss: 0.002, train_score: {'accuracy': 1.0, 'precision': 0.9999999999999953, 'recall': 0.9999999999999953, 'F1': 0.9999999999994953}, val_score: {'accuracy': 0.9904761904761905, 'precision': 0.9999999999999889, 'recall': 0.9890109890109782, 'F1': 0.9944751381210359}\n",
            "145 / 150, lr: 0.000100, train loss: 0.001, val loss: 0.005, train_score: {'accuracy': 1.0, 'precision': 0.9999999999999953, 'recall': 0.9999999999999953, 'F1': 0.9999999999994953}, val_score: {'accuracy': 0.9428571428571428, 'precision': 0.9885057471264255, 'recall': 0.9450549450549347, 'F1': 0.96629213483095}\n",
            "146 / 150, lr: 0.000100, train loss: 0.001, val loss: 0.002, train_score: {'accuracy': 1.0, 'precision': 0.9999999999999953, 'recall': 0.9999999999999953, 'F1': 0.9999999999994953}, val_score: {'accuracy': 0.9904761904761905, 'precision': 0.9999999999999889, 'recall': 0.9890109890109782, 'F1': 0.9944751381210359}\n",
            "Guardando el modelo para la época 145, loss: 0.0016394341985384623\n",
            "147 / 150, lr: 0.000100, train loss: 0.001, val loss: 0.002, train_score: {'accuracy': 1.0, 'precision': 0.9999999999999953, 'recall': 0.9999999999999953, 'F1': 0.9999999999994953}, val_score: {'accuracy': 0.9809523809523809, 'precision': 0.9999999999999888, 'recall': 0.9780219780219673, 'F1': 0.9888888888883779}\n",
            "148 / 150, lr: 0.000100, train loss: 0.001, val loss: 0.002, train_score: {'accuracy': 1.0, 'precision': 0.9999999999999953, 'recall': 0.9999999999999953, 'F1': 0.9999999999994953}, val_score: {'accuracy': 0.9809523809523809, 'precision': 0.9999999999999888, 'recall': 0.9780219780219673, 'F1': 0.9888888888883779}\n",
            "149 / 150, lr: 0.000100, train loss: 0.001, val loss: 0.001, train_score: {'accuracy': 1.0, 'precision': 0.9999999999999953, 'recall': 0.9999999999999953, 'F1': 0.9999999999994953}, val_score: {'accuracy': 1.0, 'precision': 0.9999999999999891, 'recall': 0.9999999999999891, 'F1': 0.9999999999994891}\n",
            "Guardando el modelo para la época 148, loss: 0.001366999035789853\n",
            "150 / 150, lr: 0.000100, train loss: 0.001, val loss: 0.002, train_score: {'accuracy': 1.0, 'precision': 0.9999999999999953, 'recall': 0.9999999999999953, 'F1': 0.9999999999994953}, val_score: {'accuracy': 0.9809523809523809, 'precision': 0.9999999999999888, 'recall': 0.9780219780219673, 'F1': 0.9888888888883779}\n",
            "Best Loss: 0.001366999035789853.\n",
            "Best Epoch: 148.\n",
            "Finished Training\n"
          ]
        }
      ]
    },
    {
      "cell_type": "code",
      "source": [
        "wandb.finish()"
      ],
      "metadata": {
        "id": "8Npp1l-naKbR"
      },
      "execution_count": null,
      "outputs": []
    },
    {
      "cell_type": "markdown",
      "source": [
        "#### Cargamos el mejor modelo"
      ],
      "metadata": {
        "id": "W9j0RNEP3075"
      }
    },
    {
      "cell_type": "code",
      "source": [
        "PATH = './' + experiment_name + '.pth'\n",
        "model.load_state_dict(torch.load(PATH, weights_only=True))"
      ],
      "metadata": {
        "id": "AXbMIR9wRaAY"
      },
      "execution_count": null,
      "outputs": []
    },
    {
      "cell_type": "code",
      "source": [
        "test_dl = get_test_dl(test_data, batch_size=len(test_data))"
      ],
      "metadata": {
        "id": "roDfo_LxQm0M"
      },
      "execution_count": null,
      "outputs": []
    },
    {
      "cell_type": "markdown",
      "source": [
        "###Utilizamos el mejor modelo para evaluar en el dataset de test"
      ],
      "metadata": {
        "id": "HNsi9Sw04HNK"
      }
    },
    {
      "cell_type": "code",
      "source": [
        "model.eval()\n",
        "\n",
        "all_preds = []\n",
        "all_labels = []\n",
        "\n",
        "TP_total = 0\n",
        "TN_total = 0\n",
        "FP_total = 0\n",
        "FN_total = 0\n",
        "\n",
        "with torch.no_grad():\n",
        "  for data in test_dl:\n",
        "      images, labels = data[0].to(device), data[1].to(device)\n",
        "      outputs = model(images)\n",
        "      predicted = (outputs.data > THRESHOLD).float()\n",
        "\n",
        "      all_preds.extend(predicted.cpu().numpy().flatten())\n",
        "      all_labels.extend(labels.cpu().numpy().flatten())\n",
        "\n",
        "      TP_total += ((predicted == 1) & (labels == 1)).sum().item()\n",
        "      TN_total += ((predicted == 0) & (labels == 0)).sum().item()\n",
        "      FP_total += ((predicted == 1) & (labels == 0)).sum().item()\n",
        "      FN_total += ((predicted == 0) & (labels == 1)).sum().item()\n",
        "\n",
        "  for i in range(len(labels)):\n",
        "      label = labels[i].cpu().item()  # Obtener el valor de la etiqueta\n",
        "      prediction = predicted[i].cpu().item()  # Obtener el valor de la predicción\n",
        "      print(f\"Label = {label}, Predicción = {prediction}\")"
      ],
      "metadata": {
        "id": "BUeJ74l4Zt_c",
        "collapsed": true
      },
      "execution_count": null,
      "outputs": []
    },
    {
      "cell_type": "markdown",
      "source": [
        "####Hacemos la matriz de confusión para los resultados de test e imprimimos las métricas"
      ],
      "metadata": {
        "id": "dnKVR3Uu4QQk"
      }
    },
    {
      "cell_type": "code",
      "source": [
        "confusionMatrix(all_preds, all_labels)\n",
        "print(compute_metrics(TP_total, TN_total, FP_total, FN_total))"
      ],
      "metadata": {
        "id": "8w02BUTvZN9V"
      },
      "execution_count": null,
      "outputs": []
    }
  ]
}