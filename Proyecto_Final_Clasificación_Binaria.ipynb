{
  "nbformat": 4,
  "nbformat_minor": 0,
  "metadata": {
    "colab": {
      "provenance": [],
      "gpuType": "T4",
      "include_colab_link": true
    },
    "kernelspec": {
      "name": "python3",
      "display_name": "Python 3"
    },
    "language_info": {
      "name": "python"
    },
    "accelerator": "GPU"
  },
  "cells": [
    {
      "cell_type": "markdown",
      "metadata": {
        "id": "view-in-github",
        "colab_type": "text"
      },
      "source": [
        "<a href=\"https://colab.research.google.com/github/santinabardengo/TDVIII/blob/main/Proyecto_Final_Clasificaci%C3%B3n_Binaria.ipynb\" target=\"_parent\"><img src=\"https://colab.research.google.com/assets/colab-badge.svg\" alt=\"Open In Colab\"/></a>"
      ]
    },
    {
      "cell_type": "code",
      "source": [
        "!pip install -q efficientnet_pytorch\n",
        "!pip install -Uq wandb"
      ],
      "metadata": {
        "id": "cQ10rGInQFcf"
      },
      "execution_count": null,
      "outputs": []
    },
    {
      "cell_type": "code",
      "execution_count": null,
      "metadata": {
        "id": "iu3p27AKEsTF"
      },
      "outputs": [],
      "source": [
        "import pandas as pd\n",
        "import torch\n",
        "from efficientnet_pytorch import EfficientNet\n",
        "from torch.utils.data import Dataset, DataLoader, random_split\n",
        "import torch.nn.functional as F\n",
        "import torch.nn as nn\n",
        "import copy\n",
        "from torchsummary import summary\n",
        "from tqdm import tqdm\n",
        "import os\n",
        "from sklearn.model_selection import train_test_split\n",
        "import numpy as np\n",
        "import torchvision.transforms as T\n",
        "from PIL import Image\n",
        "from torchvision import transforms\n",
        "import wandb\n",
        "import torch.optim as optim\n",
        "from sklearn.metrics import confusion_matrix\n",
        "import seaborn as sns\n",
        "import matplotlib.pyplot as plt\n",
        "import random"
      ]
    },
    {
      "cell_type": "code",
      "source": [
        "torch.manual_seed(162829)\n",
        "if torch.cuda.is_available():\n",
        "    torch.cuda.manual_seed(162829)"
      ],
      "metadata": {
        "id": "z_morvi1Mo8w"
      },
      "execution_count": null,
      "outputs": []
    },
    {
      "cell_type": "markdown",
      "source": [
        "Wandb key : fd005b43ba216e7f8c0272801c9004c946bef281"
      ],
      "metadata": {
        "id": "giZX2GMuTpCM"
      }
    },
    {
      "cell_type": "code",
      "source": [
        "wandb.login()"
      ],
      "metadata": {
        "id": "6d3Dx56KV4q7"
      },
      "execution_count": null,
      "outputs": []
    },
    {
      "cell_type": "markdown",
      "source": [
        "Conectamos el entorno a Google Drive"
      ],
      "metadata": {
        "id": "RvVlEob2mWvQ"
      }
    },
    {
      "cell_type": "code",
      "source": [
        "from google.colab import drive\n",
        "drive.mount('/content/drive/')"
      ],
      "metadata": {
        "id": "j-fJ7osrOA9C"
      },
      "execution_count": null,
      "outputs": []
    },
    {
      "cell_type": "code",
      "source": [
        "train_data = pd.read_csv(\"/content/drive/MyDrive/Datos/train_data.csv\")\n",
        "test_data = pd.read_csv(\"/content/drive/MyDrive/Datos/test_data.csv\")"
      ],
      "metadata": {
        "id": "6dy1pqCWU-t_"
      },
      "execution_count": null,
      "outputs": []
    },
    {
      "cell_type": "markdown",
      "source": [
        "### Análisis explolatorio de datos"
      ],
      "metadata": {
        "id": "kwtmu5XFvUCN"
      }
    },
    {
      "cell_type": "markdown",
      "source": [
        "####Distribución de clases"
      ],
      "metadata": {
        "id": "q5XTy_U8vcz3"
      }
    },
    {
      "cell_type": "code",
      "source": [
        "plt.figure(figsize=(6, 4))\n",
        "sns.countplot(data=train_data, x='label', palette='viridis', width=0.5)\n",
        "plt.title('Distribución de labels en el conjunto de entrenamiento')\n",
        "plt.xlabel('Clase')\n",
        "plt.ylabel('Cantidad')\n",
        "plt.show()"
      ],
      "metadata": {
        "id": "Md_J2kDJweLR"
      },
      "execution_count": null,
      "outputs": []
    },
    {
      "cell_type": "code",
      "source": [
        "plt.figure(figsize=(6, 4))\n",
        "sns.countplot(data=test_data, x='label', palette='plasma', width = 0.5)\n",
        "plt.title('Distribución de labels en el conjunto de prueba')\n",
        "plt.xlabel('Clase')\n",
        "plt.ylabel('Cantidad')\n",
        "plt.show()"
      ],
      "metadata": {
        "id": "si52YJAKxTpJ"
      },
      "execution_count": null,
      "outputs": []
    },
    {
      "cell_type": "markdown",
      "source": [
        "####Imágenes según su clase"
      ],
      "metadata": {
        "id": "w4XSrWDRyNWd"
      }
    },
    {
      "cell_type": "code",
      "source": [
        "class_0_image_path = train_data[train_data['label'] == 0].iloc[0]['image_filename']\n",
        "class_1_image_path = train_data[train_data['label'] == 1].iloc[2]['image_filename']\n",
        "\n",
        "class_0_image = Image.open(\"/content/drive/MyDrive/Datos/Images/\" + class_0_image_path)\n",
        "class_1_image = Image.open(\"/content/drive/MyDrive/Datos/Images/\" + class_1_image_path)\n",
        "\n",
        "fig, axes = plt.subplots(1, 2, figsize=(10, 5))\n",
        "axes[0].imshow(class_0_image)\n",
        "axes[0].set_title('Clase = 0')\n",
        "axes[0].axis('off')\n",
        "\n",
        "axes[1].imshow(class_1_image)\n",
        "axes[1].set_title('Clase = 1')\n",
        "axes[1].axis('off')\n",
        "\n",
        "plt.tight_layout()\n",
        "plt.show()\n"
      ],
      "metadata": {
        "id": "K9Bz7357yLzO"
      },
      "execution_count": null,
      "outputs": []
    },
    {
      "cell_type": "code",
      "source": [
        "device = torch.device('cuda:0' if torch.cuda.is_available() else 'cpu')"
      ],
      "metadata": {
        "id": "O7mcDSCeMjPA"
      },
      "execution_count": null,
      "outputs": []
    },
    {
      "cell_type": "markdown",
      "source": [
        "Cargamos los modelos EfficientNet preentrenados junto con el tamaño de imagen que le corresponde a cada uno según la versión"
      ],
      "metadata": {
        "id": "RBo57ktGmoZ2"
      }
    },
    {
      "cell_type": "code",
      "source": [
        "models = {\n",
        "    \"EfficientNet-b0\": EfficientNet.from_pretrained('efficientnet-b0'),\n",
        "    \"EfficientNet-b1\": EfficientNet.from_pretrained('efficientnet-b1'),\n",
        "    \"EfficientNet-b2\": EfficientNet.from_pretrained('efficientnet-b2'),\n",
        "    \"EfficientNet-b3\": EfficientNet.from_pretrained('efficientnet-b3'),\n",
        "    \"EfficientNet-b3\": EfficientNet.from_pretrained('efficientnet-b4'),\n",
        "}\n",
        "\n",
        "image_sizes = {\n",
        "    \"EfficientNet-b0\": 224,\n",
        "    \"EfficientNet-b1\": 240,\n",
        "    \"EfficientNet-b2\": 260,\n",
        "    'EfficientNet-b3': 300,\n",
        "    'EfficientNet-b4': 380,\n",
        "}"
      ],
      "metadata": {
        "id": "J0_xDrQJTS2o"
      },
      "execution_count": null,
      "outputs": []
    },
    {
      "cell_type": "markdown",
      "source": [
        "###Parámetros del mejor modelo"
      ],
      "metadata": {
        "id": "-Z9_7v_l0TA6"
      }
    },
    {
      "cell_type": "code",
      "source": [
        "batch_size = 64\n",
        "learning_rate = 1e-4\n",
        "epochs = 150\n",
        "experiment_name = \"EfficientNetb0 - Random Augmentation - Final\"\n",
        "project_name = \"Binary-PAPModel\"\n",
        "model_name = 'EfficientNet-b0'\n",
        "interpolation_methods = [T.InterpolationMode.NEAREST, T.InterpolationMode.BILINEAR, T.InterpolationMode.BICUBIC]\n",
        "interpolation = 'NearestInterpolation'\n",
        "THRESHOLD = 0.4"
      ],
      "metadata": {
        "id": "55xxD2gKMw-X"
      },
      "execution_count": null,
      "outputs": []
    },
    {
      "cell_type": "code",
      "source": [
        "images_dir = '/content/drive/MyDrive/Datos/' + model_name + '/' + interpolation + '/'"
      ],
      "metadata": {
        "id": "lpWHJSesfv1e"
      },
      "execution_count": null,
      "outputs": []
    },
    {
      "cell_type": "markdown",
      "source": [
        "###Tranformaciones para realizar la aumentación de los datos"
      ],
      "metadata": {
        "id": "7QhpvaBO0d6g"
      }
    },
    {
      "cell_type": "code",
      "source": [
        "def image_transformations():\n",
        "    '''\n",
        "        Return transformations to be applied.\n",
        "        Output:\n",
        "            train_transformations: transformations to be applied on the training set\n",
        "            valid_tfms: transformations to be applied on the validation or test set\n",
        "    '''\n",
        "    trans = [\n",
        "        transforms.ToTensor(),\n",
        "        transforms.Normalize((0.5, 0.5, 0.5), (0.5, 0.5, 0.5))\n",
        "    ]\n",
        "\n",
        "    train_trans = [\n",
        "            transforms.RandomRotation(90),\n",
        "            transforms.RandomHorizontalFlip(),\n",
        "            transforms.RandomVerticalFlip(),\n",
        "            transforms.ColorJitter(contrast=0.2, brightness=0.2, saturation=0.2, hue=0.1)\n",
        "    ]\n",
        "\n",
        "    selected_transforms_train = random.sample(train_trans, 2)\n",
        "\n",
        "    train_tfms = T.Compose(trans + selected_transforms_train)\n",
        "    valid_tfms = T.Compose(trans)\n",
        "\n",
        "    return train_tfms, valid_tfms"
      ],
      "metadata": {
        "id": "Fqv5rN36qF0Y"
      },
      "execution_count": null,
      "outputs": []
    },
    {
      "cell_type": "code",
      "source": [
        "def encode_label(label: list) -> list:\n",
        "    return torch.tensor([label], dtype=torch.float32)"
      ],
      "metadata": {
        "id": "e0gmbDnzeYFr"
      },
      "execution_count": null,
      "outputs": []
    },
    {
      "cell_type": "markdown",
      "source": [
        "####Clase que se encarga de asociar el path de cada imagen a su archivo correspondiente y de realizar las transformaciones a las mismas durante el entrenamiento"
      ],
      "metadata": {
        "id": "T3uRlrM30nfS"
      }
    },
    {
      "cell_type": "code",
      "source": [
        "class PAPDataset(Dataset):\n",
        "\n",
        "    def __init__(self, df, root_dir, transform):\n",
        "        self.df = df\n",
        "        self.transform = transform\n",
        "        self.root_dir = root_dir\n",
        "        self.use_original_ratio = 0.4\n",
        "\n",
        "    def __len__(self):\n",
        "        return len(self.df)\n",
        "\n",
        "    def __getitem__(self, idx):\n",
        "        row = self.df.loc[idx]\n",
        "        img_fname, img_label = row['image_filename'], row['label']\n",
        "        img = Image.open(self.root_dir + img_fname)\n",
        "\n",
        "        # Random Augmentation\n",
        "        if random.random() > self.use_original_ratio:\n",
        "            img = self.transform(img)\n",
        "        else:\n",
        "            img = transforms.ToTensor()(img)\n",
        "            img = transforms.Normalize((0.5, 0.5, 0.5), (0.5, 0.5, 0.5))(img)\n",
        "\n",
        "        # Negative Augmentation\n",
        "        # if img_label == 0 and random.random() > self.use_original_ratio:\n",
        "        #     img = self.transform(img)\n",
        "        # else:\n",
        "        #   img = transforms.ToTensor()(img)\n",
        "        #   img = transforms.Normalize((0.5, 0.5, 0.5), (0.5, 0.5, 0.5))(img)\n",
        "\n",
        "        return img, encode_label(img_label)"
      ],
      "metadata": {
        "id": "hHTaqUwMep9g"
      },
      "execution_count": null,
      "outputs": []
    },
    {
      "cell_type": "markdown",
      "source": [
        "####Funciones para obtener train y test dataloader"
      ],
      "metadata": {
        "id": "0sEaw2PQ0_x6"
      }
    },
    {
      "cell_type": "code",
      "source": [
        "def get_train_dl(train_data, batch_size = 16):\n",
        "\n",
        "    np.random.seed(162829)\n",
        "    train_ds, val_ds = train_test_split(train_data, test_size = 0.3, random_state=162829, shuffle=True, stratify= train_data['label'])\n",
        "\n",
        "    train_ds.reset_index(drop=True, inplace=True)\n",
        "    val_ds.reset_index(drop=True, inplace=True)\n",
        "\n",
        "    train_tfms, valid_tfms = image_transformations()\n",
        "\n",
        "    train_ds = PAPDataset(train_ds, images_dir, transform = train_tfms)\n",
        "    val_ds = PAPDataset(val_ds, images_dir, transform = valid_tfms)\n",
        "\n",
        "    train_dl = torch.utils.data.DataLoader(train_ds, batch_size, shuffle=True, num_workers=2)\n",
        "    val_dl = torch.utils.data.DataLoader(val_ds, batch_size, shuffle=True, num_workers=2)\n",
        "\n",
        "    return train_dl, val_dl"
      ],
      "metadata": {
        "id": "edLtrcPDF8-o"
      },
      "execution_count": null,
      "outputs": []
    },
    {
      "cell_type": "code",
      "source": [
        "def get_test_dl(test_data, batch_size = 16):\n",
        "\n",
        "    _, test_tfms = image_transformations()\n",
        "\n",
        "    test_data = PAPDataset(test_data, images_dir, transform = test_tfms)\n",
        "\n",
        "    test_dl = torch.utils.data.DataLoader(test_data, batch_size, num_workers=2)\n",
        "\n",
        "    return test_dl"
      ],
      "metadata": {
        "id": "27G0NSMlSrs9"
      },
      "execution_count": null,
      "outputs": []
    },
    {
      "cell_type": "markdown",
      "source": [
        "####Función para calcular las métricas del modelo (accuracy, precision, recall y F1-score)"
      ],
      "metadata": {
        "id": "QDOodoSQ1QwK"
      }
    },
    {
      "cell_type": "code",
      "source": [
        "def compute_metrics(TP: int, TN: int, FP: int, FN: int) -> float:\n",
        "\n",
        "    accuracy = (TP + TN) / (TP + TN + FP + FN)\n",
        "    precision = TP / (TP + FP + 1e-12)\n",
        "    recall = TP / (TP + FN + 1e-12)\n",
        "    F1 = (2 * precision * recall) / (precision + recall + 1e-12)\n",
        "\n",
        "    return {\n",
        "        'accuracy': accuracy,\n",
        "        'precision': precision,\n",
        "        'recall': recall,\n",
        "        'F1': F1,\n",
        "    }"
      ],
      "metadata": {
        "id": "E6f-oPfXWo9B"
      },
      "execution_count": null,
      "outputs": []
    },
    {
      "cell_type": "markdown",
      "source": [
        "####Función para obtener la matriz de confusión\n"
      ],
      "metadata": {
        "id": "w6DmEMdX1kmY"
      }
    },
    {
      "cell_type": "code",
      "source": [
        "def confusionMatrix(predicted: list, label: list):\n",
        "    plt.figure(figsize=(8, 6))\n",
        "    sns.heatmap(confusion_matrix(label, predicted), cmap='Blues', annot=True, fmt='g')\n",
        "    plt.xlabel('Predicted')\n",
        "    plt.ylabel('Actual')\n",
        "    plt.title('Confusion Matrix')\n",
        "    plt.show()"
      ],
      "metadata": {
        "id": "0ScZDtPKWBOU"
      },
      "execution_count": null,
      "outputs": []
    },
    {
      "cell_type": "markdown",
      "source": [
        "###Definimos el modelo a utilizar (modelo EfficientNet preentrenado + FF)"
      ],
      "metadata": {
        "id": "8qymfYlN1rcm"
      }
    },
    {
      "cell_type": "code",
      "source": [
        "class PAPModel(nn.Module):\n",
        "    def get_sequential(num_ftrs):\n",
        "        linear_layers = nn.Sequential(\n",
        "                nn.BatchNorm1d(num_features=num_ftrs),\n",
        "                nn.Linear(num_ftrs, 512),\n",
        "                nn.ReLU(),\n",
        "                nn.BatchNorm1d(512),\n",
        "                nn.Dropout(0.4),\n",
        "                nn.Linear(512, 128),\n",
        "                nn.ReLU(),\n",
        "                nn.BatchNorm1d(num_features=128),\n",
        "                nn.Dropout(0.4),\n",
        "                nn.Linear(128, 1),\n",
        "            )\n",
        "        return linear_layers\n",
        "\n",
        "    def __init__(self, model_name=None, model=None, input_size=None):\n",
        "        super().__init__()\n",
        "\n",
        "        self.model_name = model_name\n",
        "        self.model = copy.deepcopy(model)\n",
        "        self.IS = input_size\n",
        "\n",
        "        self.num_ftrs = self.model._fc.in_features\n",
        "        self.model._fc = PAPModel.get_sequential(self.num_ftrs)\n",
        "\n",
        "    def forward(self, xb):\n",
        "        return torch.sigmoid(self.model(xb))\n",
        "\n",
        "    # Función para congelar los parámetros del modelo preentrenado\n",
        "    def freeze(self):\n",
        "        for param in self.model.parameters():\n",
        "            param.requires_grad = False\n",
        "\n",
        "        for param in self.model._fc.parameters():\n",
        "            param.requires_grad = True\n",
        "\n",
        "    def unfreeze(self):\n",
        "        for param in self.model.parameters():\n",
        "            param.requires_grad = True\n",
        "\n",
        "model = PAPModel(model_name, models[model_name], image_sizes[model_name])\n",
        "model.to(device)"
      ],
      "metadata": {
        "id": "QiioGLNMwIll",
        "collapsed": true
      },
      "execution_count": null,
      "outputs": []
    },
    {
      "cell_type": "code",
      "source": [
        "criterion = nn.BCELoss()\n",
        "optimizer = optim.Adam(model.parameters(), learning_rate)\n",
        "#scheduler = torch.optim.lr_scheduler.ReduceLROnPlateau(optimizer, factor=0.95, patience=5, cooldown=1)"
      ],
      "metadata": {
        "id": "dkHf0U62V4Aw"
      },
      "execution_count": null,
      "outputs": []
    },
    {
      "cell_type": "code",
      "source": [
        "wandb.init(\n",
        "    project = project_name,\n",
        "    name = experiment_name,\n",
        "    entity = '',\n",
        "    config={\n",
        "        \"baseModel\": model_name,\n",
        "        \"learning_rate\": learning_rate,\n",
        "        \"batch_size\": batch_size,\n",
        "        \"epochs\": epochs,\n",
        "        \"image_size\": image_sizes[model_name],\n",
        "        \"optimizer\": optimizer,\n",
        "        \"interpolation\": interpolation,\n",
        "    }\n",
        ")"
      ],
      "metadata": {
        "id": "rMlWI18dWR-V"
      },
      "execution_count": null,
      "outputs": []
    },
    {
      "cell_type": "code",
      "source": [
        "train_dl, valid_dl = get_train_dl(train_data, batch_size)"
      ],
      "metadata": {
        "id": "-_9km2bo1qaQ"
      },
      "execution_count": null,
      "outputs": []
    },
    {
      "cell_type": "markdown",
      "source": [
        "###Entrenamos el modelo y nos guardamos el mejor según la función de pérdida"
      ],
      "metadata": {
        "id": "N0XXYwFq2v_O"
      }
    },
    {
      "cell_type": "code",
      "source": [
        "best_val_score = 0\n",
        "lowest_val_loss = float('inf')\n",
        "best_epoch = 0\n",
        "\n",
        "for epoch in range(epochs):\n",
        "\n",
        "    running_loss = 0.0\n",
        "    train_correct = 0\n",
        "    TP_total = 0\n",
        "    TN_total = 0\n",
        "    FP_total = 0\n",
        "    FN_total = 0\n",
        "    total = 0\n",
        "\n",
        "    #Entrenamiento\n",
        "    model.train()\n",
        "    for i, data in enumerate(train_dl, 0):\n",
        "        inputs, labels = data[0].to(device), data[1].to(device)\n",
        "        optimizer.zero_grad()\n",
        "\n",
        "        outputs = model(inputs)\n",
        "        loss = criterion(outputs, labels)\n",
        "        loss.backward()\n",
        "        optimizer.step()\n",
        "\n",
        "        running_loss += loss.item()\n",
        "\n",
        "        predicted = (outputs.data > THRESHOLD).float()\n",
        "        total += labels.size(0)\n",
        "\n",
        "        TP_total += ((predicted == 1) & (labels == 1)).sum().item()\n",
        "        TN_total += ((predicted == 0) & (labels == 0)).sum().item()\n",
        "        FP_total += ((predicted == 1) & (labels == 0)).sum().item()\n",
        "        FN_total += ((predicted == 0) & (labels == 1)).sum().item()\n",
        "\n",
        "    train_score = compute_metrics(TP_total, TN_total, FP_total, FN_total)\n",
        "    running_loss = running_loss/total\n",
        "\n",
        "    val_correct = 0\n",
        "    total = 0\n",
        "    val_loss = 0\n",
        "    TP_total = 0\n",
        "    TN_total = 0\n",
        "    FP_total = 0\n",
        "    FN_total = 0\n",
        "\n",
        "    # Validacion\n",
        "    with torch.no_grad():\n",
        "        for data in valid_dl:\n",
        "            images, labels = data[0].to(device), data[1].to(device)\n",
        "            outputs = model(images)\n",
        "            predicted = (outputs.data > THRESHOLD).float()\n",
        "            total += labels.size(0)\n",
        "\n",
        "            val_loss += criterion(outputs, labels).item()\n",
        "\n",
        "            TP_total += ((predicted == 1) & (labels == 1)).sum().item()\n",
        "            TN_total += ((predicted == 0) & (labels == 0)).sum().item()\n",
        "            FP_total += ((predicted == 1) & (labels == 0)).sum().item()\n",
        "            FN_total += ((predicted == 0) & (labels == 1)).sum().item()\n",
        "\n",
        "    # scheduler.step(val_loss)\n",
        "\n",
        "    val_score = compute_metrics(TP_total, TN_total, FP_total, FN_total)\n",
        "\n",
        "    val_loss = val_loss / total\n",
        "\n",
        "    print(f'{epoch + 1} / {epochs}, lr: {optimizer.param_groups[0][\"lr\"]:.6f}, train loss: {running_loss:.3f}, val loss: {val_loss:.3f}, train_score: {train_score}, val_score: {val_score}')\n",
        "\n",
        "    wandb.log({ \"train_score\": train_score, \"val_score\": val_score, \"train_loss\": running_loss,\n",
        "             \"val_loss\": val_loss})\n",
        "\n",
        "    # Si la pérdida en validación fue mas baja, guardamos ese modelo\n",
        "    if val_loss < lowest_val_loss:\n",
        "      best_epoch = epoch\n",
        "      lowest_val_loss = val_loss\n",
        "\n",
        "      print(f\"Guardando el modelo para la época {best_epoch}, loss: {lowest_val_loss}\")\n",
        "      torch.save(model.state_dict(), f'{experiment_name}.pth')\n",
        "\n",
        "\n",
        "print(f'Best Loss: {str(lowest_val_loss)}.')\n",
        "print(f'Best Epoch: {str(best_epoch)}.')\n",
        "print('Finished Training')"
      ],
      "metadata": {
        "id": "9nxYdh-yXbjg",
        "collapsed": true
      },
      "execution_count": null,
      "outputs": []
    },
    {
      "cell_type": "code",
      "source": [
        "wandb.finish()"
      ],
      "metadata": {
        "id": "8Npp1l-naKbR"
      },
      "execution_count": null,
      "outputs": []
    },
    {
      "cell_type": "markdown",
      "source": [
        "#### Cargamos el mejor modelo"
      ],
      "metadata": {
        "id": "W9j0RNEP3075"
      }
    },
    {
      "cell_type": "code",
      "source": [
        "PATH = './' + experiment_name + '.pth'\n",
        "model.load_state_dict(torch.load(PATH, weights_only=True))"
      ],
      "metadata": {
        "id": "AXbMIR9wRaAY"
      },
      "execution_count": null,
      "outputs": []
    },
    {
      "cell_type": "code",
      "source": [
        "test_dl = get_test_dl(test_data, batch_size=len(test_data))"
      ],
      "metadata": {
        "id": "roDfo_LxQm0M"
      },
      "execution_count": null,
      "outputs": []
    },
    {
      "cell_type": "markdown",
      "source": [
        "###Utilizamos el mejor modelo para evaluar en el dataset de test"
      ],
      "metadata": {
        "id": "HNsi9Sw04HNK"
      }
    },
    {
      "cell_type": "code",
      "source": [
        "model.eval()\n",
        "\n",
        "all_preds = []\n",
        "all_labels = []\n",
        "\n",
        "TP_total = 0\n",
        "TN_total = 0\n",
        "FP_total = 0\n",
        "FN_total = 0\n",
        "\n",
        "with torch.no_grad():\n",
        "  for data in test_dl:\n",
        "      images, labels = data[0].to(device), data[1].to(device)\n",
        "      outputs = model(images)\n",
        "      predicted = (outputs.data > THRESHOLD).float()\n",
        "\n",
        "      all_preds.extend(predicted.cpu().numpy().flatten())\n",
        "      all_labels.extend(labels.cpu().numpy().flatten())\n",
        "\n",
        "      TP_total += ((predicted == 1) & (labels == 1)).sum().item()\n",
        "      TN_total += ((predicted == 0) & (labels == 0)).sum().item()\n",
        "      FP_total += ((predicted == 1) & (labels == 0)).sum().item()\n",
        "      FN_total += ((predicted == 0) & (labels == 1)).sum().item()\n",
        "\n",
        "  for i in range(len(labels)):\n",
        "      label = labels[i].cpu().item()  # Obtener el valor de la etiqueta\n",
        "      prediction = predicted[i].cpu().item()  # Obtener el valor de la predicción\n",
        "      print(f\"Label = {label}, Predicción = {prediction}\")"
      ],
      "metadata": {
        "id": "BUeJ74l4Zt_c"
      },
      "execution_count": null,
      "outputs": []
    },
    {
      "cell_type": "markdown",
      "source": [
        "####Hacemos la matriz de confusión para los resultados de test e imprimimos las métricas"
      ],
      "metadata": {
        "id": "dnKVR3Uu4QQk"
      }
    },
    {
      "cell_type": "code",
      "source": [
        "confusionMatrix(all_preds, all_labels)\n",
        "print(compute_metrics(TP_total, TN_total, FP_total, FN_total))"
      ],
      "metadata": {
        "id": "8w02BUTvZN9V"
      },
      "execution_count": null,
      "outputs": []
    }
  ]
}