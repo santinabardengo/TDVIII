{
  "nbformat": 4,
  "nbformat_minor": 0,
  "metadata": {
    "colab": {
      "provenance": [],
      "gpuType": "T4",
      "authorship_tag": "ABX9TyPkfzHgdBaOoGZUfY6rt/90",
      "include_colab_link": true
    },
    "kernelspec": {
      "name": "python3",
      "display_name": "Python 3"
    },
    "language_info": {
      "name": "python"
    },
    "accelerator": "GPU"
  },
  "cells": [
    {
      "cell_type": "markdown",
      "metadata": {
        "id": "view-in-github",
        "colab_type": "text"
      },
      "source": [
        "<a href=\"https://colab.research.google.com/github/santinabardengo/TDVIII/blob/main/Proyecto_Final_Clasificaci%C3%B3n_Multiclase.ipynb\" target=\"_parent\"><img src=\"https://colab.research.google.com/assets/colab-badge.svg\" alt=\"Open In Colab\"/></a>"
      ]
    },
    {
      "cell_type": "code",
      "execution_count": null,
      "metadata": {
        "id": "-I5KVmjoTWE7"
      },
      "outputs": [],
      "source": [
        "!pip install -q efficientnet_pytorch\n",
        "!pip install -Uq wandb"
      ]
    },
    {
      "cell_type": "code",
      "source": [
        "import pandas as pd\n",
        "import torch\n",
        "from efficientnet_pytorch import EfficientNet\n",
        "from torch.utils.data import Dataset, DataLoader, random_split\n",
        "import torch.nn.functional as F\n",
        "import torch.nn as nn\n",
        "import copy\n",
        "from torchsummary import summary\n",
        "from tqdm import tqdm\n",
        "import os\n",
        "from sklearn.model_selection import train_test_split\n",
        "import numpy as np\n",
        "import torchvision.transforms as T\n",
        "from PIL import Image\n",
        "from torchvision import transforms\n",
        "import wandb\n",
        "import torch.optim as optim\n",
        "from sklearn.metrics import confusion_matrix\n",
        "import seaborn as sns\n",
        "import matplotlib.pyplot as plt\n",
        "import random\n",
        "import cv2"
      ],
      "metadata": {
        "id": "7W9I-TlaTcXt"
      },
      "execution_count": null,
      "outputs": []
    },
    {
      "cell_type": "code",
      "source": [
        "torch.manual_seed(162829)\n",
        "if torch.cuda.is_available():\n",
        "    torch.cuda.manual_seed(162829)"
      ],
      "metadata": {
        "id": "40KoAbwhUXW8"
      },
      "execution_count": null,
      "outputs": []
    },
    {
      "cell_type": "markdown",
      "source": [
        "Wandb key: fd005b43ba216e7f8c0272801c9004c946bef281\n",
        "\n"
      ],
      "metadata": {
        "id": "nMjAAbZUUPKQ"
      }
    },
    {
      "cell_type": "code",
      "source": [
        "wandb.login()"
      ],
      "metadata": {
        "id": "ZuYWQ_wHTe3C"
      },
      "execution_count": null,
      "outputs": []
    },
    {
      "cell_type": "markdown",
      "source": [
        "Conectamos el entorno a Google Drive"
      ],
      "metadata": {
        "id": "_kYDnkrwFhAB"
      }
    },
    {
      "cell_type": "code",
      "source": [
        "from google.colab import drive\n",
        "drive.mount('/content/drive/')"
      ],
      "metadata": {
        "id": "JIdT140PTj7x"
      },
      "execution_count": null,
      "outputs": []
    },
    {
      "cell_type": "code",
      "source": [
        "train_data_prov = pd.read_csv('/content/drive/MyDrive/Datos/train_multiclass_relabeled.csv')\n",
        "test_data_prov = pd.read_csv('/content/drive/MyDrive/Datos/test_multiclass_relabeled.csv')"
      ],
      "metadata": {
        "id": "y1zMFlCwUXui"
      },
      "execution_count": null,
      "outputs": []
    },
    {
      "cell_type": "markdown",
      "source": [
        "####Balanceo de clases en test"
      ],
      "metadata": {
        "id": "ATdRkeh5HYp9"
      }
    },
    {
      "cell_type": "code",
      "source": [
        "train_data = pd.read_csv(\"/content/drive/MyDrive/Datos/train_multiclass_data.csv\")\n",
        "test_data = pd.read_csv(\"/content/drive/MyDrive/Datos/test_multiclass_data.csv\")"
      ],
      "metadata": {
        "id": "1Ny-4atLXIhX"
      },
      "execution_count": null,
      "outputs": []
    },
    {
      "cell_type": "markdown",
      "source": [
        "###Análisis explolatorio de los datos"
      ],
      "metadata": {
        "id": "_njcFi1uG1fE"
      }
    },
    {
      "cell_type": "markdown",
      "source": [
        "####Distribución de clases"
      ],
      "metadata": {
        "id": "4e8zRvazG7fR"
      }
    },
    {
      "cell_type": "code",
      "source": [
        "fig, axes = plt.subplots(1, 2, figsize=(15, 5))\n",
        "\n",
        "sns.countplot(data=train_data_prov, x='label', palette='viridis', ax=axes[0])\n",
        "axes[0].set_title('Distribución de clases en el conjunto de entrenamiento no balanceado')\n",
        "axes[0].set_xlabel('Clase')\n",
        "axes[0].set_ylabel('Cantidad')\n",
        "\n",
        "sns.countplot(data=train_data, x='label', palette='viridis', ax=axes[1])\n",
        "axes[1].set_title('Distribución de clases en el conjunto de entrenamiento balanceado')\n",
        "axes[1].set_xlabel('Clase')\n",
        "axes[1].set_ylabel('Cantidad')\n",
        "\n",
        "plt.tight_layout()\n",
        "plt.show()"
      ],
      "metadata": {
        "id": "z5vOC2N8WF4b"
      },
      "execution_count": null,
      "outputs": []
    },
    {
      "cell_type": "code",
      "source": [
        "fig, axes = plt.subplots(1, 2, figsize=(12, 4))\n",
        "\n",
        "sns.countplot(data=test_data_prov, x='label', palette='plasma', ax=axes[0])\n",
        "axes[0].set_title('Distribución de clases en el conjunto de test no balanceado')\n",
        "axes[0].set_xlabel('Clase')\n",
        "axes[0].set_ylabel('Cantidad')\n",
        "\n",
        "sns.countplot(data=test_data, x='label', palette='plasma', ax=axes[1])\n",
        "axes[1].set_title('Distribución de clases en el conjunto de test balanceado')\n",
        "axes[1].set_xlabel('Clase')\n",
        "axes[1].set_ylabel('Cantidad')\n",
        "\n",
        "plt.tight_layout()\n",
        "plt.show()"
      ],
      "metadata": {
        "id": "A9qiabW8WHWS"
      },
      "execution_count": null,
      "outputs": []
    },
    {
      "cell_type": "markdown",
      "source": [
        "####Imágenes según su clase"
      ],
      "metadata": {
        "id": "1NsFm2BVLj7g"
      }
    },
    {
      "cell_type": "code",
      "source": [
        "class_0_image_path = train_data[train_data['label'] == 0].iloc[0]['image_filename']\n",
        "class_1_image_path = train_data[train_data['label'] == 1].iloc[0]['image_filename']\n",
        "class_2_image_path = train_data[train_data['label'] == 2].iloc[0]['image_filename']\n",
        "class_3_image_path = train_data[train_data['label'] == 3].iloc[0]['image_filename']\n",
        "\n",
        "class_0_image = Image.open(\"/content/drive/MyDrive/Datos/Images/\" + class_0_image_path)\n",
        "class_1_image = Image.open(\"/content/drive/MyDrive/Datos/Images/\" + class_1_image_path)\n",
        "class_2_image = Image.open(\"/content/drive/MyDrive/Datos/Images/\" + class_2_image_path)\n",
        "class_3_image = Image.open(\"/content/drive/MyDrive/Datos/Images/\" + class_3_image_path)\n",
        "\n",
        "fig, axes = plt.subplots(2, 2, figsize=(8, 5))\n",
        "\n",
        "\n",
        "axes[0, 0].imshow(class_0_image)\n",
        "axes[0, 0].set_title('Clase = 0')\n",
        "axes[0, 0].axis('off')\n",
        "\n",
        "axes[0, 1].imshow(class_1_image)\n",
        "axes[0, 1].set_title('Clase = 1')\n",
        "axes[0, 1].axis('off')\n",
        "\n",
        "axes[1, 0].imshow(class_2_image)\n",
        "axes[1, 0].set_title('Clase = 2')\n",
        "axes[1, 0].axis('off')\n",
        "\n",
        "axes[1, 1].imshow(class_3_image)\n",
        "axes[1, 1].set_title('Clase = 3')\n",
        "axes[1, 1].axis('off')\n",
        "\n",
        "plt.tight_layout()\n",
        "plt.show()"
      ],
      "metadata": {
        "id": "Xa247eVYLnuE"
      },
      "execution_count": null,
      "outputs": []
    },
    {
      "cell_type": "code",
      "source": [
        "device = torch.device('cuda:0' if torch.cuda.is_available() else 'cpu')"
      ],
      "metadata": {
        "id": "tXKw_EzETrLW"
      },
      "execution_count": null,
      "outputs": []
    },
    {
      "cell_type": "markdown",
      "source": [
        "Cargamos los modelos EfficientNet preentrenados junto con el tamaño de imagen que le corresponde a cada uno según la versión"
      ],
      "metadata": {
        "id": "ppo2MeC4J3Xs"
      }
    },
    {
      "cell_type": "code",
      "source": [
        "models = {\n",
        "    \"EfficientNet-b0\": EfficientNet.from_pretrained('efficientnet-b0'),\n",
        "    \"EfficientNet-b1\": EfficientNet.from_pretrained('efficientnet-b1'),\n",
        "    \"EfficientNet-b2\": EfficientNet.from_pretrained('efficientnet-b2'),\n",
        "    \"EfficientNet-b3\": EfficientNet.from_pretrained('efficientnet-b3'),\n",
        "    \"EfficientNet-b3\": EfficientNet.from_pretrained('efficientnet-b4'),\n",
        "}\n",
        "\n",
        "image_sizes = {\n",
        "    \"EfficientNet-b0\": 224,\n",
        "    \"EfficientNet-b1\": 240,\n",
        "    \"EfficientNet-b2\": 260,\n",
        "    'EfficientNet-b3': 300,\n",
        "    'EfficientNet-b4': 380,\n",
        "}"
      ],
      "metadata": {
        "id": "xJmWPS-LTuI8"
      },
      "execution_count": null,
      "outputs": []
    },
    {
      "cell_type": "markdown",
      "source": [
        "###Parámetros del mejor modelo"
      ],
      "metadata": {
        "id": "9uq0V2WENIq5"
      }
    },
    {
      "cell_type": "code",
      "source": [
        "batch_size = 64\n",
        "learning_rate = 1e-4\n",
        "#momentum =.9\n",
        "epochs = 150\n",
        "experiment_name = \"EfficientNetb0 (+neuronas en arq original (1024,256)-Final\"\n",
        "project_name = \"Multiclass-PAPModel\"\n",
        "model_name = 'EfficientNet-b0'\n",
        "interpolation_methods = [T.InterpolationMode.NEAREST, T.InterpolationMode.BILINEAR, T.InterpolationMode.BICUBIC]\n",
        "interpolation = 'NearestInterpolation'"
      ],
      "metadata": {
        "id": "m7WyY8FCTu2V"
      },
      "execution_count": null,
      "outputs": []
    },
    {
      "cell_type": "code",
      "source": [
        "images_dir = '/content/drive/MyDrive/Datos/' + model_name + '/' + interpolation + '/'"
      ],
      "metadata": {
        "id": "jqtOi2v6Xm2h"
      },
      "execution_count": null,
      "outputs": []
    },
    {
      "cell_type": "markdown",
      "source": [
        "###Tranformaciones para realizar la aumentación de los datos"
      ],
      "metadata": {
        "id": "Wm1kqBndN1SX"
      }
    },
    {
      "cell_type": "code",
      "source": [
        "def image_transformations():\n",
        "\n",
        "    trans = [\n",
        "        transforms.ToTensor(),\n",
        "        transforms.Normalize((0.5, 0.5, 0.5), (0.5, 0.5, 0.5))\n",
        "    ]\n",
        "\n",
        "    train_trans = [\n",
        "            transforms.RandomRotation(90),\n",
        "            transforms.RandomHorizontalFlip(),\n",
        "            transforms.RandomVerticalFlip(),\n",
        "            transforms.ColorJitter(contrast=0.2, brightness=0.2, saturation=0.2, hue=0.1)\n",
        "    ]\n",
        "\n",
        "    selected_transforms_train = random.sample(train_trans, 2)\n",
        "\n",
        "    train_tfms = T.Compose(trans + selected_transforms_train)\n",
        "    valid_tfms = T.Compose(trans)\n",
        "\n",
        "    return train_tfms, valid_tfms"
      ],
      "metadata": {
        "id": "BNcxzAF8XRtJ"
      },
      "execution_count": null,
      "outputs": []
    },
    {
      "cell_type": "code",
      "source": [
        "def encode_label(label: list) -> list:\n",
        "    return torch.tensor([label], dtype=torch.float32)"
      ],
      "metadata": {
        "id": "2meNRfAFXVvI"
      },
      "execution_count": null,
      "outputs": []
    },
    {
      "cell_type": "markdown",
      "source": [
        "####Clase que se encarga de asociar el path de cada imagen a su archivo correspondiente y de realizar las transformaciones a las mismas durante el entrenamiento"
      ],
      "metadata": {
        "id": "y6s6MqDFN5DX"
      }
    },
    {
      "cell_type": "code",
      "source": [
        "class PAPDataset(Dataset):\n",
        "\n",
        "    def __init__(self, df, root_dir, transform):\n",
        "        self.df = df\n",
        "        self.transform = transform\n",
        "        self.root_dir = root_dir\n",
        "        self.use_original_ratio = 0.4\n",
        "\n",
        "    def __len__(self):\n",
        "        return len(self.df)\n",
        "\n",
        "    def __getitem__(self, idx):\n",
        "        row = self.df.loc[idx]\n",
        "        img_fname, img_label = row['image_filename'], row['label']\n",
        "        img = Image.open(self.root_dir + img_fname)\n",
        "\n",
        "        if random.random() > self.use_original_ratio:\n",
        "            img = self.transform(img)\n",
        "        else:\n",
        "            img = transforms.ToTensor()(img)\n",
        "            img = transforms.Normalize((0.5, 0.5, 0.5), (0.5, 0.5, 0.5))(img)\n",
        "\n",
        "        return img, encode_label(img_label)"
      ],
      "metadata": {
        "id": "TGdFiGeHXYbm"
      },
      "execution_count": null,
      "outputs": []
    },
    {
      "cell_type": "markdown",
      "source": [
        "####Funciones para obtener train y test dataloader"
      ],
      "metadata": {
        "id": "sH9k40uGOJZr"
      }
    },
    {
      "cell_type": "code",
      "source": [
        "def get_train_dl(train_data, batch_size = 16):\n",
        "\n",
        "    np.random.seed(162829)\n",
        "    train_ds, val_ds = train_test_split(train_data, test_size = 0.3, random_state=162829, shuffle=True, stratify= train_data['label'])\n",
        "\n",
        "    train_ds.reset_index(drop=True, inplace=True)\n",
        "    val_ds.reset_index(drop=True, inplace=True)\n",
        "\n",
        "    train_tfms, valid_tfms = image_transformations()\n",
        "\n",
        "    train_ds = PAPDataset(train_ds, images_dir, transform = train_tfms)\n",
        "    val_ds = PAPDataset(val_ds, images_dir, transform = valid_tfms)\n",
        "\n",
        "    train_dl = torch.utils.data.DataLoader(train_ds, batch_size, shuffle=True, num_workers=2)\n",
        "    val_dl = torch.utils.data.DataLoader(val_ds, batch_size, shuffle=True, num_workers=2)\n",
        "\n",
        "    return train_dl, val_dl"
      ],
      "metadata": {
        "id": "vkr65OF9XbuH"
      },
      "execution_count": null,
      "outputs": []
    },
    {
      "cell_type": "code",
      "source": [
        "def get_test_dl(test_data, batch_size = 16):\n",
        "    _, test_tfms = image_transformations()\n",
        "\n",
        "    test_data = PAPDataset(test_data, images_dir, transform = test_tfms)\n",
        "\n",
        "    test_dl = torch.utils.data.DataLoader(test_data, batch_size, num_workers=2)\n",
        "\n",
        "    return test_dl"
      ],
      "metadata": {
        "id": "FD0BMYBwXhT7"
      },
      "execution_count": null,
      "outputs": []
    },
    {
      "cell_type": "markdown",
      "source": [
        "####Función para calcular las métricas del modelo (accuracy, precision, recall y F1-score)"
      ],
      "metadata": {
        "id": "DA-o5AXTOSzr"
      }
    },
    {
      "cell_type": "code",
      "source": [
        "def compute_metrics(TP: torch.Tensor, TN: torch.Tensor, FP: torch.Tensor, FN: torch.Tensor) -> dict:\n",
        "\n",
        "    precision_list = []\n",
        "    recall_list = []\n",
        "    F1_list = []\n",
        "    accuracy_list = []\n",
        "\n",
        "    for i in range(len(TP)):\n",
        "        precision = TP[i] / (TP[i] + FP[i] + 1e-12)\n",
        "        recall = TP[i] / (TP[i] + FN[i] + 1e-12)\n",
        "        F1 = (2 * precision * recall) / (precision + recall + 1e-12)\n",
        "        accuracy = (TP[i] + TN[i]) / (TP[i] + TN[i] + FP[i] + FN[i] + 1e-12)\n",
        "\n",
        "        precision_list.append(precision)\n",
        "        recall_list.append(recall)\n",
        "        F1_list.append(F1)\n",
        "        accuracy_list.append(accuracy)\n",
        "\n",
        "    precision = torch.mean(torch.tensor(precision_list)).item()\n",
        "    recall = torch.mean(torch.tensor(recall_list)).item()\n",
        "    F1 = torch.mean(torch.tensor(F1_list)).item()\n",
        "    accuracy = torch.mean(torch.tensor(accuracy_list)).item()\n",
        "\n",
        "    return {\n",
        "        'accuracy': accuracy,\n",
        "        'precision': precision,\n",
        "        'recall': recall,\n",
        "        'F1': F1,\n",
        "    }"
      ],
      "metadata": {
        "id": "AA7XBBBCO9hQ"
      },
      "execution_count": null,
      "outputs": []
    },
    {
      "cell_type": "markdown",
      "source": [
        "####Función para obtener la matriz de confusión"
      ],
      "metadata": {
        "id": "ciJoNY7ROs6r"
      }
    },
    {
      "cell_type": "code",
      "source": [
        "def confusionMatrix(predicted: list, label: list):\n",
        "    plt.figure(figsize=(8, 6))\n",
        "    sns.heatmap(confusion_matrix(label, predicted), cmap='Blues', annot=True, fmt='g')\n",
        "    plt.xlabel('Predicted')\n",
        "    plt.ylabel('Actual')\n",
        "    plt.title('Confusion Matrix')\n",
        "    plt.show()"
      ],
      "metadata": {
        "id": "S4J02LJ2Xs52"
      },
      "execution_count": null,
      "outputs": []
    },
    {
      "cell_type": "markdown",
      "source": [
        "###Definimos el modelo a utilizar (modelo EfficientNet preentrenado + FF)"
      ],
      "metadata": {
        "id": "nu7RMG7vO2gJ"
      }
    },
    {
      "cell_type": "code",
      "source": [
        "class PAPModel(nn.Module):\n",
        "    def get_sequential(num_ftrs):\n",
        "        linear_layers = nn.Sequential(\n",
        "                nn.BatchNorm1d(num_features=num_ftrs),\n",
        "                nn.Linear(num_ftrs, 1024),\n",
        "                nn.ReLU(),\n",
        "                nn.BatchNorm1d(1024),\n",
        "                nn.Dropout(0.4),\n",
        "                nn.Linear(1024, 256),\n",
        "                nn.ReLU(),\n",
        "                nn.BatchNorm1d(num_features=256),\n",
        "                nn.Dropout(0.4),\n",
        "                nn.Linear(256, 4),\n",
        "            )\n",
        "        return linear_layers\n",
        "\n",
        "    def __init__(self, model_name=None, model=None, input_size=None):\n",
        "        super().__init__()\n",
        "\n",
        "        self.model_name = model_name\n",
        "        self.model = copy.deepcopy(model)\n",
        "        self.IS = input_size\n",
        "\n",
        "        self.num_ftrs = self.model._fc.in_features\n",
        "        self.model._fc = PAPModel.get_sequential(self.num_ftrs)\n",
        "\n",
        "    def forward(self, xb):\n",
        "        return self.model(xb)\n",
        "\n",
        "    #Función para congelar los parámetros del modelo preentrenado\n",
        "    def freeze(self):\n",
        "        for param in self.model.parameters():\n",
        "            param.requires_grad = False\n",
        "\n",
        "        for param in self.model._fc.parameters():\n",
        "            param.requires_grad = True\n",
        "\n",
        "    def unfreeze(self):\n",
        "        for param in self.model.parameters():\n",
        "            param.requires_grad = True\n",
        "\n",
        "model = PAPModel(model_name, models[model_name], image_sizes[model_name])\n",
        "model.to(device)"
      ],
      "metadata": {
        "id": "xSMcW_CQXyLn",
        "collapsed": true
      },
      "execution_count": null,
      "outputs": []
    },
    {
      "cell_type": "code",
      "source": [
        "criterion = nn.CrossEntropyLoss()\n",
        "optimizer = optim.Adam(model.parameters(), learning_rate)\n",
        "# optimizer = optim.Adam(model.model._fc.parameters(), learning_rate)\n",
        "#scheduler = torch.optim.lr_scheduler.ReduceLROnPlateau(optimizer, factor=0.5, patience=5, cooldown=1)"
      ],
      "metadata": {
        "id": "Q-F_c8plX_Ds"
      },
      "execution_count": null,
      "outputs": []
    },
    {
      "cell_type": "code",
      "source": [
        "wandb.init(\n",
        "    project = project_name,\n",
        "    name = experiment_name,\n",
        "    entity = '',\n",
        "    config={\n",
        "        \"baseModel\": model_name,\n",
        "        \"learning_rate\": learning_rate,\n",
        "        \"batch_size\": batch_size,\n",
        "        \"epochs\": epochs,\n",
        "        \"image_size\": image_sizes[model_name],\n",
        "        \"optimizer\": optimizer,\n",
        "        \"interpolation\": interpolation,\n",
        "    }\n",
        ")"
      ],
      "metadata": {
        "id": "mGeTZy_MYEmM"
      },
      "execution_count": null,
      "outputs": []
    },
    {
      "cell_type": "code",
      "source": [
        "train_dl, valid_dl = get_train_dl(train_data, batch_size)"
      ],
      "metadata": {
        "id": "jbpdAuW7YHIR"
      },
      "execution_count": null,
      "outputs": []
    },
    {
      "cell_type": "markdown",
      "source": [
        "###Entrenamos el modelo y nos guardamos el mejor según la función de pérdida"
      ],
      "metadata": {
        "id": "TTidxKGOPe8e"
      }
    },
    {
      "cell_type": "code",
      "source": [
        "best_val_score = 0\n",
        "lowest_val_loss = float('inf')\n",
        "best_epoch = 0\n",
        "patience = 10\n",
        "patience_counter = 0\n",
        "\n",
        "for epoch in range(epochs):\n",
        "\n",
        "    #Entrenamiento\n",
        "    running_loss = 0.0\n",
        "    train_correct = 0\n",
        "    TP_total = torch.zeros(4).to(device)\n",
        "    TN_total = torch.zeros(4).to(device)\n",
        "    FP_total = torch.zeros(4).to(device)\n",
        "    FN_total = torch.zeros(4).to(device)\n",
        "    total = 0\n",
        "\n",
        "    model.train()\n",
        "\n",
        "    for i, data in enumerate(train_dl, 0):\n",
        "        inputs, labels = data[0].to(device), data[1].to(device)\n",
        "        labels = labels.squeeze().long()\n",
        "\n",
        "        optimizer.zero_grad()\n",
        "\n",
        "        outputs = model(inputs)\n",
        "        loss = criterion(outputs, labels)\n",
        "        loss.backward()\n",
        "        optimizer.step()\n",
        "\n",
        "        running_loss += loss.item()\n",
        "        total += labels.size(0)\n",
        "\n",
        "        _, predicted = torch.max(outputs, 1)\n",
        "\n",
        "        for i in range(4):  # Para cada clase\n",
        "            TP_total[i] += ((predicted == i) & (labels == i)).sum().item()\n",
        "            TN_total[i] += ((predicted != i) & (labels != i)).sum().item()\n",
        "            FP_total[i] += ((predicted == i) & (labels != i)).sum().item()\n",
        "            FN_total[i] += ((predicted != i) & (labels == i)).sum().item()\n",
        "\n",
        "\n",
        "    train_score = compute_metrics(TP_total, TN_total, FP_total, FN_total)\n",
        "    running_loss = running_loss/total\n",
        "\n",
        "    #Validación\n",
        "    val_correct = 0\n",
        "    total = 0\n",
        "    val_loss = 0\n",
        "    TP_total = torch.zeros(4).to(device)\n",
        "    TN_total = torch.zeros(4).to(device)\n",
        "    FP_total = torch.zeros(4).to(device)\n",
        "    FN_total = torch.zeros(4).to(device)\n",
        "\n",
        "    with torch.no_grad():\n",
        "        for data in valid_dl:\n",
        "            images, labels = data[0].to(device), data[1].to(device)\n",
        "            labels = labels.squeeze().long()\n",
        "            outputs = model(images)\n",
        "            total += labels.size(0)\n",
        "\n",
        "            val_loss += criterion(outputs, labels).item()\n",
        "            _, predicted = torch.max(outputs, 1)\n",
        "\n",
        "            for i in range(4):  # Para cada clase\n",
        "                TP_total[i] += ((predicted == i) & (labels == i)).sum().item()\n",
        "                TN_total[i] += ((predicted != i) & (labels != i)).sum().item()\n",
        "                FP_total[i] += ((predicted == i) & (labels != i)).sum().item()\n",
        "                FN_total[i] += ((predicted != i) & (labels == i)).sum().item()\n",
        "\n",
        "\n",
        "\n",
        "    val_score = compute_metrics(TP_total, TN_total, FP_total, FN_total)\n",
        "    val_loss = val_loss / total\n",
        "    #scheduler.step(val_loss)\n",
        "\n",
        "    print(f'{epoch + 1} / {epochs}, lr: {optimizer.param_groups[0][\"lr\"]:.6f}, train loss: {running_loss:.3f}, val loss: {val_loss:.3f}, train_score: {train_score}, val_score: {val_score}')\n",
        "\n",
        "    wandb.log({ \"train_score\": train_score, \"val_score\": val_score, \"train_loss\": running_loss,\n",
        "             \"val_loss\": val_loss})\n",
        "\n",
        "    #Si la pérdida en validación fue más baja guardamos ese modelo\n",
        "    if val_loss < lowest_val_loss:\n",
        "        best_epoch = epoch\n",
        "        lowest_val_loss = val_loss\n",
        "        patience_counter = 0\n",
        "        torch.save(model.state_dict(), f'{experiment_name}.pth')\n",
        "        print(f\"Guardando el modelo para la época {epoch + 1}, val_loss: {val_loss:.4f}\")\n",
        "    else:\n",
        "        patience_counter += 1\n",
        "        print(f\"No hubo mejora en la validación. Paciencia: {patience_counter}/{patience}\")\n",
        "\n",
        "    if patience_counter >= patience:\n",
        "        print(\"Early stopping activado. Fin del entrenamiento.\")\n",
        "        break\n",
        "\n",
        "print(f'Best Loss: {str(lowest_val_loss)}.')\n",
        "print(f'Best Epoch: {str(best_epoch)}.')\n",
        "print('Finished Training')"
      ],
      "metadata": {
        "id": "AelIT1Q9YJIf"
      },
      "execution_count": null,
      "outputs": []
    },
    {
      "cell_type": "code",
      "source": [
        "wandb.finish()"
      ],
      "metadata": {
        "id": "TTI2D85mZDT-"
      },
      "execution_count": null,
      "outputs": []
    },
    {
      "cell_type": "markdown",
      "source": [
        "#### Cargamos el mejor modelo"
      ],
      "metadata": {
        "id": "AZEqHnkXQD0e"
      }
    },
    {
      "cell_type": "code",
      "source": [
        "PATH = './' + experiment_name + '.pth'\n",
        "model.load_state_dict(torch.load(PATH, weights_only=True))"
      ],
      "metadata": {
        "id": "hSsYz6y_YTzy"
      },
      "execution_count": null,
      "outputs": []
    },
    {
      "cell_type": "markdown",
      "source": [
        "###Utilizamos el mejor modelo para evaluar en el dataset de test"
      ],
      "metadata": {
        "id": "-RqQqmi8QH9j"
      }
    },
    {
      "cell_type": "code",
      "source": [
        "test_dl = get_test_dl(test_data, batch_size=len(test_data))"
      ],
      "metadata": {
        "id": "n7i6kiQCpl_U"
      },
      "execution_count": null,
      "outputs": []
    },
    {
      "cell_type": "code",
      "source": [
        "model.eval()\n",
        "\n",
        "all_preds = []\n",
        "all_labels = []\n",
        "\n",
        "TP_total = torch.zeros(4).to(device)\n",
        "TN_total = torch.zeros(4).to(device)\n",
        "FP_total = torch.zeros(4).to(device)\n",
        "FN_total = torch.zeros(4).to(device)\n",
        "\n",
        "with torch.no_grad():\n",
        "  for data in test_dl:\n",
        "      images, labels = data[0].to(device), data[1].to(device)\n",
        "      outputs = model(images)\n",
        "      _, predicted = torch.max(outputs, 1)\n",
        "      labels = labels.squeeze().long()\n",
        "\n",
        "      all_preds.extend(predicted.cpu().numpy().flatten())\n",
        "      all_labels.extend(labels.cpu().numpy().flatten())\n",
        "\n",
        "      for i in range(4):\n",
        "        TP_total[i] = ((predicted.cpu() == i) & (labels.cpu() == i)).sum()\n",
        "        TN_total[i] = ((predicted.cpu() != i) & (labels.cpu() != i)).sum()\n",
        "        FP_total[i] = ((predicted.cpu() == i) & (labels.cpu() != i)).sum()\n",
        "        FN_total[i] = ((predicted.cpu() != i) & (labels.cpu() == i)).sum()\n",
        "\n",
        "  for i in range(len(labels)):\n",
        "    label = labels[i].cpu().item()  # Obtener el valor de la etiqueta\n",
        "    prediction = predicted[i].cpu().item()  # Obtener el valor de la predicción\n",
        "    print(f\"Label = {label}, Predicción = {prediction}\")"
      ],
      "metadata": {
        "id": "OSYLRjYNYVXj"
      },
      "execution_count": null,
      "outputs": []
    },
    {
      "cell_type": "markdown",
      "source": [
        "####Hacemos la matriz de confusión para los resultados de test e imprimimos las métricas"
      ],
      "metadata": {
        "id": "k68PU48SQVVd"
      }
    },
    {
      "cell_type": "code",
      "source": [
        "confusionMatrix(all_preds, all_labels)\n",
        "print(compute_metrics(TP_total, TN_total, FP_total, FN_total))"
      ],
      "metadata": {
        "id": "MK_lids8YW-v"
      },
      "execution_count": null,
      "outputs": []
    }
  ]
}